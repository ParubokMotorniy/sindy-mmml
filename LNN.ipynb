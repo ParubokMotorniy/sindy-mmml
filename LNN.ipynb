{
  "cells": [
    {
      "cell_type": "markdown",
      "metadata": {},
      "source": [
        "## LNN approach for learning dynamic for single pendulum"
      ]
    },
    {
      "cell_type": "code",
      "execution_count": null,
      "metadata": {
        "id": "ZmHkOg-KSrWl"
      },
      "outputs": [],
      "source": [
        "\n",
        "import random\n",
        "import os\n",
        "import torch\n",
        "import torch.nn as nn\n",
        "import torch.optim as optim\n",
        "import numpy as np\n",
        "import matplotlib.pyplot as plt\n",
        "import matplotlib.animation as animation\n",
        "import numpy as np\n",
        "from copy import copy\n",
        "from utils import *\n",
        "\n",
        "def fix_seed(seed=42):\n",
        "    random.seed(seed)\n",
        "    np.random.seed(seed)\n",
        "    torch.manual_seed(seed)\n",
        "    torch.cuda.manual_seed(seed)\n",
        "    torch.cuda.manual_seed_all(seed)\n",
        "    torch.backends.cudnn.deterministic = True\n",
        "    torch.backends.cudnn.benchmark = False\n",
        "    os.environ['PYTHONHASHSEED'] = str(seed)\n",
        "\n",
        "fix_seed(42)\n"
      ]
    },
    {
      "cell_type": "markdown",
      "metadata": {
        "id": "bo_jxAWz7WtQ"
      },
      "source": [
        "We have to generate data. We have the second-order differential equation that describes the motion of a simple pendulum:\n",
        "\\begin{equation}\n",
        "\\frac{d^2\\theta}{dt^2} + \\frac{g}{L} \\sin \\theta = 0\n",
        "\\end{equation}\n",
        "We can transform this into a system of first-order equations by introducing the angular velocity $\\omega = \\frac{d\\theta}{dt}$. This gives us:\n",
        "\\begin{align}\n",
        "\\frac{d\\omega}{dt} &= -\\frac{g}{L} \\sin \\theta \\\\\n",
        "\\frac{d\\theta}{dt} &= \\omega\n",
        "\\end{align}\n",
        "Using the dot notation for time derivatives ($\\dot{\\theta} = \\frac{d\\theta}{dt}$ and $\\dot{\\omega} = \\frac{d\\omega}{dt}$), the system can also be written as:\n",
        "\\begin{align}\n",
        "\\dot{\\theta} &= \\omega \\\\\n",
        "\\dot{\\omega} &= -\\frac{g}{L} \\sin \\theta\n",
        "\\end{align}\n",
        "\n",
        "We will use it and RK45 method for integration. RK45 is adaptive step-size Runge-Kutta method"
      ]
    },
    {
      "cell_type": "code",
      "execution_count": 211,
      "metadata": {
        "id": "ldMBzy58SrWm"
      },
      "outputs": [],
      "source": [
        "L = 4\n",
        "M = 2\n",
        "G = 9.8\n",
        "simulation_duration = 10\n",
        "\n",
        "dt = .01\n",
        "rk_integrator_args = {}\n",
        "rk_integrator_args['rtol'] = 1e-13\n",
        "rk_integrator_args['method'] = 'RK45'\n",
        "rk_integrator_args['atol'] = 1e-10\n",
        "\n",
        "odeint_integrator_args = {}\n",
        "odeint_integrator_args['rtol'] = 1e-13\n",
        "odeint_integrator_args['atol'] = 1e-10\n",
        "odeint_integrator_args['full_output'] = 1"
      ]
    },
    {
      "cell_type": "markdown",
      "metadata": {
        "id": "DRQAZbBQ_ZLA"
      },
      "source": [
        "Generate training data with an initial angle of 80 degrees and zero angular velocity."
      ]
    },
    {
      "cell_type": "code",
      "execution_count": 212,
      "metadata": {
        "id": "EiY32NsUSrWn"
      },
      "outputs": [],
      "source": [
        "t_train = np.arange(0, simulation_duration, dt)\n",
        "initial_pendulum_config = np.array([np.deg2rad(80), 0])\n",
        "x_train_theta, train_joints_over_time, x_train = compute_thetas_over_time(simulation_duration, dt, initial_pendulum_config, rk_integrator_args, G, L)"
      ]
    },
    {
      "cell_type": "markdown",
      "metadata": {
        "id": "F2JF5LOPAPiC"
      },
      "source": [
        "Generate training data with an initial angle of 65 degrees and zero angular velocity. Train and test data is different to check generalizability"
      ]
    },
    {
      "cell_type": "code",
      "execution_count": 213,
      "metadata": {
        "id": "QXWzYEjrSrWn"
      },
      "outputs": [],
      "source": [
        "t_test = np.arange(0, simulation_duration, dt)\n",
        "test_initial_pendulum_config = np.array([np.deg2rad(65),0])\n",
        "x_test_theta ,test_joints_over_time,x_test = compute_thetas_over_time(simulation_duration, dt, test_initial_pendulum_config, rk_integrator_args, G, L)"
      ]
    },
    {
      "cell_type": "markdown",
      "metadata": {
        "id": "hMAVU8-KAink"
      },
      "source": [
        "Find true derivatives (in this appproach we will use only second derivative)"
      ]
    },
    {
      "cell_type": "code",
      "execution_count": 214,
      "metadata": {
        "id": "58g01ucCZm8_"
      },
      "outputs": [],
      "source": [
        "true_derivatives = []\n",
        "for i in range(len(t_train)):\n",
        "    true_derivatives.append(pendulum_motion(t_train[i], x_train.T[i], G, L))\n",
        "\n",
        "true_derivatives=np.array(true_derivatives)"
      ]
    },
    {
      "cell_type": "markdown",
      "metadata": {
        "id": "Gfmn9_9-A5Yb"
      },
      "source": [
        "In paper, we stated that in order to satisfy Euler-\n",
        "Lagrange equation:\n",
        "\\begin{equation}\n",
        "\\frac{d}{dt} \\frac{\\partial \\mathcal{L}}{\\partial \\dot{q}_j} = \\frac{\\partial \\mathcal{L}}{\\partial q_j}\n",
        "\\end{equation}\n",
        "\n",
        "We can using differentiation find second derivative like following.\n",
        "\\begin{equation}\n",
        "\\ddot{q} = \\left( \\nabla_{\\dot{q}} \\nabla_{\\dot{q}}^\\top \\mathcal{L} \\right)^{-1} \\left[ \\nabla_q \\mathcal{L} - \\left( \\nabla_q \\nabla_{\\dot{q}}^\\top \\mathcal{L} \\right) \\dot{q} \\right]\n",
        "\\end{equation}\n",
        "\n",
        "However, in our case (a single pendulum), we have only one generalized coordinate $\\theta$ and its first time derivative $\\dot{\\theta}$. Therefore, we can rewrite the equation as:\n",
        "\\begin{equation}\n",
        "\\ddot{\\theta} = \\left( \\frac{\\partial^2 \\mathcal{L}}{\\partial \\dot{\\theta}^2} \\right)^{-1} \\left[ \\frac{\\partial \\mathcal{L}}{\\partial \\theta} - \\left( \\frac{\\partial^2 \\mathcal{L}}{\\partial \\theta \\partial \\dot{\\theta}} \\right) \\dot{\\theta} \\right]\n",
        "\\end{equation}\n",
        "\n",
        "This will gives us system that will satisfy Euler-\n",
        "Lagrange equation.\n"
      ]
    },
    {
      "cell_type": "code",
      "execution_count": 215,
      "metadata": {
        "id": "ZU9W402pdWdR"
      },
      "outputs": [],
      "source": [
        "import torch.nn as nn\n",
        "import torch.optim as optim\n",
        "from torch.utils.data import Dataset, DataLoader\n",
        "import matplotlib.pyplot as plt\n",
        "\n",
        "class PendulumDataset(Dataset):\n",
        "    def __init__(self, data, targets):\n",
        "        self.inputs = torch.tensor(data.T, dtype=torch.float32)\n",
        "        self.targets = torch.tensor(targets[:, 1], dtype=torch.float32).unsqueeze(1)\n",
        "\n",
        "    def __len__(self):\n",
        "        return len(self.inputs)\n",
        "\n",
        "    def __getitem__(self, idx):\n",
        "        return self.inputs[idx], self.targets[idx]\n",
        "\n",
        "class LagrangianNN(nn.Module):\n",
        "    def __init__(self):\n",
        "        super().__init__()\n",
        "        self.net = nn.Sequential(\n",
        "            nn.Linear(2, 128),\n",
        "            nn.Softplus(),\n",
        "            nn.Linear(128, 128),\n",
        "            nn.Softplus(),\n",
        "            nn.Linear(128, 1)\n",
        "        )\n",
        "\n",
        "    def forward(self, x):\n",
        "        return self.net(x)\n",
        "\n",
        "    def get_lagrangian_derivatives(self, x):\n",
        "        \"\"\"Use input x to calculate first and second derivatives of lagrangian with respect to x\"\"\"\n",
        "        x = x.clone().detach().requires_grad_(True)\n",
        "        L = self.forward(x)\n",
        "\n",
        "        dL_dx = torch.autograd.grad(L, x, grad_outputs=torch.ones_like(L), create_graph=True)[0]\n",
        "        dL_dtheta = dL_dx[:, 0:1]\n",
        "        dL_domega = dL_dx[:, 1:2]\n",
        "\n",
        "        d2L_domega2 = torch.autograd.grad(dL_domega, x, grad_outputs=torch.ones_like(dL_domega), create_graph=True)[0][:, 1:2]\n",
        "        d2L_dtheta_domega = torch.autograd.grad(dL_dtheta, x, grad_outputs=torch.ones_like(dL_dtheta), create_graph=True)[0][:, 1:2]\n",
        "\n",
        "        return d2L_domega2, dL_dtheta, d2L_dtheta_domega\n",
        "\n",
        "    def lagrangian_dynamics_hessian(self, x):\n",
        "        \"\"\"For given input x, calculate ddot_theta using derivatives of learned lagrangian\"\"\"\n",
        "        d2L_domega2, dL_dtheta, d2L_dtheta_domega = self.get_lagrangian_derivatives(x)\n",
        "        omega = x[:, 1:2]\n",
        "        ddot_theta = (dL_dtheta - d2L_dtheta_domega * omega) / d2L_domega2\n",
        "        return ddot_theta\n",
        "\n",
        "    def train_lnn_hessian(self, dataloader, epochs=1000, lr=0.001):\n",
        "        \"\"\"Train LNN model\"\"\"\n",
        "        optimizer = optim.Adam(self.parameters(), lr=lr)\n",
        "        criterion = nn.MSELoss()\n",
        "        loss_history = []\n",
        "\n",
        "        for epoch in range(epochs):\n",
        "            total_loss = 0\n",
        "            for x_batch, y_batch in dataloader:\n",
        "                optimizer.zero_grad()\n",
        "                predicted_ddot = self.lagrangian_dynamics_hessian(x_batch)\n",
        "                loss = criterion(predicted_ddot, y_batch)\n",
        "                loss.backward()\n",
        "                optimizer.step()\n",
        "                total_loss += loss.item() * len(x_batch)\n",
        "\n",
        "            avg_loss = total_loss / len(dataloader.dataset)\n",
        "            loss_history.append(avg_loss)\n",
        "            if epoch % 10 == 0:\n",
        "                print(f\"Epoch {epoch}/{epochs}, Loss: {avg_loss:.6f}\")\n",
        "        return loss_history\n"
      ]
    },
    {
      "cell_type": "code",
      "execution_count": 216,
      "metadata": {
        "colab": {
          "base_uri": "https://localhost:8080/",
          "height": 646
        },
        "id": "6CkCAaOIdhci",
        "outputId": "07343d73-f09f-4dd4-98a9-a4548ff2d068"
      },
      "outputs": [
        {
          "name": "stdout",
          "output_type": "stream",
          "text": [
            "Epoch 0/100, Loss: 1.194103\n",
            "Epoch 10/100, Loss: 0.000565\n",
            "Epoch 20/100, Loss: 0.000259\n",
            "Epoch 30/100, Loss: 0.000259\n",
            "Epoch 40/100, Loss: 0.000199\n",
            "Epoch 50/100, Loss: 0.000126\n",
            "Epoch 60/100, Loss: 0.000334\n",
            "Epoch 70/100, Loss: 0.000130\n",
            "Epoch 80/100, Loss: 0.000106\n",
            "Epoch 90/100, Loss: 0.000286\n"
          ]
        },
        {
          "data": {
            "image/png": "[encoded data removed]",
            "text/plain": [
              "<Figure size 640x480 with 1 Axes>"
            ]
          },
          "metadata": {},
          "output_type": "display_data"
        }
      ],
      "source": [
        "dataset = PendulumDataset(x_train, true_derivatives)\n",
        "dataloader = DataLoader(dataset, batch_size=32, shuffle=True)\n",
        "\n",
        "lnn_model = LagrangianNN()\n",
        "loss = lnn_model.train_lnn_hessian(dataloader, epochs=100, lr=0.0005)\n",
        "\n",
        "plt.plot(range(len(loss)), loss)\n",
        "plt.xlabel(\"Epoch\")\n",
        "plt.ylabel(\"Loss\")\n",
        "plt.title(\"Training Loss (LNN)\")\n",
        "plt.show()\n"
      ]
    },
    {
      "cell_type": "code",
      "execution_count": 217,
      "metadata": {
        "id": "XKdLydTz4tsN"
      },
      "outputs": [],
      "source": [
        "def learned_pendulum_dynamics(y, t, model):\n",
        "    \"\"\"Use learned differential equation\"\"\"\n",
        "    y_tensor = torch.tensor(y, dtype=torch.float32).unsqueeze(0)\n",
        "    ddot_theta = model.lagrangian_dynamics_hessian(y_tensor).squeeze().item()\n",
        "    return [y[1], ddot_theta]\n"
      ]
    },
    {
      "cell_type": "markdown",
      "metadata": {
        "id": "1qk3qUAO6cud"
      },
      "source": [
        "Integrating to find θ at each time step, we use the odeint integrator, which adapts the method to the stiffness of the ODE. It is also the default choice for SINDy."
      ]
    },
    {
      "cell_type": "code",
      "execution_count": 218,
      "metadata": {
        "id": "VDmU7MDX4xms"
      },
      "outputs": [],
      "source": [
        "from scipy.integrate import odeint\n",
        "test_initial_pendulum_config = np.array([np.deg2rad(65), 0.0])\n",
        "t = np.arange(0, simulation_duration, 0.01)\n",
        "solution = odeint(learned_pendulum_dynamics, test_initial_pendulum_config, t, args=(lnn_model,))\n"
      ]
    },
    {
      "cell_type": "markdown",
      "metadata": {
        "id": "tgqXLYXY6oq9"
      },
      "source": [
        "Visualize theta acceleration"
      ]
    },
    {
      "cell_type": "code",
      "execution_count": 219,
      "metadata": {
        "colab": {
          "base_uri": "https://localhost:8080/",
          "height": 447
        },
        "id": "fJNuJmYT33zo",
        "outputId": "c964bfa0-2142-4ea0-9004-3453b34d751a"
      },
      "outputs": [
        {
          "data": {
            "text/plain": [
              "[<matplotlib.lines.Line2D at 0x7f6ea4cc8190>]"
            ]
          },
          "execution_count": 219,
          "metadata": {},
          "output_type": "execute_result"
        },
        {
          "data": {
            "image/png": "[encoded data removed]",
            "text/plain": [
              "<Figure size 640x480 with 1 Axes>"
            ]
          },
          "metadata": {},
          "output_type": "display_data"
        }
      ],
      "source": [
        "plt.plot(range(len(solution[:, 1])), solution[:, 1])"
      ]
    },
    {
      "cell_type": "markdown",
      "metadata": {
        "id": "Ie3r1f6w68Y0"
      },
      "source": [
        "Make visualization of learned dynamic and save into file"
      ]
    },
    {
      "cell_type": "code",
      "execution_count": 220,
      "metadata": {
        "id": "jBCqLWKOUnqQ"
      },
      "outputs": [],
      "source": [
        "informed_simulation = solution.T\n",
        "informed_simulation[0] = loop_around_angles(informed_simulation[0])\n",
        "joints_over_time_informed = compute_joints_position(informed_simulation[0], L)"
      ]
    },
    {
      "cell_type": "code",
      "execution_count": 221,
      "metadata": {
        "id": "uFqoQmyVhoyy"
      },
      "outputs": [],
      "source": [
        "animate_pendulum_versus(test_joints_over_time, joints_over_time_informed,\"our_informed_single_pendulum.mp4\", interval=0.003, fps=240)"
      ]
    }
  ],
  "metadata": {
    "colab": {
      "provenance": []
    },
    "kernelspec": {
      "display_name": ".venv",
      "language": "python",
      "name": "python3"
    },
    "language_info": {
      "codemirror_mode": {
        "name": "ipython",
        "version": 3
      },
      "file_extension": ".py",
      "mimetype": "text/x-python",
      "name": "python",
      "nbconvert_exporter": "python",
      "pygments_lexer": "ipython3",
      "version": "3.10.11"
    }
  },
  "nbformat": 4,
  "nbformat_minor": 0
}
