{
 "cells": [
  {
   "cell_type": "code",
   "execution_count": 1,
   "metadata": {},
   "outputs": [],
   "source": [
    "import pysindy as ps\n",
    "import numpy as np\n",
    "import matplotlib.pyplot as plt\n",
    "import math\n",
    "import matplotlib.animation as animation\n",
    "\n",
    "from scipy.integrate import solve_ivp\n",
    "\n",
    "%matplotlib inline"
   ]
  },
  {
   "cell_type": "markdown",
   "metadata": {},
   "source": [
    "## Generating data"
   ]
  },
  {
   "cell_type": "code",
   "execution_count": 2,
   "metadata": {},
   "outputs": [],
   "source": [
    "L1 = L2 = 4\n",
    "M1 = M2 = 2\n",
    "G = 9.8\n",
    "simulation_duration = 2\n",
    "\n",
    "dt = .01\n",
    "rk_integrator_args = {}\n",
    "rk_integrator_args['rtol'] = 1e-13\n",
    "rk_integrator_args['method'] = 'RK45'\n",
    "rk_integrator_args['atol'] = 1e-10"
   ]
  },
  {
   "cell_type": "code",
   "execution_count": 3,
   "metadata": {},
   "outputs": [],
   "source": [
    "def pendulum_motion(t, input):\n",
    "    theta_1, theta_2, omega_1, omega_2 = input\n",
    "    \n",
    "    d_theta_1 = omega_1\n",
    "    d_theta_2 = omega_2\n",
    "    \n",
    "    d_omega_1 = (-G * (2*M1 + M2)*np.sin(theta_1) - M2 * G * np.sin(theta_1 - 2 * theta_2) - 2*np.sin(theta_1-theta_2)*M2*(omega_2**2 * L2 + omega_1**2 * L1*np.cos(theta_1-theta_2)))/(L1 * (2* M1 + M2 - M2*np.cos(2*theta_1 - 2*theta_2)))\n",
    "    d_omega_2 = (2*np.sin(theta_1 - theta_2)*(omega_1**2*L1*(M1+M2) + G*(M1+M2)*np.cos(theta_1) + omega_2*L2*M2*np.cos(theta_1 - theta_2)))/(L2 * (2* M1 + M2 - M2*np.cos(2*theta_1 - 2*theta_2)))\n",
    "    \n",
    "    d_f = np.array([d_theta_1, d_theta_2, d_omega_1, d_omega_2])\n",
    "        \n",
    "    return d_f"
   ]
  },
  {
   "cell_type": "code",
   "execution_count": 4,
   "metadata": {},
   "outputs": [],
   "source": [
    "def compute_joints_position(thetas_over_time: np.ndarray):\n",
    "    thetas_1, thetas_2 = thetas_over_time\n",
    "    x_1,y_1 = np.array([[L1 * np.sin(theta), -L1 * np.cos(theta)] for theta in thetas_1]).T\n",
    "    x_2,y_2 = np.array([(x + L2*np.sin(theta), y - L2*np.cos(theta)) for theta,x,y in zip(thetas_2, x_1, y_1)]).T\n",
    "    \n",
    "    return np.array([x_1, y_1, x_2, y_2])"
   ]
  },
  {
   "cell_type": "code",
   "execution_count": 5,
   "metadata": {},
   "outputs": [],
   "source": [
    "initial_pendulum_config = np.array([np.deg2rad(80),np.deg2rad(-30),0,0])\n",
    "\n",
    "t_train = np.arange(0, simulation_duration, dt)\n",
    "t_train_span = (t_train[0], t_train[-1])\n",
    "x_train = solve_ivp(pendulum_motion, t_train_span, initial_pendulum_config, t_eval=t_train, **rk_integrator_args).y\n",
    "\n",
    "x_train_theta = x_train[:2]\n",
    "x_train_omega = x_train[2:]\n",
    "\n",
    "train_joints_over_time = compute_joints_position(x_train_theta)"
   ]
  },
  {
   "cell_type": "code",
   "execution_count": 6,
   "metadata": {},
   "outputs": [],
   "source": [
    "test_initial_pendulum_config = np.array([np.deg2rad(65),np.deg2rad(-50),0,0])\n",
    "t_test = np.arange(0, simulation_duration, dt)\n",
    "t_test_span = (t_test[0], t_test[-1])\n",
    "x_test = solve_ivp(pendulum_motion, t_test_span, test_initial_pendulum_config, t_eval=t_test, **rk_integrator_args).y\n",
    "\n",
    "x_test_theta = x_test[:2]\n",
    "x_test_omega = x_test[2:]\n",
    "\n",
    "test_joints_over_time = compute_joints_position(x_test_theta)"
   ]
  },
  {
   "cell_type": "code",
   "execution_count": 7,
   "metadata": {},
   "outputs": [
    {
     "name": "stdout",
     "output_type": "stream",
     "text": [
      "(200, 4)\n"
     ]
    }
   ],
   "source": [
    "true_derivatives = []\n",
    "for i in range(len(t_train)):\n",
    "    true_derivatives.append(pendulum_motion(t_train[i], x_train.T[i]))\n",
    "    \n",
    "true_derivatives=np.array(true_derivatives)\n",
    "print(true_derivatives.shape)"
   ]
  },
  {
   "cell_type": "code",
   "execution_count": 8,
   "metadata": {},
   "outputs": [],
   "source": [
    "def animate_pendulum_double(data1, data2, filename='double_pendulum_versus.mp4', interval=50, fps=20):\n",
    "    x1_1, y1_1, x2_1, y2_1 = data1\n",
    "    x1_2, y1_2, x2_2, y2_2 = data2\n",
    "    n_frames = min(data1.shape[1], data2.shape[1])  # Make sure they match\n",
    "\n",
    "    fig, ax = plt.subplots()\n",
    "    all_x = [x1_1, x2_1, x1_2, x2_2]\n",
    "    all_y = [y1_1, y2_1, y1_2, y2_2]\n",
    "    ax.set_xlim(min(map(np.min, all_x)) - 1, max(map(np.max, all_x)) + 1)\n",
    "    ax.set_ylim(min(map(np.min, all_y)) - 1, max(map(np.max, all_y)) + 1)\n",
    "    ax.set_aspect('equal')\n",
    "    ax.set_title('Double Pendulums Side by Side')\n",
    "\n",
    "    line1, = ax.plot([], [], 'o-', lw=2, label=\"True pendulum\", color='blue')\n",
    "    line2, = ax.plot([], [], 'o-', lw=2, label=\"Estimated pendulum\", color='red')\n",
    "    ax.legend()\n",
    "\n",
    "    def init():\n",
    "        line1.set_data([], [])\n",
    "        line2.set_data([], [])\n",
    "        return line1, line2\n",
    "\n",
    "    def update(i):\n",
    "        # Pendulum 1\n",
    "        x_vals1 = [0, x1_1[i], x2_1[i]]\n",
    "        y_vals1 = [0, y1_1[i], y2_1[i]]\n",
    "        line1.set_data(x_vals1, y_vals1)\n",
    "\n",
    "        # Pendulum 2\n",
    "        x_vals2 = [0, x1_2[i], x2_2[i]]\n",
    "        y_vals2 = [0, y1_2[i], y2_2[i]]\n",
    "        line2.set_data(x_vals2, y_vals2)\n",
    "\n",
    "        return line1, line2\n",
    "\n",
    "    ani = animation.FuncAnimation(fig, update, frames=n_frames,\n",
    "                                  init_func=init, blit=True, interval=interval)\n",
    "\n",
    "    writer = animation.FFMpegWriter(fps=fps)\n",
    "    ani.save(filename, writer=writer)\n",
    "    plt.close(fig)\n"
   ]
  },
  {
   "cell_type": "code",
   "execution_count": 9,
   "metadata": {},
   "outputs": [],
   "source": [
    "def draw_state_diagrams(true_thetas, estimated_thetas, plot_file_name):\n",
    "    fig, ax = plt.subplots(1, 1, sharex=True, figsize=(15, 7))\n",
    "    \n",
    "    true_theta_1, true_theta_2 = true_thetas\n",
    "    estimate_theta_1, estimate_theta_2 = estimated_thetas\n",
    "    \n",
    "    ax.plot(true_theta_1, true_theta_2, 'o-', lw=2, label=\"True pendulum\", color='blue')\n",
    "    ax.plot(estimate_theta_1, estimate_theta_2, 'o-', lw=2, label=\"Estimated pendulum\", color='red')\n",
    "    plt.title(\"Joint angles over time\")\n",
    "    plt.xlabel(\"Theta 1\")\n",
    "    plt.ylabel(\"Theta 2\")\n",
    "    plt.legend()\n",
    "    \n",
    "    plt.savefig(plot_file_name, dpi=1300)\n",
    "    plt.close()\n",
    "    "
   ]
  },
  {
   "cell_type": "code",
   "execution_count": 10,
   "metadata": {},
   "outputs": [],
   "source": [
    "def loop_around_angles(theta: np.ndarray):\n",
    "    return (np.abs(theta) % np.pi) * np.sign(theta)"
   ]
  },
  {
   "cell_type": "code",
   "execution_count": 11,
   "metadata": {},
   "outputs": [],
   "source": [
    "def animate_pendulum(data, filename='double_pendulum.mp4', interval=50, fps=20):\n",
    "    x1, y1, x2, y2 = data\n",
    "    n_frames = data.shape[1]\n",
    "\n",
    "    fig, ax = plt.subplots()\n",
    "    ax.set_xlim(np.min([x1, x2]) - 1, np.max([x1, x2]) + 1)\n",
    "    ax.set_ylim(np.min([y1, y2]) - 1, np.max([y1, y2]) + 1)\n",
    "    ax.set_aspect('equal')\n",
    "    ax.set_title('Double Pendulum Animation')\n",
    "\n",
    "    line, = ax.plot([], [], 'o-', lw=2)\n",
    "\n",
    "    def init():\n",
    "        line.set_data([], [])\n",
    "        return line,\n",
    "\n",
    "    def update(i):\n",
    "        this_x = [0, x1[i], x2[i]]\n",
    "        this_y = [0, y1[i], y2[i]]\n",
    "        line.set_data(this_x, this_y)\n",
    "        return line,\n",
    "\n",
    "    ani = animation.FuncAnimation(fig, update, frames=n_frames,\n",
    "                                  init_func=init, blit=True, interval=interval)\n",
    "\n",
    "    # Save animation\n",
    "    writer = animation.FFMpegWriter(fps=fps)\n",
    "    ani.save(filename, writer=writer)\n",
    "    plt.close(fig)\n"
   ]
  },
  {
   "cell_type": "code",
   "execution_count": 31,
   "metadata": {},
   "outputs": [],
   "source": [
    "def iteratively_fit_sindy(true_derivatives, dt, function_library, train_noise, if_fit_with_derivatives=False, max_t=1, num=50, **kwargs):\n",
    "    best_t = -1\n",
    "    best_score = -np.inf\n",
    "    best_alpha = -1\n",
    "    best_model = None\n",
    "    \n",
    "    train_data = x_train + train_noise if train_noise is not None else x_train\n",
    "\n",
    "    for t in np.linspace(1e-4, max_t, num):\n",
    "        for alpha in np.linspace(0.005, 0.9, 40):\n",
    "            model = ps.SINDy(feature_library=function_library,optimizer=ps.optimizers.STLSQ(threshold=t, max_iter=35, alpha=alpha, verbose=False),  feature_names=['theta_1', 'theta_2', 'omega_1', 'omega_2'], **kwargs)\n",
    "            \n",
    "            if if_fit_with_derivatives:\n",
    "                model.fit(np.nan_to_num(train_data, posinf=0, neginf=0, nan=0, copy=False).T, t=dt, x_dot=true_derivatives)\n",
    "            else:\n",
    "                model.fit(np.nan_to_num(train_data, posinf=0, neginf=0, nan=0, copy=False).T, t=dt)\n",
    "            \n",
    "            score = model.score(x_test.T, t=dt, x_dot=true_derivatives)\n",
    "                        \n",
    "            if(score > best_score):\n",
    "                best_score = score\n",
    "                best_t = t\n",
    "                best_model = model\n",
    "                best_alpha = alpha\n",
    "            \n",
    "    print(f\"Best threshold: {best_t}\")\n",
    "    print(f\"Best score: {best_score}\")\n",
    "    print(f\"Best alpha: {best_alpha}\")\n",
    "    best_model.print()\n",
    "    \n",
    "    return best_model "
   ]
  },
  {
   "cell_type": "markdown",
   "metadata": {},
   "source": [
    "# Fitting SINDy"
   ]
  },
  {
   "cell_type": "code",
   "execution_count": 13,
   "metadata": {},
   "outputs": [],
   "source": [
    "standard_trigon_lib = ps.feature_library.FourierLibrary(n_frequencies=2)\n",
    "standard_polynom_lib = ps.feature_library.PolynomialLibrary(degree=2,include_interaction=True, include_bias=False)\n",
    "powers = [i for i in range(1,3)]\n",
    "\n",
    "def compute_trigon_power(t_arg, t_func, power):\n",
    "    return np.nan_to_num(np.power(1 / t_func(t_arg), power), nan=0, neginf=0, posinf=0)\n",
    "\n",
    "def compute_power(arg, power):\n",
    "    return np.nan_to_num(np.power(1 / arg, power), nan=0, neginf=0, posinf=0)\n",
    "\n",
    "inverse_trigon = [\n",
    "    *[lambda x: compute_trigon_power(x, np.sin, power) for power in powers], \n",
    "    *[lambda x,y: compute_trigon_power(x*y, np.sin, power) for power in powers],\n",
    "    *[lambda x,y: compute_trigon_power(x/y, np.sin, power) for power in powers],\n",
    "    *[lambda x,y: compute_trigon_power(x + y, np.sin, power) for power in powers],\n",
    "    *[lambda x,y: compute_trigon_power(x - y, np.sin, power) for power in powers],\n",
    "    \n",
    "    *[lambda x: compute_trigon_power(x, np.cos, power) for power in powers], \n",
    "    *[lambda x,y: compute_trigon_power(x*y, np.cos, power) for power in powers],\n",
    "    *[lambda x,y: compute_trigon_power(x/y, np.cos, power) for power in powers],\n",
    "    *[lambda x,y: compute_trigon_power(x + y, np.cos, power) for power in powers],\n",
    "    *[lambda x,y: compute_trigon_power(x - y, np.cos, power) for power in powers],\n",
    "]\n",
    "\n",
    "inverse_trigon_names = [\n",
    "    *[lambda x: f\"(1/sin({x}))^{power}\" for power in powers], \n",
    "    *[lambda x,y: f\"(1/sin({x}*{y}))^{power}\" for power in powers],\n",
    "    *[lambda x,y: f\"(1/sin({x}/{y}))^{power}\" for power in powers],\n",
    "    *[lambda x,y: f\"(1/sin({x}+{y}))^{power}\" for power in powers],\n",
    "    *[lambda x,y: f\"(1/sin({x}-{y}))^{power}\" for power in powers],\n",
    "    \n",
    "    *[lambda x: f\"(1/cos({x}))^{power}\" for power in powers], \n",
    "    *[lambda x,y: f\"(1/cos({x}*{y}))^{power}\" for power in powers],\n",
    "    *[lambda x,y: f\"(1/cos({x}/{y}))^{power}\" for power in powers],\n",
    "    *[lambda x,y: f\"(1/cos({x}+{y}))^{power}\" for power in powers],\n",
    "    *[lambda x,y: f\"(1/cos({x}-{y}))^{power}\" for power in powers],\n",
    "]\n",
    "\n",
    "inverse_polynom = [\n",
    "    *[lambda x: compute_power(x, power) for power in powers], \n",
    "    *[lambda x,y: compute_power(x*y, power) for power in powers],\n",
    "    *[lambda x,y: compute_power(x/y, power) for power in powers],\n",
    "    *[lambda x,y: compute_power(x+y, power) for power in powers],\n",
    "    *[lambda x,y: compute_power(x-y, power) for power in powers]\n",
    "]\n",
    "\n",
    "inverse_polynom_names = [\n",
    "    *[lambda x: f\"(1/{x})^{power}\" for power in powers], \n",
    "    *[lambda x,y: f\"(1/{x}*{y})^{power}\" for power in powers],\n",
    "    *[lambda x,y: f\"(1/{x}/{y})^{power}\" for power in powers],\n",
    "    *[lambda x,y: f\"(1/{x}+{y})^{power}\" for power in powers],\n",
    "    *[lambda x,y: f\"(1/{x}-{y})^{power}\" for power in powers]\n",
    "]\n",
    "\n",
    "custom_trigon_lib = ps.feature_library.CustomLibrary(library_functions=inverse_trigon, function_names=inverse_trigon_names, interaction_only=False)\n",
    "custom_polynom_lib = ps.feature_library.CustomLibrary(library_functions=inverse_polynom, function_names=inverse_polynom_names, interaction_only=False)\n",
    "\n",
    "# standard_lib =  standard_trigon_lib + standard_polynom_lib\n",
    "# all_libs =  custom_trigon_lib * standard_lib + custom_polynom_lib * standard_lib + standard_lib + standard_trigon_lib * standard_polynom_lib  \n",
    "all_libs =  standard_trigon_lib + standard_polynom_lib + standard_trigon_lib * standard_polynom_lib "
   ]
  },
  {
   "cell_type": "markdown",
   "metadata": {},
   "source": [
    "## Differentiating on-the-fly"
   ]
  },
  {
   "cell_type": "code",
   "execution_count": 14,
   "metadata": {},
   "outputs": [
    {
     "name": "stdout",
     "output_type": "stream",
     "text": [
      " Iteration ... |y - Xw|^2 ...  a * |w|_2 ...      |w|_0 ... Total error: |y - Xw|^2 + a * |w|_2\n"
     ]
    },
    {
     "name": "stdout",
     "output_type": "stream",
     "text": [
      "         0 ... 1.7163e+02 ... 6.7030e-02 ...        335 ... 1.7169e+02\n",
      "         1 ... 3.2767e+00 ... 7.2139e-02 ...        311 ... 3.3488e+00\n",
      "         2 ... 6.0532e-01 ... 7.2693e-02 ...        305 ... 6.7802e-01\n",
      "         3 ... 8.0502e-01 ... 7.3767e-02 ...        303 ... 8.7878e-01\n",
      "         4 ... 9.8389e-03 ... 7.3841e-02 ...        303 ... 8.3680e-02\n",
      "(theta_1)' = 0.034 sin(1 omega_1) + 0.006 sin(2 omega_1) + 1.048 omega_1 + -0.021 sin(1 theta_1) theta_1 omega_1 + -0.106 cos(1 theta_1) omega_1 + -0.019 cos(1 theta_1) omega_1^2 + 0.002 cos(1 theta_2) omega_1 + 0.002 cos(1 theta_2) omega_1^2 + -0.025 sin(1 omega_1) theta_1^2 + 0.004 sin(1 omega_1) omega_1^2 + 0.001 sin(2 theta_2) theta_1 omega_1\n",
      "(theta_2)' = -0.016 sin(1 omega_2) + 1.023 omega_2 + 0.017 sin(1 theta_1) theta_1 omega_2 + -0.006 sin(1 theta_1) omega_2^2 + -0.008 cos(1 theta_2) omega_2 + -0.012 sin(1 omega_2) theta_1^2 + -0.001 sin(1 omega_2) omega_1^2 + 0.001 sin(1 omega_2) omega_2^2 + -0.004 cos(2 theta_1) omega_2^2\n",
      "(omega_1)' = 19804.658 sin(1 theta_1) + -41230.573 sin(1 omega_2) + -20489.708 cos(1 omega_2) + -49336.796 cos(2 theta_2) + 32375.718 cos(2 omega_1) + -405637.787 sin(2 omega_2) + 45924.333 cos(2 omega_2) + 36374.307 theta_1 + -38060.717 omega_2 + 180106.816 theta_1 omega_2 + -21477.687 omega_2^2 + 201120.888 sin(1 theta_1) omega_2 + 132723.809 sin(1 theta_1) theta_1^2 + -54753.591 sin(1 theta_1) theta_1 theta_2 + 195.681 sin(1 theta_1) theta_1 omega_2 + -170630.532 sin(1 theta_1) omega_1^2 + 52585.411 sin(1 theta_1) omega_1 omega_2 + 109767.833 sin(1 theta_1) omega_2^2 + 39161.215 cos(1 theta_1) omega_1^2 + -81141.515 cos(1 theta_1) omega_1 omega_2 + 44066.612 cos(1 theta_1) omega_2^2 + 13274.047 sin(1 theta_2) theta_1^2 + -101893.597 sin(1 theta_2) omega_1^2 + 20494.783 sin(1 theta_2) omega_1 omega_2 + -162065.100 sin(1 theta_2) omega_2^2 + 4459.217 cos(1 theta_2) theta_1 + -56433.640 cos(1 theta_2) omega_2 + 202113.450 cos(1 theta_2) theta_1 omega_2 + 14842.403 cos(1 theta_2) omega_1^2 + -70381.927 cos(1 theta_2) omega_1 omega_2 + -103918.577 cos(1 theta_2) omega_2^2 + 42246.337 sin(1 omega_1) theta_1 + 21979.174 sin(1 omega_1) theta_2 + 89060.048 sin(1 omega_1) theta_1^2 + 59602.621 sin(1 omega_1) theta_1 omega_1 + -6938.999 sin(1 omega_1) theta_1 omega_2 + 91592.694 sin(1 omega_1) theta_2^2 + 61263.290 sin(1 omega_1) theta_2 omega_1 + -163682.046 sin(1 omega_1) theta_2 omega_2 + 851.952 sin(1 omega_1) omega_1^2 + 81606.671 cos(1 omega_1) theta_1 + -79653.905 cos(1 omega_1) theta_2 + 45859.142 cos(1 omega_1) omega_1 + -13720.952 cos(1 omega_1) omega_2 + 27160.775 cos(1 omega_1) theta_1^2 + 269813.669 cos(1 omega_1) theta_1 omega_1 + -42396.498 cos(1 omega_1) theta_1 omega_2 + -114158.055 cos(1 omega_1) theta_2 omega_2 + -78290.698 cos(1 omega_1) omega_1^2 + 128266.967 cos(1 omega_1) omega_1 omega_2 + -244231.715 cos(1 omega_1) omega_2^2 + 216572.360 sin(1 omega_2) theta_1 + 3395.610 sin(1 omega_2) theta_2 + -156007.016 sin(1 omega_2) omega_2 + -146582.756 sin(1 omega_2) theta_1^2 + -56930.444 sin(1 omega_2) theta_1 omega_1 + 164548.179 sin(1 omega_2) theta_1 omega_2 + 89678.917 sin(1 omega_2) theta_2^2 + -20900.314 sin(1 omega_2) theta_2 omega_1 + -67787.521 sin(1 omega_2) theta_2 omega_2 + 3543.566 cos(1 omega_2) theta_1 + -179817.134 cos(1 omega_2) omega_1 + 31145.699 cos(1 omega_2) omega_2 + -82027.106 cos(1 omega_2) theta_1^2 + 155603.225 cos(1 omega_2) theta_1 theta_2 + -13063.402 cos(1 omega_2) theta_1 omega_1 + 281892.049 cos(1 omega_2) theta_1 omega_2 + 152890.960 cos(1 omega_2) theta_2 omega_1 + -53842.762 cos(1 omega_2) theta_2 omega_2 + 16566.522 cos(1 omega_2) omega_1^2 + -393747.826 cos(1 omega_2) omega_1 omega_2 + -177435.234 sin(2 theta_1) theta_1 + 21312.479 sin(2 theta_1) theta_1^2 + 142069.823 sin(2 theta_1) theta_1 omega_1 + 130926.064 sin(2 theta_1) theta_1 omega_2 + -25407.284 sin(2 theta_1) theta_2 omega_1 + -113977.524 sin(2 theta_1) theta_2 omega_2 + -207572.779 sin(2 theta_1) omega_1^2 + -164484.437 sin(2 theta_1) omega_1 omega_2 + -144223.700 sin(2 theta_1) omega_2^2 + -167168.814 cos(2 theta_1) theta_1 + 97272.278 cos(2 theta_1) theta_2 + -96696.973 cos(2 theta_1) omega_2 + 118525.881 cos(2 theta_1) theta_1^2 + 154250.246 cos(2 theta_1) theta_1 omega_2 + 221264.202 cos(2 theta_1) theta_2 omega_1 + 212814.317 cos(2 theta_1) theta_2 omega_2 + -63147.209 cos(2 theta_1) omega_1^2 + -148041.996 cos(2 theta_1) omega_1 omega_2 + -83369.394 cos(2 theta_1) omega_2^2 + 127561.421 sin(2 theta_2) theta_1 + -60204.227 sin(2 theta_2) theta_2 + 280289.789 sin(2 theta_2) theta_1^2 + -101485.203 sin(2 theta_2) theta_2 omega_2 + -225719.179 sin(2 theta_2) omega_1^2 + -262949.642 sin(2 theta_2) omega_1 omega_2 + -12964.452 sin(2 theta_2) omega_2^2 + 20689.714 cos(2 theta_2) theta_1 + -34693.200 cos(2 theta_2) omega_2 + 12115.349 cos(2 theta_2) theta_1^2 + 56150.878 cos(2 theta_2) theta_2 omega_1 + 82881.795 cos(2 theta_2) theta_2 omega_2 + -164752.968 cos(2 theta_2) omega_1^2 + -52705.337 cos(2 theta_2) omega_1 omega_2 + 187659.027 cos(2 theta_2) omega_2^2 + 102065.592 sin(2 omega_1) theta_1 + 335464.895 sin(2 omega_1) theta_2 + 181034.560 sin(2 omega_1) omega_1 + 252137.428 sin(2 omega_1) theta_1 theta_2 + -13057.938 sin(2 omega_1) theta_1 omega_1 + 18993.595 sin(2 omega_1) theta_1 omega_2 + -7806.983 sin(2 omega_1) theta_2^2 + 13829.167 sin(2 omega_1) theta_2 omega_1 + 84208.605 sin(2 omega_1) theta_2 omega_2 + -22680.762 sin(2 omega_1) omega_1^2 + 46872.494 cos(2 omega_1) theta_1 + -161423.288 cos(2 omega_1) theta_2 + -59500.361 cos(2 omega_1) omega_2 + 8192.104 cos(2 omega_1) theta_1^2 + 153973.342 cos(2 omega_1) theta_1 theta_2 + 55433.631 cos(2 omega_1) theta_2 omega_2 + -74176.508 cos(2 omega_1) omega_1^2 + 29107.460 cos(2 omega_1) omega_1 omega_2 + 102774.846 cos(2 omega_1) omega_2^2 + 169935.208 sin(2 omega_2) theta_2 + -213455.454 sin(2 omega_2) omega_1 + 103435.984 sin(2 omega_2) theta_1^2 + 183193.720 sin(2 omega_2) theta_1 theta_2 + 214876.917 sin(2 omega_2) theta_1 omega_1 + -15529.233 sin(2 omega_2) theta_1 omega_2 + 48180.497 sin(2 omega_2) theta_2^2 + 248587.847 sin(2 omega_2) theta_2 omega_1 + -21426.551 sin(2 omega_2) theta_2 omega_2 + -50131.361 sin(2 omega_2) omega_1^2 + -70557.141 sin(2 omega_2) omega_1 omega_2 + -78332.157 sin(2 omega_2) omega_2^2 + -10418.761 cos(2 omega_2) theta_1 + -164808.080 cos(2 omega_2) theta_2 + -97468.827 cos(2 omega_2) omega_1 + 99440.583 cos(2 omega_2) theta_1^2 + 38427.358 cos(2 omega_2) theta_1 omega_1 + -178117.539 cos(2 omega_2) theta_1 omega_2 + 161925.355 cos(2 omega_2) theta_2 omega_1 + -133781.227 cos(2 omega_2) theta_2 omega_2 + 14267.605 cos(2 omega_2) omega_1^2 + -34662.213 cos(2 omega_2) omega_1 omega_2 + -24270.679 cos(2 omega_2) omega_2^2\n",
      "(omega_2)' = 518845.303 cos(2 omega_1) + -1757704.811 sin(2 omega_2) + -475189.883 theta_1 omega_1 + -286231.996 theta_2 omega_1 + -49943.882 omega_1^2 + -150709.543 omega_2^2 + -496977.322 sin(1 theta_1) omega_1 + 412533.973 sin(1 theta_1) theta_1^2 + 65183.294 sin(1 theta_1) theta_1 omega_2 + -387975.918 sin(1 theta_1) omega_1^2 + -223013.642 sin(1 theta_1) omega_1 omega_2 + 813325.251 sin(1 theta_1) omega_2^2 + -559501.919 cos(1 theta_1) theta_1 omega_1 + -430398.167 cos(1 theta_1) theta_2 omega_1 + 315388.697 cos(1 theta_1) theta_2 omega_2 + -12129.515 cos(1 theta_1) omega_1^2 + -510629.654 cos(1 theta_1) omega_1 omega_2 + -130947.505 cos(1 theta_1) omega_2^2 + -247992.072 sin(1 theta_2) omega_1 + -197474.898 sin(1 theta_2) omega_1^2 + 214569.479 sin(1 theta_2) omega_1 omega_2 + -247553.857 sin(1 theta_2) omega_2^2 + -342561.717 cos(1 theta_2) theta_1 omega_1 + -157000.990 cos(1 theta_2) theta_2 omega_1 + -480579.956 cos(1 theta_2) omega_1 omega_2 + 213486.533 sin(1 omega_1) theta_1 + -532867.862 sin(1 omega_1) theta_1^2 + 67150.885 sin(1 omega_1) theta_1 omega_1 + 510909.186 sin(1 omega_1) theta_1 omega_2 + 471744.041 sin(1 omega_1) theta_2 omega_1 + -565201.595 sin(1 omega_1) theta_2 omega_2 + -391281.894 cos(1 omega_1) theta_1 + 437402.430 cos(1 omega_1) theta_1 omega_1 + 70024.276 cos(1 omega_1) theta_1 omega_2 + 661323.651 cos(1 omega_1) theta_2 omega_1 + -196961.810 cos(1 omega_1) theta_2 omega_2 + -555068.743 cos(1 omega_1) omega_1^2 + -118448.313 cos(1 omega_1) omega_1 omega_2 + -437035.928 cos(1 omega_1) omega_2^2 + 267381.301 sin(1 omega_2) theta_1 + -14271.982 sin(1 omega_2) theta_2 + -1325529.317 sin(1 omega_2) omega_2 + -155865.386 sin(1 omega_2) theta_1 omega_1 + 531531.600 sin(1 omega_2) theta_1 omega_2 + 93517.047 sin(1 omega_2) theta_2^2 + 384323.571 sin(1 omega_2) theta_2 omega_1 + -97556.203 sin(1 omega_2) theta_2 omega_2 + 164461.336 sin(1 omega_2) omega_1 omega_2 + -58337.111 sin(1 omega_2) omega_2^2 + -504586.000 cos(1 omega_2) omega_2 + 86472.641 cos(1 omega_2) theta_1 omega_1 + 949151.627 cos(1 omega_2) theta_1 omega_2 + -34921.000 cos(1 omega_2) theta_2 omega_1 + 37409.798 cos(1 omega_2) theta_2 omega_2 + -1205730.512 cos(1 omega_2) omega_1 omega_2 + -1237134.088 sin(2 theta_1) omega_1 + 94587.723 sin(2 theta_1) omega_2 + 212664.640 sin(2 theta_1) theta_1 omega_2 + -1696814.754 sin(2 theta_1) omega_1^2 + -749947.317 sin(2 theta_1) omega_1 omega_2 + -922665.521 sin(2 theta_1) omega_2^2 + -492513.030 cos(2 theta_1) omega_1 + 6248.592 cos(2 theta_1) omega_2 + -904379.179 cos(2 theta_1) theta_1 omega_1 + 240891.567 cos(2 theta_1) theta_1 omega_2 + 411415.972 cos(2 theta_1) theta_2 omega_1 + 1165722.607 cos(2 theta_1) theta_2 omega_2 + 112959.063 cos(2 theta_1) omega_1^2 + -294108.827 cos(2 theta_1) omega_1 omega_2 + -800786.411 cos(2 theta_1) omega_2^2 + -169345.910 sin(2 theta_2) omega_1 + 59880.089 sin(2 theta_2) omega_2 + -655272.170 sin(2 theta_2) theta_1 omega_1 + 354845.339 sin(2 theta_2) theta_2 omega_1 + -152087.231 sin(2 theta_2) theta_2 omega_2 + -1181311.211 sin(2 theta_2) omega_1^2 + -514812.348 sin(2 theta_2) omega_1 omega_2 + 128385.475 sin(2 theta_2) omega_2^2 + -365729.907 cos(2 theta_2) omega_1 + -3233.718 cos(2 theta_2) omega_2 + 508826.736 cos(2 theta_2) theta_1 omega_1 + 217988.053 cos(2 theta_2) theta_1 omega_2 + 353255.191 cos(2 theta_2) theta_2 omega_1 + 305574.303 cos(2 theta_2) theta_2 omega_2 + -728918.584 cos(2 theta_2) omega_1^2 + -444501.929 cos(2 theta_2) omega_1 omega_2 + 388368.257 cos(2 theta_2) omega_2^2 + 614020.357 sin(2 omega_1) theta_1 + 180229.329 sin(2 omega_1) theta_2 + 506784.755 sin(2 omega_1) omega_1 + -509147.954 sin(2 omega_1) theta_1^2 + 19451.870 sin(2 omega_1) theta_1 theta_2 + -538705.800 sin(2 omega_1) theta_1 omega_1 + -111569.712 sin(2 omega_1) theta_1 omega_2 + 160109.497 sin(2 omega_1) theta_2^2 + -385587.287 sin(2 omega_1) theta_2 omega_1 + 288221.397 sin(2 omega_1) theta_2 omega_2 + -212297.455 sin(2 omega_1) omega_1^2 + 14392.415 cos(2 omega_1) theta_1 + 588660.917 cos(2 omega_1) omega_1 + 604864.880 cos(2 omega_1) omega_2 + -514282.153 cos(2 omega_1) theta_1^2 + -477261.620 cos(2 omega_1) theta_1 omega_1 + 502018.384 cos(2 omega_1) theta_1 omega_2 + 1149392.272 cos(2 omega_1) theta_2 omega_2 + -333039.516 cos(2 omega_1) omega_1^2 + 257379.238 cos(2 omega_1) omega_1 omega_2 + 555415.346 cos(2 omega_1) omega_2^2 + 1043283.210 sin(2 omega_2) theta_2 + -573599.306 sin(2 omega_2) omega_1 + 760789.823 sin(2 omega_2) theta_1^2 + 18108.249 sin(2 omega_2) theta_1 theta_2 + 961087.071 sin(2 omega_2) theta_1 omega_1 + 66325.511 sin(2 omega_2) theta_1 omega_2 + -64616.133 sin(2 omega_2) theta_2^2 + 1090983.523 sin(2 omega_2) theta_2 omega_1 + 63819.971 sin(2 omega_2) theta_2 omega_2 + 7360.061 sin(2 omega_2) omega_1^2 + -185170.970 sin(2 omega_2) omega_1 omega_2 + -387686.196 sin(2 omega_2) omega_2^2 + -135203.706 cos(2 omega_2) theta_1 + -197705.297 cos(2 omega_2) theta_2 + -205752.805 cos(2 omega_2) omega_1 + 192325.817 cos(2 omega_2) theta_1^2 + 168012.367 cos(2 omega_2) theta_1 omega_1 + -1016393.164 cos(2 omega_2) theta_1 omega_2 + -261579.351 cos(2 omega_2) theta_2^2 + 1048123.141 cos(2 omega_2) theta_2 omega_1 + -698793.270 cos(2 omega_2) theta_2 omega_2 + -5399.712 cos(2 omega_2) omega_1^2 + -53494.021 cos(2 omega_2) omega_1 omega_2 + 67616.797 cos(2 omega_2) omega_2^2\n"
     ]
    }
   ],
   "source": [
    "model = ps.SINDy(feature_library=all_libs,optimizer=ps.optimizers.STLSQ(threshold=0.2e-1, max_iter=35, alpha=0.018, verbose=True), feature_names=['theta_1', 'theta_2', 'omega_1', 'omega_2'])\n",
    "model.fit(np.nan_to_num(x_train, posinf=0, neginf=0, nan=0, copy=False).T, t=dt)\n",
    "model.print()"
   ]
  },
  {
   "cell_type": "code",
   "execution_count": 15,
   "metadata": {},
   "outputs": [],
   "source": [
    "odeint_integrator_args = {}\n",
    "odeint_integrator_args['rtol'] = 1e-13\n",
    "odeint_integrator_args['atol'] = 1e-10\n",
    "odeint_integrator_args['full_output'] = 1\n",
    "\n",
    "blind_simulation, info = model.simulate(test_initial_pendulum_config, t_test, integrator=\"odeint\", integrator_kws=odeint_integrator_args)\n",
    "blind_simulation = blind_simulation.T\n",
    "blind_simulation[:2] = loop_around_angles(blind_simulation[:2])\n",
    "\n",
    "\n",
    "joints_over_time_blind = compute_joints_position(blind_simulation[:2])"
   ]
  },
  {
   "cell_type": "code",
   "execution_count": 16,
   "metadata": {},
   "outputs": [],
   "source": [
    "animate_pendulum_double(test_joints_over_time,joints_over_time_blind,\"blind_pendulum.mp4\", interval=0.003, fps=30)\n",
    "draw_state_diagrams(x_test_theta, blind_simulation[:2], \"blind_simulation.png\")"
   ]
  },
  {
   "cell_type": "code",
   "execution_count": 19,
   "metadata": {},
   "outputs": [
    {
     "name": "stderr",
     "output_type": "stream",
     "text": [
      "/home/kaba4ok/Documents/oles_territory/studies_in_Lviv/year3/sem2/MMML/project/poc/.venv/lib/python3.10/site-packages/pysindy/pysindy.py:901: ODEintWarning: Excess work done on this call (perhaps wrong Dfun type). Run with full_output = 1 to get quantitative information.\n",
      "  return odeint(rhs, x0, t, tfirst=True, **integrator_kws)\n"
     ]
    }
   ],
   "source": [
    "extended_t = np.arange(0,10, dt)\n",
    "extended_sim, info = model.simulate(test_initial_pendulum_config, extended_t, integrator=\"odeint\", integrator_kws=odeint_integrator_args)\n",
    "extended_sim = extended_sim.T\n",
    "extended_sim[:2] = loop_around_angles(extended_sim[:2])\n",
    "\n",
    "extended_joints_over_time_blind = compute_joints_position(extended_sim[:2])\n",
    "animate_pendulum(extended_joints_over_time_blind, \"extended_blind.mp4\", interval=0.001, fps=30)"
   ]
  },
  {
   "cell_type": "markdown",
   "metadata": {},
   "source": [
    "## Fitting with known derivatives\n"
   ]
  },
  {
   "cell_type": "code",
   "execution_count": 20,
   "metadata": {},
   "outputs": [
    {
     "name": "stdout",
     "output_type": "stream",
     "text": [
      " Iteration ... |y - Xw|^2 ...  a * |w|_2 ...      |w|_0 ... Total error: |y - Xw|^2 + a * |w|_2\n",
      "         0 ... 1.6673e+02 ... 6.0528e-02 ...        336 ... 1.6679e+02\n",
      "         1 ... 2.7161e+00 ... 6.4775e-02 ...        310 ... 2.7809e+00\n",
      "         2 ... 5.3171e-01 ... 6.5234e-02 ...        304 ... 5.9694e-01\n",
      "         3 ... 4.4970e-01 ... 6.6156e-02 ...        301 ... 5.1586e-01\n",
      "         4 ... 1.0406e-02 ... 6.6674e-02 ...        300 ... 7.7080e-02\n",
      "         5 ... 9.9581e-03 ... 6.6680e-02 ...        300 ... 7.6638e-02\n",
      "(theta_1)' = 1.000 omega_1\n",
      "(theta_2)' = 1.000 omega_2\n",
      "(omega_1)' = 3.835 sin(1 theta_1) + -1.777 sin(1 omega_2) + -0.691 cos(1 omega_2) + 2.581 cos(2 theta_2) + -1.030 cos(2 omega_1) + -1.828 sin(2 omega_2) + -0.322 cos(2 omega_2) + 4.140 theta_1 + -1.446 omega_2 + 5.549 theta_1 omega_2 + 0.483 omega_2^2 + 4.881 sin(1 theta_1) omega_2 + 0.823 sin(1 theta_1) theta_1^2 + -0.836 sin(1 theta_1) theta_1 theta_2 + 0.757 sin(1 theta_1) theta_1 omega_2 + -1.037 sin(1 theta_1) omega_1^2 + -2.615 sin(1 theta_1) omega_1 omega_2 + -0.241 sin(1 theta_1) omega_2^2 + -1.258 cos(1 theta_1) omega_1 omega_2 + -1.618 cos(1 theta_1) omega_2^2 + -1.132 sin(1 theta_2) theta_1^2 + -3.787 sin(1 theta_2) omega_1^2 + 2.451 sin(1 theta_2) omega_1 omega_2 + -0.382 sin(1 theta_2) omega_2^2 + 4.002 cos(1 theta_2) theta_1 + -0.010 cos(1 theta_2) omega_2 + 4.154 cos(1 theta_2) theta_1 omega_2 + -1.456 cos(1 theta_2) omega_1^2 + -0.704 cos(1 theta_2) omega_1 omega_2 + 1.010 cos(1 theta_2) omega_2^2 + -0.028 sin(1 omega_1) theta_1 + 2.733 sin(1 omega_1) theta_2 + -4.284 sin(1 omega_1) theta_1^2 + -1.531 sin(1 omega_1) theta_1 omega_1 + 4.115 sin(1 omega_1) theta_1 omega_2 + 0.788 sin(1 omega_1) theta_2^2 + 2.165 sin(1 omega_1) theta_2 omega_1 + -4.313 sin(1 omega_1) theta_2 omega_2 + 0.834 sin(1 omega_1) omega_1^2 + -1.602 sin(1 omega_1) omega_2^2 + -3.589 cos(1 omega_1) theta_1 + 1.910 cos(1 omega_1) theta_2 + 2.213 cos(1 omega_1) omega_1 + -3.436 cos(1 omega_1) omega_2 + -0.175 cos(1 omega_1) theta_1^2 + 3.133 cos(1 omega_1) theta_1 omega_1 + -2.912 cos(1 omega_1) theta_1 omega_2 + 7.407 cos(1 omega_1) theta_2 omega_2 + -2.806 cos(1 omega_1) omega_1^2 + -0.234 cos(1 omega_1) omega_1 omega_2 + 0.123 cos(1 omega_1) omega_2^2 + 1.031 sin(1 omega_2) theta_1 + -3.372 sin(1 omega_2) theta_2 + 0.697 sin(1 omega_2) omega_2 + 0.845 sin(1 omega_2) theta_1^2 + -1.048 sin(1 omega_2) theta_1 omega_1 + -5.572 sin(1 omega_2) theta_1 omega_2 + -1.204 sin(1 omega_2) theta_2^2 + -0.770 sin(1 omega_2) theta_2 omega_1 + 5.964 sin(1 omega_2) theta_2 omega_2 + -2.111 sin(1 omega_2) omega_1^2 + 0.025 sin(1 omega_2) omega_1 omega_2 + -1.731 cos(1 omega_2) theta_1 + 3.150 cos(1 omega_2) omega_1 + -2.647 cos(1 omega_2) omega_2 + 0.188 cos(1 omega_2) theta_1^2 + -2.352 cos(1 omega_2) theta_1 theta_2 + 2.257 cos(1 omega_2) theta_1 omega_1 + -1.079 cos(1 omega_2) theta_1 omega_2 + 1.132 cos(1 omega_2) theta_2 omega_1 + -0.011 cos(1 omega_2) theta_2 omega_2 + 2.358 cos(1 omega_2) omega_1^2 + -2.118 cos(1 omega_2) omega_1 omega_2 + 1.519 cos(1 omega_2) omega_2^2 + 3.219 sin(2 theta_1) theta_1 + -1.344 sin(2 theta_1) theta_1^2 + 0.806 sin(2 theta_1) theta_1 omega_1 + 5.765 sin(2 theta_1) theta_1 omega_2 + -2.518 sin(2 theta_1) theta_2 omega_1 + 0.300 sin(2 theta_1) theta_2 omega_2 + -1.228 sin(2 theta_1) omega_1^2 + 3.271 sin(2 theta_1) omega_1 omega_2 + -3.392 sin(2 theta_1) omega_2^2 + 3.491 cos(2 theta_1) theta_1 + -5.615 cos(2 theta_1) theta_2 + -4.549 cos(2 theta_1) omega_2 + -0.137 cos(2 theta_1) theta_1 omega_2 + -5.061 cos(2 theta_1) theta_2 omega_2 + 3.803 cos(2 theta_1) omega_1^2 + -2.221 cos(2 theta_1) omega_1 omega_2 + 3.970 cos(2 theta_1) omega_2^2 + -0.901 sin(2 theta_2) theta_2 + -4.483 sin(2 theta_2) theta_1^2 + -1.956 sin(2 theta_2) theta_1 omega_2 + 1.082 sin(2 theta_2) theta_2 omega_2 + 0.499 sin(2 theta_2) omega_1^2 + -0.808 sin(2 theta_2) omega_1 omega_2 + -0.661 sin(2 theta_2) omega_2^2 + 1.733 cos(2 theta_2) theta_1 + 1.373 cos(2 theta_2) omega_2 + -1.521 cos(2 theta_2) theta_1^2 + -0.369 cos(2 theta_2) theta_2 omega_1 + 3.346 cos(2 theta_2) theta_2 omega_2 + -1.076 cos(2 theta_2) omega_1^2 + 3.246 cos(2 theta_2) omega_1 omega_2 + -2.022 cos(2 theta_2) omega_2^2 + 1.050 sin(2 omega_1) theta_1 + 3.828 sin(2 omega_1) theta_2 + 1.587 sin(2 omega_1) omega_1 + -0.261 sin(2 omega_1) theta_1 theta_2 + -0.665 sin(2 omega_1) theta_1 omega_1 + -0.975 sin(2 omega_1) theta_1 omega_2 + 2.524 sin(2 omega_1) theta_2^2 + 2.722 sin(2 omega_1) theta_2 omega_1 + 2.875 sin(2 omega_1) theta_2 omega_2 + -0.099 sin(2 omega_1) omega_1^2 + 0.265 sin(2 omega_1) omega_2^2 + -3.249 cos(2 omega_1) theta_1 + -4.192 cos(2 omega_1) theta_2 + 0.655 cos(2 omega_1) omega_2 + -1.181 cos(2 omega_1) theta_1^2 + -1.213 cos(2 omega_1) theta_1 theta_2 + -1.059 cos(2 omega_1) omega_1^2 + -0.007 cos(2 omega_1) omega_1 omega_2 + 1.052 cos(2 omega_1) omega_2^2 + 5.922 sin(2 omega_2) theta_2 + -1.553 sin(2 omega_2) omega_1 + -0.769 sin(2 omega_2) theta_1^2 + 1.193 sin(2 omega_2) theta_1 theta_2 + 3.733 sin(2 omega_2) theta_1 omega_1 + -1.362 sin(2 omega_2) theta_1 omega_2 + 0.378 sin(2 omega_2) theta_2^2 + 3.798 sin(2 omega_2) theta_2 omega_1 + 0.842 sin(2 omega_2) theta_2 omega_2 + -0.486 sin(2 omega_2) omega_1^2 + -0.307 sin(2 omega_2) omega_1 omega_2 + 0.550 sin(2 omega_2) omega_2^2 + -5.027 cos(2 omega_2) theta_1 + 3.097 cos(2 omega_2) theta_2 + -3.734 cos(2 omega_2) omega_1 + -0.192 cos(2 omega_2) theta_1^2 + -0.124 cos(2 omega_2) theta_1 omega_1 + 1.670 cos(2 omega_2) theta_1 omega_2 + 0.679 cos(2 omega_2) theta_2 omega_1 + 0.045 cos(2 omega_2) theta_2 omega_2 + -1.555 cos(2 omega_2) omega_1^2 + -1.249 cos(2 omega_2) omega_1 omega_2 + -0.519 cos(2 omega_2) omega_2^2\n",
      "(omega_2)' = 2.218 cos(2 omega_1) + 0.953 sin(2 omega_2) + 1.719 theta_1 omega_1 + -3.706 theta_2 omega_1 + -2.354 omega_1^2 + -2.453 omega_2^2 + 0.872 sin(1 theta_1) omega_1 + -2.591 sin(1 theta_1) theta_1^2 + 2.176 sin(1 theta_1) theta_1 omega_2 + -2.196 sin(1 theta_1) omega_1^2 + 3.995 sin(1 theta_1) omega_1 omega_2 + -1.033 sin(1 theta_1) omega_2^2 + -0.612 cos(1 theta_1) theta_1 omega_1 + -3.039 cos(1 theta_1) theta_2 omega_1 + 2.263 cos(1 theta_1) theta_2 omega_2 + -1.061 cos(1 theta_1) omega_1^2 + 0.075 cos(1 theta_1) omega_1 omega_2 + 1.302 cos(1 theta_1) omega_2^2 + -3.130 sin(1 theta_2) omega_1 + 2.203 sin(1 theta_2) omega_1^2 + -4.409 sin(1 theta_2) omega_1 omega_2 + 4.183 sin(1 theta_2) omega_2^2 + 1.129 cos(1 theta_2) theta_1 omega_1 + -2.030 cos(1 theta_2) theta_2 omega_1 + 1.139 cos(1 theta_2) omega_1 omega_2 + 1.073 sin(1 omega_1) theta_1 + -0.924 sin(1 omega_1) theta_2 + 0.323 sin(1 omega_1) theta_1^2 + -0.348 sin(1 omega_1) theta_1 omega_1 + -0.107 sin(1 omega_1) theta_1 omega_2 + -4.076 sin(1 omega_1) theta_2 omega_1 + 3.920 sin(1 omega_1) theta_2 omega_2 + -3.985 cos(1 omega_1) theta_1 + 0.824 cos(1 omega_1) omega_1 + -0.285 cos(1 omega_1) theta_1 omega_1 + 0.606 cos(1 omega_1) theta_1 omega_2 + -5.778 cos(1 omega_1) theta_2 omega_2 + 0.221 cos(1 omega_1) omega_1^2 + -1.392 cos(1 omega_1) omega_1 omega_2 + 1.557 cos(1 omega_1) omega_2^2 + -2.048 sin(1 omega_2) theta_1 + -0.782 sin(1 omega_2) theta_2 + -2.221 sin(1 omega_2) omega_2 + 1.501 sin(1 omega_2) theta_1 omega_1 + 4.931 sin(1 omega_2) theta_1 omega_2 + 0.499 sin(1 omega_2) theta_2^2 + 1.152 sin(1 omega_2) theta_2 omega_1 + -4.918 sin(1 omega_2) theta_2 omega_2 + -2.362 sin(1 omega_2) omega_1 omega_2 + -1.274 sin(1 omega_2) omega_2^2 + 0.520 cos(1 omega_2) omega_2 + -4.738 cos(1 omega_2) theta_1 omega_1 + 1.604 cos(1 omega_2) theta_1 omega_2 + 2.106 cos(1 omega_2) theta_2 omega_1 + -1.203 cos(1 omega_2) theta_2 omega_2 + 3.235 cos(1 omega_2) omega_1 omega_2 + -0.965 sin(2 theta_1) omega_1 + -1.979 sin(2 theta_1) omega_2 + 0.383 sin(2 theta_1) theta_1 omega_2 + 2.425 sin(2 theta_1) omega_1^2 + -3.111 sin(2 theta_1) omega_1 omega_2 + 2.029 sin(2 theta_1) omega_2^2 + -0.575 cos(2 theta_1) omega_2 + 3.369 cos(2 theta_1) theta_1 omega_2 + -2.445 cos(2 theta_1) theta_2 omega_1 + 3.434 cos(2 theta_1) theta_2 omega_2 + -0.455 cos(2 theta_1) omega_1^2 + 1.537 cos(2 theta_1) omega_1 omega_2 + -4.973 cos(2 theta_1) omega_2^2 + -3.337 sin(2 theta_2) omega_1 + 0.726 sin(2 theta_2) omega_2 + -4.473 sin(2 theta_2) theta_2 omega_1 + 0.491 sin(2 theta_2) theta_2 omega_2 + -3.256 sin(2 theta_2) omega_1^2 + 0.991 sin(2 theta_2) omega_1 omega_2 + -1.538 sin(2 theta_2) omega_2^2 + -1.157 cos(2 theta_2) omega_2 + -0.324 cos(2 theta_2) theta_1 omega_1 + -3.990 cos(2 theta_2) theta_1 omega_2 + 1.827 cos(2 theta_2) theta_2 omega_1 + -5.588 cos(2 theta_2) theta_2 omega_2 + 3.617 cos(2 theta_2) omega_1^2 + -3.986 cos(2 theta_2) omega_1 omega_2 + 2.576 cos(2 theta_2) omega_2^2 + -2.035 sin(2 omega_1) theta_1 + 1.947 sin(2 omega_1) theta_2 + -0.954 sin(2 omega_1) omega_1 + -0.364 sin(2 omega_1) theta_1^2 + -0.518 sin(2 omega_1) theta_1 theta_2 + 0.681 sin(2 omega_1) theta_1 omega_1 + -1.126 sin(2 omega_1) theta_1 omega_2 + 1.379 sin(2 omega_1) theta_2^2 + 1.443 sin(2 omega_1) theta_2 omega_1 + -0.864 sin(2 omega_1) theta_2 omega_2 + 0.123 sin(2 omega_1) omega_1^2 + 1.174 cos(2 omega_1) theta_1 + 1.328 cos(2 omega_1) omega_1 + -0.511 cos(2 omega_1) omega_2 + -0.945 cos(2 omega_1) theta_1^2 + 0.844 cos(2 omega_1) theta_1 omega_1 + 0.001 cos(2 omega_1) theta_1 omega_2 + -0.125 cos(2 omega_1) theta_2 omega_1 + 1.143 cos(2 omega_1) theta_2 omega_2 + 0.551 cos(2 omega_1) omega_1^2 + 0.187 cos(2 omega_1) omega_1 omega_2 + -0.430 cos(2 omega_1) omega_2^2 + 2.720 sin(2 omega_2) theta_2 + 1.334 sin(2 omega_2) omega_1 + -1.397 sin(2 omega_2) theta_1^2 + -5.078 sin(2 omega_2) theta_1 theta_2 + -2.137 sin(2 omega_2) theta_1 omega_1 + -0.055 sin(2 omega_2) theta_1 omega_2 + -2.014 sin(2 omega_2) theta_2^2 + -0.044 sin(2 omega_2) theta_2 omega_1 + -0.633 sin(2 omega_2) theta_2 omega_2 + 0.674 sin(2 omega_2) omega_1^2 + 0.228 sin(2 omega_2) omega_1 omega_2 + -0.466 sin(2 omega_2) omega_2^2 + 3.766 cos(2 omega_2) theta_1 + -0.519 cos(2 omega_2) theta_2 + 1.244 cos(2 omega_2) omega_1 + 1.867 cos(2 omega_2) theta_1^2 + 1.005 cos(2 omega_2) theta_1 omega_1 + -2.137 cos(2 omega_2) theta_1 omega_2 + -0.810 cos(2 omega_2) theta_2^2 + 1.389 cos(2 omega_2) theta_2 omega_1 + -2.277 cos(2 omega_2) theta_2 omega_2 + 0.626 cos(2 omega_2) omega_1^2 + 0.319 cos(2 omega_2) omega_1 omega_2 + 0.473 cos(2 omega_2) omega_2^2\n"
     ]
    }
   ],
   "source": [
    "model = ps.SINDy(feature_library=all_libs,optimizer=ps.optimizers.STLSQ(threshold=0.2e-1, max_iter=35, alpha=0.015, verbose=True),  feature_names=['theta_1', 'theta_2', 'omega_1', 'omega_2'])\n",
    "model.fit(np.nan_to_num(x_train, posinf=0, neginf=0, nan=0, copy=False).T, t=dt,x_dot=true_derivatives, unbias=True)\n",
    "model.print()"
   ]
  },
  {
   "cell_type": "code",
   "execution_count": 23,
   "metadata": {},
   "outputs": [
    {
     "name": "stdout",
     "output_type": "stream",
     "text": [
      "Best threshold: 0.0019999999999999996\n",
      "Best score: 0.2600201163014424\n",
      "Best alpha: 0.9\n",
      "(theta_1)' = -0.024 cos(1 theta_1) + -0.013 sin(1 theta_2) + -0.017 cos(1 theta_2) + 0.084 sin(1 omega_1) + -0.021 sin(1 omega_2) + -0.011 cos(1 omega_2) + -0.002 sin(2 theta_1) + -0.023 sin(2 theta_2) + -0.010 cos(2 theta_2) + 0.038 sin(2 omega_1) + 0.007 cos(2 omega_1) + 0.022 sin(2 omega_2) + 0.009 cos(2 omega_2) + 0.006 theta_1 + -0.014 theta_2 + 0.154 omega_1 + -0.059 omega_2 + 0.014 theta_1^2 + 0.005 theta_1 theta_2 + 0.006 theta_1 omega_2 + -0.003 theta_2^2 + -0.005 theta_2 omega_1 + -0.008 theta_2 omega_2 + -0.014 omega_1^2 + -0.016 omega_1 omega_2 + -0.014 omega_2^2 + 0.007 sin(1 theta_1) theta_1 + 0.007 sin(1 theta_1) theta_2 + -0.001 sin(1 theta_1) omega_1 + 0.007 sin(1 theta_1) omega_2 + -0.003 sin(1 theta_1) theta_1 theta_2 + 0.083 sin(1 theta_1) theta_1 omega_1 + -0.007 sin(1 theta_1) theta_1 omega_2 + 0.001 sin(1 theta_1) theta_2^2 + -0.017 sin(1 theta_1) theta_2 omega_1 + 0.029 sin(1 theta_1) omega_1 omega_2 + 0.001 sin(1 theta_1) omega_2^2 + -0.013 cos(1 theta_1) theta_2 + 0.111 cos(1 theta_1) omega_1 + -0.054 cos(1 theta_1) omega_2 + -0.003 cos(1 theta_1) theta_1^2 + 0.008 cos(1 theta_1) theta_1 theta_2 + 0.009 cos(1 theta_1) theta_1 omega_2 + -0.007 cos(1 theta_1) theta_2^2 + 0.007 cos(1 theta_1) theta_2 omega_1 + -0.018 cos(1 theta_1) omega_1^2 + -0.004 cos(1 theta_1) omega_1 omega_2 + -0.014 cos(1 theta_1) omega_2^2 + 0.006 sin(1 theta_2) theta_1 + -0.003 sin(1 theta_2) theta_2 + -0.007 sin(1 theta_2) omega_1 + -0.009 sin(1 theta_2) omega_2 + -0.006 sin(1 theta_2) theta_1^2 + -0.003 sin(1 theta_2) theta_1 theta_2 + -0.016 sin(1 theta_2) theta_1 omega_1 + -0.004 sin(1 theta_2) theta_2^2 + 0.026 sin(1 theta_2) theta_2 omega_1 + -0.017 sin(1 theta_2) omega_1^2 + -0.009 sin(1 theta_2) omega_2^2 + -0.012 cos(1 theta_2) theta_2 + 0.141 cos(1 theta_2) omega_1 + -0.046 cos(1 theta_2) omega_2 + 0.008 cos(1 theta_2) theta_1^2 + 0.007 cos(1 theta_2) theta_1 theta_2 + 0.001 cos(1 theta_2) theta_1 omega_1 + -0.005 cos(1 theta_2) theta_2^2 + -0.009 cos(1 theta_2) theta_2 omega_1 + -0.010 cos(1 theta_2) theta_2 omega_2 + -0.011 cos(1 theta_2) omega_1^2 + -0.015 cos(1 theta_2) omega_1 omega_2 + -0.014 cos(1 theta_2) omega_2^2 + 0.001 sin(1 omega_1) theta_2 + 0.004 sin(1 omega_1) omega_1 + -0.024 sin(1 omega_1) omega_2 + 0.053 sin(1 omega_1) theta_1^2 + -0.006 sin(1 omega_1) theta_1 theta_2 + 0.004 sin(1 omega_1) theta_1 omega_2 + 0.002 sin(1 omega_1) theta_2^2 + -0.009 sin(1 omega_1) theta_2 omega_1 + 0.083 sin(1 omega_1) omega_1^2 + 0.012 sin(1 omega_1) omega_1 omega_2 + -0.050 sin(1 omega_1) omega_2^2 + 0.011 cos(1 omega_1) theta_1 + -0.015 cos(1 omega_1) omega_1 + -0.001 cos(1 omega_1) theta_1^2 + 0.014 cos(1 omega_1) theta_1 omega_1 + -0.001 cos(1 omega_1) theta_2 omega_1 + -0.003 cos(1 omega_1) theta_2 omega_2 + 0.013 cos(1 omega_1) omega_1^2 + -0.004 cos(1 omega_1) omega_1 omega_2 + -0.006 cos(1 omega_1) omega_2^2 + 0.001 sin(1 omega_2) theta_2 + -0.030 sin(1 omega_2) omega_1 + 0.006 sin(1 omega_2) omega_2 + -0.001 sin(1 omega_2) theta_1^2 + 0.011 sin(1 omega_2) theta_1 omega_1 + -0.007 sin(1 omega_2) theta_1 omega_2 + -0.013 sin(1 omega_2) theta_2 omega_1 + -0.027 sin(1 omega_2) omega_1^2 + 0.010 sin(1 omega_2) omega_1 omega_2 + 0.021 sin(1 omega_2) omega_2^2 + -0.009 cos(1 omega_2) theta_1 + -0.004 cos(1 omega_2) theta_2 + 0.048 cos(1 omega_2) omega_1 + -0.005 cos(1 omega_2) theta_1^2 + 0.005 cos(1 omega_2) theta_1 theta_2 + 0.009 cos(1 omega_2) theta_1 omega_1 + -0.006 cos(1 omega_2) theta_1 omega_2 + -0.001 cos(1 omega_2) theta_2^2 + 0.022 cos(1 omega_2) theta_2 omega_1 + 0.011 cos(1 omega_2) theta_2 omega_2 + -0.005 cos(1 omega_2) omega_1^2 + -0.033 cos(1 omega_2) omega_1 omega_2 + 0.001 sin(2 theta_1) theta_1 + 0.011 sin(2 theta_1) theta_2 + -0.003 sin(2 theta_1) omega_1 + 0.014 sin(2 theta_1) omega_2 + -0.004 sin(2 theta_1) theta_1 theta_2 + 0.087 sin(2 theta_1) theta_1 omega_1 + -0.005 sin(2 theta_1) theta_1 omega_2 + 0.011 sin(2 theta_1) theta_2^2 + -0.039 sin(2 theta_1) theta_2 omega_1 + 0.003 sin(2 theta_1) omega_1^2 + 0.038 sin(2 theta_1) omega_1 omega_2 + 0.016 sin(2 theta_1) omega_2^2 + 0.014 cos(2 theta_1) omega_1 + -0.004 cos(2 theta_1) theta_1 omega_1 + 0.003 cos(2 theta_1) theta_1 omega_2 + 0.026 cos(2 theta_1) theta_2 omega_1 + -0.006 cos(2 theta_1) theta_2 omega_2 + -0.041 cos(2 theta_1) omega_1^2 + 0.022 cos(2 theta_1) omega_1 omega_2 + 0.034 cos(2 theta_1) omega_2^2 + 0.018 sin(2 theta_2) theta_1 + -0.013 sin(2 theta_2) theta_2 + -0.020 sin(2 theta_2) omega_1 + -0.020 sin(2 theta_2) omega_2 + -0.014 sin(2 theta_2) theta_1^2 + -0.011 sin(2 theta_2) theta_1 theta_2 + -0.040 sin(2 theta_2) theta_1 omega_1 + 0.050 sin(2 theta_2) theta_2 omega_1 + 0.002 sin(2 theta_2) omega_1^2 + -0.005 sin(2 theta_2) omega_2^2 + 0.014 cos(2 theta_2) theta_1 + 0.103 cos(2 theta_2) omega_1 + -0.005 cos(2 theta_2) omega_2 + 0.020 cos(2 theta_2) theta_1 theta_2 + 0.002 cos(2 theta_2) theta_1 omega_1 + -0.011 cos(2 theta_2) theta_1 omega_2 + -0.018 cos(2 theta_2) theta_2 omega_1 + 0.003 cos(2 theta_2) omega_1^2 + -0.020 cos(2 theta_2) omega_1 omega_2 + -0.011 cos(2 theta_2) omega_2^2 + 0.009 sin(2 omega_1) theta_1 + -0.014 sin(2 omega_1) theta_2 + 0.004 sin(2 omega_1) omega_1 + 0.019 sin(2 omega_1) omega_2 + 0.016 sin(2 omega_1) theta_1^2 + -0.011 sin(2 omega_1) theta_1 theta_2 + 0.007 sin(2 omega_1) theta_1 omega_1 + -0.010 sin(2 omega_1) theta_1 omega_2 + -0.010 sin(2 omega_1) theta_2^2 + -0.022 sin(2 omega_1) theta_2 omega_1 + -0.032 sin(2 omega_1) theta_2 omega_2 + -0.003 sin(2 omega_1) omega_1^2 + -0.005 sin(2 omega_1) omega_1 omega_2 + -0.005 sin(2 omega_1) omega_2^2 + 0.014 cos(2 omega_1) theta_1 + -0.016 cos(2 omega_1) omega_1 + -0.004 cos(2 omega_1) theta_1^2 + -0.008 cos(2 omega_1) theta_1 theta_2 + -0.037 cos(2 omega_1) theta_1 omega_1 + 0.010 cos(2 omega_1) theta_1 omega_2 + 0.018 cos(2 omega_1) theta_2^2 + -0.045 cos(2 omega_1) theta_2 omega_1 + -0.012 cos(2 omega_1) omega_1^2 + -0.002 cos(2 omega_1) omega_1 omega_2 + 0.007 cos(2 omega_1) omega_2^2 + 0.022 sin(2 omega_2) theta_1 + 0.009 sin(2 omega_2) theta_2 + 0.026 sin(2 omega_2) omega_1 + 0.014 sin(2 omega_2) omega_2 + 0.005 sin(2 omega_2) theta_1^2 + 0.003 sin(2 omega_2) theta_1 theta_2 + -0.002 sin(2 omega_2) theta_1 omega_1 + -0.009 sin(2 omega_2) theta_2 omega_1 + 0.002 sin(2 omega_2) theta_2 omega_2 + 0.001 sin(2 omega_2) omega_1^2 + -0.003 sin(2 omega_2) omega_1 omega_2 + 0.005 sin(2 omega_2) omega_2^2 + -0.017 cos(2 omega_2) theta_1 + -0.007 cos(2 omega_2) theta_2 + -0.031 cos(2 omega_2) omega_1 + -0.026 cos(2 omega_2) theta_1^2 + 0.003 cos(2 omega_2) theta_1 theta_2 + -0.004 cos(2 omega_2) theta_1 omega_1 + -0.005 cos(2 omega_2) theta_1 omega_2 + 0.004 cos(2 omega_2) theta_2^2 + -0.004 cos(2 omega_2) theta_2 omega_1 + -0.007 cos(2 omega_2) omega_1^2\n",
      "(theta_2)' = 0.006 sin(1 theta_1) + 0.007 sin(1 theta_2) + 0.001 cos(1 theta_2) + -0.007 sin(1 omega_1) + -0.002 cos(1 omega_1) + 0.089 sin(1 omega_2) + -0.001 cos(1 omega_2) + 0.012 sin(2 theta_1) + 0.014 cos(2 theta_1) + 0.019 sin(2 theta_2) + 0.001 cos(2 theta_2) + -0.008 cos(2 omega_1) + 0.057 sin(2 omega_2) + -0.013 cos(2 omega_2) + 0.005 theta_1 + 0.007 theta_2 + -0.055 omega_1 + 0.156 omega_2 + -0.018 theta_1^2 + -0.005 theta_1 theta_2 + 0.008 theta_1 omega_1 + 0.012 theta_1 omega_2 + -0.006 theta_2 omega_2 + -0.011 omega_1^2 + -0.038 omega_1 omega_2 + 0.006 omega_2^2 + -0.010 sin(1 theta_1) theta_1 + -0.005 sin(1 theta_1) theta_2 + 0.013 sin(1 theta_1) omega_1 + 0.001 sin(1 theta_1) omega_2 + -0.001 sin(1 theta_1) theta_1^2 + 0.008 sin(1 theta_1) theta_1 theta_2 + -0.005 sin(1 theta_1) theta_1 omega_1 + 0.092 sin(1 theta_1) theta_1 omega_2 + 0.003 sin(1 theta_1) theta_2^2 + -0.022 sin(1 theta_1) theta_2 omega_2 + -0.008 sin(1 theta_1) omega_1^2 + 0.058 sin(1 theta_1) omega_2^2 + 0.007 cos(1 theta_1) theta_1 + -0.049 cos(1 theta_1) omega_1 + 0.099 cos(1 theta_1) omega_2 + 0.002 cos(1 theta_1) theta_1^2 + 0.019 cos(1 theta_1) theta_1 omega_1 + -0.017 cos(1 theta_1) theta_1 omega_2 + 0.017 cos(1 theta_1) theta_2 omega_2 + -0.015 cos(1 theta_1) omega_1^2 + -0.041 cos(1 theta_1) omega_1 omega_2 + 0.029 cos(1 theta_1) omega_2^2 + -0.007 sin(1 theta_2) theta_1 + -0.006 sin(1 theta_2) omega_2 + 0.008 sin(1 theta_2) theta_1^2 + 0.004 sin(1 theta_2) theta_1 theta_2 + -0.027 sin(1 theta_2) theta_1 omega_2 + 0.032 sin(1 theta_2) theta_2 omega_2 + 0.008 sin(1 theta_2) omega_1^2 + -0.026 sin(1 theta_2) omega_1 omega_2 + 0.004 cos(1 theta_2) theta_1 + 0.008 cos(1 theta_2) theta_2 + -0.055 cos(1 theta_2) omega_1 + 0.139 cos(1 theta_2) omega_2 + -0.014 cos(1 theta_2) theta_1^2 + -0.011 cos(1 theta_2) theta_1 theta_2 + 0.008 cos(1 theta_2) theta_1 omega_2 + -0.006 cos(1 theta_2) theta_2 omega_2 + -0.013 cos(1 theta_2) omega_1^2 + -0.027 cos(1 theta_2) omega_1 omega_2 + -0.009 cos(1 theta_2) omega_2^2 + -0.005 sin(1 omega_1) theta_1 + 0.001 sin(1 omega_1) theta_2 + -0.018 sin(1 omega_1) omega_1 + -0.013 sin(1 omega_1) omega_2 + -0.016 sin(1 omega_1) theta_1^2 + -0.006 sin(1 omega_1) theta_1 omega_1 + 0.013 sin(1 omega_1) theta_1 omega_2 + -0.014 sin(1 omega_1) theta_2 omega_1 + 0.024 sin(1 omega_1) omega_1^2 + 0.015 sin(1 omega_1) omega_1 omega_2 + -0.022 sin(1 omega_1) omega_2^2 + 0.023 cos(1 omega_1) theta_1 + -0.006 cos(1 omega_1) theta_2 + 0.050 cos(1 omega_1) omega_1 + 0.033 cos(1 omega_1) omega_2 + -0.009 cos(1 omega_1) theta_1^2 + -0.002 cos(1 omega_1) theta_1 theta_2 + 0.022 cos(1 omega_1) theta_1 omega_2 + -0.001 cos(1 omega_1) theta_2^2 + -0.016 cos(1 omega_1) theta_2 omega_1 + 0.001 cos(1 omega_1) omega_1^2 + -0.014 cos(1 omega_1) omega_1 omega_2 + -0.023 cos(1 omega_1) omega_2^2 + 0.019 sin(1 omega_2) theta_1 + 0.003 sin(1 omega_2) theta_2 + 0.005 sin(1 omega_2) omega_1 + -0.026 sin(1 omega_2) omega_2 + 0.077 sin(1 omega_2) theta_1^2 + -0.011 sin(1 omega_2) theta_1 theta_2 + 0.021 sin(1 omega_2) theta_1 omega_1 + -0.001 sin(1 omega_2) theta_1 omega_2 + 0.017 sin(1 omega_2) theta_2^2 + 0.004 sin(1 omega_2) theta_2 omega_1 + -0.001 sin(1 omega_2) theta_2 omega_2 + -0.017 sin(1 omega_2) omega_1^2 + -0.019 sin(1 omega_2) omega_1 omega_2 + 0.020 sin(1 omega_2) omega_2^2 + -0.002 cos(1 omega_2) theta_1 + -0.014 cos(1 omega_2) theta_2 + 0.007 cos(1 omega_2) omega_2 + 0.019 cos(1 omega_2) theta_1^2 + 0.018 cos(1 omega_2) theta_1 theta_2 + 0.007 cos(1 omega_2) theta_1 omega_1 + 0.018 cos(1 omega_2) theta_1 omega_2 + -0.019 cos(1 omega_2) theta_2 omega_1 + 0.007 cos(1 omega_2) omega_1 omega_2 + -0.008 cos(1 omega_2) omega_2^2 + -0.011 sin(2 theta_1) theta_1 + 0.020 sin(2 theta_1) omega_1 + -0.030 sin(2 theta_1) omega_2 + 0.009 sin(2 theta_1) theta_1^2 + 0.004 sin(2 theta_1) theta_1 theta_2 + 0.017 sin(2 theta_1) theta_1 omega_1 + 0.047 sin(2 theta_1) theta_1 omega_2 + 0.016 sin(2 theta_1) theta_2^2 + -0.043 sin(2 theta_1) theta_2 omega_2 + 0.030 sin(2 theta_1) omega_1^2 + 0.008 sin(2 theta_1) omega_2^2 + 0.003 cos(2 theta_1) theta_1 + -0.006 cos(2 theta_1) theta_2 + -0.056 cos(2 theta_1) omega_1 + 0.022 cos(2 theta_1) omega_2 + -0.018 cos(2 theta_1) theta_1^2 + 0.002 cos(2 theta_1) theta_1 theta_2 + -0.021 cos(2 theta_1) theta_1 omega_1 + -0.034 cos(2 theta_1) theta_1 omega_2 + 0.023 cos(2 theta_1) theta_2^2 + 0.012 cos(2 theta_1) theta_2 omega_1 + -0.033 cos(2 theta_1) omega_1^2 + -0.008 cos(2 theta_1) omega_1 omega_2 + 0.027 cos(2 theta_1) omega_2^2 + -0.024 sin(2 theta_2) theta_1 + 0.012 sin(2 theta_2) omega_1 + -0.013 sin(2 theta_2) omega_2 + -0.003 sin(2 theta_2) theta_1^2 + 0.026 sin(2 theta_2) theta_1 theta_2 + -0.032 sin(2 theta_2) theta_1 omega_2 + -0.002 sin(2 theta_2) theta_2 omega_1 + 0.021 sin(2 theta_2) theta_2 omega_2 + -0.007 sin(2 theta_2) omega_1^2 + -0.033 sin(2 theta_2) omega_1 omega_2 + -0.010 sin(2 theta_2) omega_2^2 + -0.009 cos(2 theta_2) theta_1 + 0.019 cos(2 theta_2) theta_2 + -0.052 cos(2 theta_2) omega_1 + 0.104 cos(2 theta_2) omega_2 + -0.001 cos(2 theta_2) theta_1^2 + -0.018 cos(2 theta_2) theta_1 omega_1 + 0.003 cos(2 theta_2) theta_1 omega_2 + -0.011 cos(2 theta_2) theta_2 omega_2 + -0.034 cos(2 theta_2) omega_1^2 + 0.013 cos(2 theta_2) omega_1 omega_2 + -0.015 cos(2 theta_2) omega_2^2 + -0.006 sin(2 omega_1) theta_2 + -0.013 sin(2 omega_1) omega_1 + -0.012 sin(2 omega_1) omega_2 + 0.005 sin(2 omega_1) theta_1 omega_2 + 0.001 sin(2 omega_1) theta_2^2 + -0.001 sin(2 omega_1) omega_1^2 + 0.001 cos(2 omega_1) theta_1 + -0.004 cos(2 omega_1) omega_1 + -0.002 cos(2 omega_1) omega_2 + -0.008 cos(2 omega_1) theta_1^2 + 0.008 cos(2 omega_1) theta_1 omega_1 + -0.012 cos(2 omega_1) theta_1 omega_2 + 0.014 cos(2 omega_1) theta_2 omega_1 + -0.009 cos(2 omega_1) theta_2 omega_2 + 0.002 cos(2 omega_1) omega_1^2 + -0.001 cos(2 omega_1) omega_1 omega_2 + 0.002 cos(2 omega_1) omega_2^2 + -0.017 sin(2 omega_2) theta_1 + -0.011 sin(2 omega_2) theta_2 + -0.024 sin(2 omega_2) omega_1 + -0.011 sin(2 omega_2) omega_2 + -0.003 sin(2 omega_2) theta_1^2 + 0.021 sin(2 omega_2) theta_1 theta_2 + 0.008 sin(2 omega_2) theta_1 omega_2 + 0.007 sin(2 omega_2) theta_2^2 + 0.003 sin(2 omega_2) theta_2 omega_2 + -0.003 sin(2 omega_2) omega_1^2 + 0.002 sin(2 omega_2) omega_1 omega_2 + -0.009 sin(2 omega_2) omega_2^2 + 0.020 cos(2 omega_2) theta_1 + 0.001 cos(2 omega_2) theta_2 + -0.052 cos(2 omega_2) omega_2 + -0.008 cos(2 omega_2) theta_1^2 + 0.002 cos(2 omega_2) theta_1 omega_2 + -0.001 cos(2 omega_2) omega_1 omega_2\n",
      "(omega_1)' = 1.000 sin(1 theta_1) + -1.166 sin(1 theta_2) + 0.172 cos(1 theta_2) + -0.142 sin(1 omega_1) + -0.804 cos(1 omega_1) + -0.693 sin(1 omega_2) + 0.001 cos(1 omega_2) + 1.852 sin(2 theta_1) + 0.284 cos(2 theta_1) + -2.303 sin(2 theta_2) + 0.205 cos(2 theta_2) + -1.009 sin(2 omega_1) + -1.878 cos(2 omega_1) + -0.677 sin(2 omega_2) + -0.264 cos(2 omega_2) + 1.047 theta_1 + -1.175 theta_2 + 0.705 omega_1 + -0.898 omega_2 + 0.812 theta_1^2 + -0.282 theta_1 theta_2 + -0.908 theta_1 omega_1 + 1.326 theta_1 omega_2 + -0.069 theta_2^2 + 1.282 theta_2 omega_1 + -1.621 theta_2 omega_2 + 0.650 omega_1^2 + -0.121 omega_2^2 + 0.165 sin(1 theta_1) theta_1 + -0.094 sin(1 theta_1) theta_2 + -0.557 sin(1 theta_1) omega_1 + 0.965 sin(1 theta_1) omega_2 + 0.169 sin(1 theta_1) theta_1^2 + -0.373 sin(1 theta_1) theta_1 theta_2 + -1.075 sin(1 theta_1) theta_1 omega_1 + 0.123 sin(1 theta_1) theta_1 omega_2 + 0.077 sin(1 theta_1) theta_2^2 + -0.334 sin(1 theta_1) theta_2 omega_1 + -0.377 sin(1 theta_1) theta_2 omega_2 + 0.992 sin(1 theta_1) omega_1^2 + -1.718 sin(1 theta_1) omega_1 omega_2 + -0.010 sin(1 theta_1) omega_2^2 + 0.923 cos(1 theta_1) theta_1 + -0.900 cos(1 theta_1) theta_2 + 1.398 cos(1 theta_1) omega_1 + -0.935 cos(1 theta_1) omega_2 + -0.833 cos(1 theta_1) theta_1^2 + 0.038 cos(1 theta_1) theta_1 omega_1 + 0.361 cos(1 theta_1) theta_1 omega_2 + -0.120 cos(1 theta_1) theta_2^2 + 1.197 cos(1 theta_1) theta_2 omega_1 + -1.484 cos(1 theta_1) theta_2 omega_2 + 1.094 cos(1 theta_1) omega_1^2 + 0.112 cos(1 theta_1) omega_1 omega_2 + -0.711 cos(1 theta_1) omega_2^2 + -0.306 sin(1 theta_2) theta_1 + -0.027 sin(1 theta_2) theta_2 + 1.183 sin(1 theta_2) omega_1 + -1.441 sin(1 theta_2) omega_2 + -0.650 sin(1 theta_2) theta_1^2 + 0.232 sin(1 theta_2) theta_1 theta_2 + -0.355 sin(1 theta_2) theta_1 omega_1 + -0.623 sin(1 theta_2) theta_1 omega_2 + 1.048 sin(1 theta_2) theta_2 omega_1 + -0.473 sin(1 theta_2) theta_2 omega_2 + -0.777 sin(1 theta_2) omega_1^2 + 1.591 sin(1 theta_2) omega_1 omega_2 + -1.264 sin(1 theta_2) omega_2^2 + 0.916 cos(1 theta_2) theta_1 + -1.163 cos(1 theta_2) theta_2 + 0.117 cos(1 theta_2) omega_1 + -0.640 cos(1 theta_2) omega_2 + 0.730 cos(1 theta_2) theta_1^2 + -0.345 cos(1 theta_2) theta_1 theta_2 + 1.037 cos(1 theta_2) theta_1 omega_2 + 0.016 cos(1 theta_2) theta_2^2 + 1.000 cos(1 theta_2) theta_2 omega_1 + -1.040 cos(1 theta_2) theta_2 omega_2 + 0.527 cos(1 theta_2) omega_1^2 + -0.747 cos(1 theta_2) omega_1 omega_2 + -0.019 cos(1 theta_2) omega_2^2 + 0.211 sin(1 omega_1) theta_1 + -0.853 sin(1 omega_1) theta_2 + -2.390 sin(1 omega_1) omega_2 + -1.256 sin(1 omega_1) theta_1^2 + -0.185 sin(1 omega_1) theta_1 theta_2 + -2.185 sin(1 omega_1) theta_1 omega_1 + 1.656 sin(1 omega_1) theta_1 omega_2 + 0.023 sin(1 omega_1) theta_2^2 + 3.397 sin(1 omega_1) theta_2 omega_1 + -2.476 sin(1 omega_1) theta_2 omega_2 + -0.561 sin(1 omega_1) omega_1^2 + 0.665 sin(1 omega_1) omega_1 omega_2 + -0.692 sin(1 omega_1) omega_2^2 + -1.526 cos(1 omega_1) theta_1 + 0.699 cos(1 omega_1) theta_2 + -0.559 cos(1 omega_1) omega_1 + -0.351 cos(1 omega_1) omega_2 + 0.218 cos(1 omega_1) theta_1^2 + 0.031 cos(1 omega_1) theta_1 theta_2 + 1.215 cos(1 omega_1) theta_1 omega_1 + -2.295 cos(1 omega_1) theta_1 omega_2 + 0.456 cos(1 omega_1) theta_2^2 + -2.918 cos(1 omega_1) theta_2 omega_1 + 3.291 cos(1 omega_1) theta_2 omega_2 + -1.323 cos(1 omega_1) omega_1^2 + 0.142 cos(1 omega_1) omega_1 omega_2 + -2.048 cos(1 omega_1) omega_2^2 + -0.751 sin(1 omega_2) theta_1 + 0.229 sin(1 omega_2) theta_2 + -1.452 sin(1 omega_2) omega_1 + 0.211 sin(1 omega_2) omega_2 + -0.104 sin(1 omega_2) theta_1^2 + -0.332 sin(1 omega_2) theta_1 theta_2 + 0.001 sin(1 omega_2) theta_1 omega_1 + -3.203 sin(1 omega_2) theta_1 omega_2 + 0.524 sin(1 omega_2) theta_2^2 + -0.962 sin(1 omega_2) theta_2 omega_1 + 3.610 sin(1 omega_2) theta_2 omega_2 + -2.306 sin(1 omega_2) omega_1^2 + -0.835 sin(1 omega_2) omega_1 omega_2 + -1.072 sin(1 omega_2) omega_2^2 + -0.639 cos(1 omega_2) theta_1 + 0.568 cos(1 omega_2) theta_2 + 0.385 cos(1 omega_2) omega_1 + -0.459 cos(1 omega_2) omega_2 + -0.776 cos(1 omega_2) theta_1^2 + -0.070 cos(1 omega_2) theta_1 theta_2 + 2.660 cos(1 omega_2) theta_1 omega_1 + -2.054 cos(1 omega_2) theta_1 omega_2 + -0.129 cos(1 omega_2) theta_2^2 + -1.527 cos(1 omega_2) theta_2 omega_1 + 1.275 cos(1 omega_2) theta_2 omega_2 + 1.188 cos(1 omega_2) omega_1^2 + -1.283 cos(1 omega_2) omega_1 omega_2 + 0.455 cos(1 omega_2) omega_2^2 + -0.750 sin(2 theta_1) theta_1 + 0.071 sin(2 theta_1) theta_2 + -0.110 sin(2 theta_1) omega_1 + 0.862 sin(2 theta_1) omega_2 + 0.170 sin(2 theta_1) theta_1^2 + 0.007 sin(2 theta_1) theta_1 theta_2 + 1.002 sin(2 theta_1) theta_1 omega_1 + 0.149 sin(2 theta_1) theta_1 omega_2 + -0.094 sin(2 theta_1) theta_2^2 + -0.747 sin(2 theta_1) theta_2 omega_1 + 0.040 sin(2 theta_1) theta_2 omega_2 + -1.825 sin(2 theta_1) omega_1^2 + 1.130 sin(2 theta_1) omega_1 omega_2 + -3.257 sin(2 theta_1) omega_2^2 + 0.790 cos(2 theta_1) theta_1 + -0.740 cos(2 theta_1) theta_2 + 1.758 cos(2 theta_1) omega_1 + -1.152 cos(2 theta_1) omega_2 + 0.133 cos(2 theta_1) theta_1^2 + -0.234 cos(2 theta_1) theta_1 theta_2 + 0.393 cos(2 theta_1) theta_1 omega_1 + -0.271 cos(2 theta_1) theta_1 omega_2 + 1.550 cos(2 theta_1) theta_2 omega_1 + -0.509 cos(2 theta_1) theta_2 omega_2 + 2.160 cos(2 theta_1) omega_1^2 + -1.305 cos(2 theta_1) omega_1 omega_2 + 2.068 cos(2 theta_1) omega_2^2 + -0.699 sin(2 theta_2) theta_1 + -0.054 sin(2 theta_2) theta_2 + 1.842 sin(2 theta_2) omega_1 + -1.355 sin(2 theta_2) omega_2 + -0.796 sin(2 theta_2) theta_1^2 + 0.742 sin(2 theta_2) theta_1 theta_2 + -0.048 sin(2 theta_2) theta_1 omega_1 + -1.508 sin(2 theta_2) theta_1 omega_2 + -0.740 sin(2 theta_2) theta_2^2 + 0.836 sin(2 theta_2) theta_2 omega_1 + 0.188 sin(2 theta_2) theta_2 omega_2 + 1.453 sin(2 theta_2) omega_1^2 + -1.478 sin(2 theta_2) omega_1 omega_2 + 1.893 sin(2 theta_2) omega_2^2 + 0.522 cos(2 theta_2) theta_1 + -0.993 cos(2 theta_2) theta_2 + -0.961 cos(2 theta_2) omega_1 + -0.291 cos(2 theta_2) omega_2 + 0.773 cos(2 theta_2) theta_1^2 + -0.501 cos(2 theta_2) theta_1 theta_2 + -0.235 cos(2 theta_2) theta_1 omega_1 + 0.197 cos(2 theta_2) theta_2 omega_1 + 1.711 cos(2 theta_2) theta_2 omega_2 + -2.048 cos(2 theta_2) omega_1^2 + 1.674 cos(2 theta_2) omega_1 omega_2 + -0.437 cos(2 theta_2) omega_2^2 + 0.209 sin(2 omega_1) theta_1 + -2.524 sin(2 omega_1) theta_2 + -0.016 sin(2 omega_1) omega_1 + -1.218 sin(2 omega_1) omega_2 + -0.454 sin(2 omega_1) theta_1 theta_2 + -1.068 sin(2 omega_1) theta_1 omega_1 + -0.361 sin(2 omega_1) theta_1 omega_2 + 0.386 sin(2 omega_1) theta_2^2 + 0.695 sin(2 omega_1) theta_2 omega_1 + 1.400 sin(2 omega_1) theta_2 omega_2 + 0.006 sin(2 omega_1) omega_1^2 + 0.416 sin(2 omega_1) omega_1 omega_2 + 0.506 sin(2 omega_1) omega_2^2 + -2.558 cos(2 omega_1) theta_1 + 1.438 cos(2 omega_1) theta_2 + 0.189 cos(2 omega_1) omega_1 + 0.060 cos(2 omega_1) omega_2 + 0.002 cos(2 omega_1) theta_1^2 + -1.681 cos(2 omega_1) theta_1 theta_2 + -0.150 cos(2 omega_1) theta_1 omega_1 + 1.241 cos(2 omega_1) theta_1 omega_2 + 2.022 cos(2 omega_1) theta_2^2 + 1.750 cos(2 omega_1) theta_2 omega_1 + 0.835 cos(2 omega_1) theta_2 omega_2 + 0.592 cos(2 omega_1) omega_1^2 + 0.236 cos(2 omega_1) omega_1 omega_2 + -0.385 cos(2 omega_1) omega_2^2 + 0.565 sin(2 omega_2) theta_1 + -0.526 sin(2 omega_2) theta_2 + 0.024 sin(2 omega_2) omega_1 + -0.046 sin(2 omega_2) omega_2 + 0.530 sin(2 omega_2) theta_1^2 + 2.342 sin(2 omega_2) theta_1 theta_2 + 1.995 sin(2 omega_2) theta_1 omega_1 + -0.468 sin(2 omega_2) theta_1 omega_2 + 0.461 sin(2 omega_2) theta_2^2 + 0.617 sin(2 omega_2) theta_2 omega_1 + 0.809 sin(2 omega_2) theta_2 omega_2 + -0.227 sin(2 omega_2) omega_1^2 + 0.148 sin(2 omega_2) omega_2^2 + -4.146 cos(2 omega_2) theta_1 + 2.821 cos(2 omega_2) theta_2 + 0.303 cos(2 omega_2) omega_1 + -0.544 cos(2 omega_2) theta_1^2 + -1.252 cos(2 omega_2) theta_1 theta_2 + -0.744 cos(2 omega_2) theta_1 omega_1 + 1.069 cos(2 omega_2) theta_1 omega_2 + -0.141 cos(2 omega_2) theta_2^2 + 0.323 cos(2 omega_2) theta_2 omega_1 + 1.402 cos(2 omega_2) theta_2 omega_2 + -0.450 cos(2 omega_2) omega_1 omega_2 + -0.363 cos(2 omega_2) omega_2^2\n",
      "(omega_2)' = -0.736 sin(1 theta_1) + 0.268 cos(1 theta_1) + 0.992 sin(1 theta_2) + -0.042 cos(1 theta_2) + 0.114 sin(1 omega_1) + 0.549 sin(1 omega_2) + 0.237 cos(1 omega_2) + -1.319 sin(2 theta_1) + -0.065 cos(2 theta_1) + 1.959 sin(2 theta_2) + -0.345 cos(2 theta_2) + 0.939 sin(2 omega_1) + 1.503 cos(2 omega_1) + 1.227 sin(2 omega_2) + 0.362 cos(2 omega_2) + -0.812 theta_1 + 0.973 theta_2 + -0.412 omega_1 + 0.465 omega_2 + -0.774 theta_1^2 + 0.240 theta_1 theta_2 + 0.746 theta_1 omega_1 + -1.292 theta_1 omega_2 + 0.161 theta_2^2 + -1.017 theta_2 omega_1 + 1.440 theta_2 omega_2 + -0.481 omega_1^2 + -0.045 omega_2^2 + -0.183 sin(1 theta_1) theta_1 + 0.045 sin(1 theta_1) theta_2 + 0.453 sin(1 theta_1) omega_1 + -0.991 sin(1 theta_1) omega_2 + -0.241 sin(1 theta_1) theta_1^2 + 0.242 sin(1 theta_1) theta_1 theta_2 + 1.110 sin(1 theta_1) theta_1 omega_1 + -0.374 sin(1 theta_1) theta_1 omega_2 + 0.009 sin(1 theta_1) theta_2^2 + 0.399 sin(1 theta_1) theta_2 omega_1 + 0.330 sin(1 theta_1) theta_2 omega_2 + -0.841 sin(1 theta_1) omega_1^2 + 1.991 sin(1 theta_1) omega_1 omega_2 + -0.621 sin(1 theta_1) omega_2^2 + -0.614 cos(1 theta_1) theta_1 + 0.751 cos(1 theta_1) theta_2 + -1.123 cos(1 theta_1) omega_1 + 0.684 cos(1 theta_1) omega_2 + -0.263 cos(1 theta_1) theta_1 theta_2 + -0.031 cos(1 theta_1) theta_1 omega_1 + -0.469 cos(1 theta_1) theta_1 omega_2 + 0.195 cos(1 theta_1) theta_2^2 + -0.966 cos(1 theta_1) theta_2 omega_1 + 1.255 cos(1 theta_1) theta_2 omega_2 + -0.880 cos(1 theta_1) omega_1^2 + 0.025 cos(1 theta_1) omega_1 omega_2 + 0.362 cos(1 theta_1) omega_2^2 + 0.247 sin(1 theta_2) theta_1 + 0.165 sin(1 theta_2) theta_2 + -0.976 sin(1 theta_2) omega_1 + 1.253 sin(1 theta_2) omega_2 + 0.571 sin(1 theta_2) theta_1^2 + -0.202 sin(1 theta_2) theta_1 theta_2 + 0.437 sin(1 theta_2) theta_1 omega_1 + -0.083 sin(1 theta_2) theta_2^2 + -0.885 sin(1 theta_2) theta_2 omega_1 + 0.372 sin(1 theta_2) theta_2 omega_2 + 0.724 sin(1 theta_2) omega_1^2 + -1.823 sin(1 theta_2) omega_1 omega_2 + 1.517 sin(1 theta_2) omega_2^2 + -0.704 cos(1 theta_2) theta_1 + 1.024 cos(1 theta_2) theta_2 + 0.086 cos(1 theta_2) omega_1 + 0.262 cos(1 theta_2) omega_2 + 0.245 cos(1 theta_2) theta_1 theta_2 + 0.906 cos(1 theta_2) theta_1 omega_1 + -1.006 cos(1 theta_2) theta_1 omega_2 + 0.203 cos(1 theta_2) theta_2^2 + -0.890 cos(1 theta_2) theta_2 omega_1 + 0.804 cos(1 theta_2) theta_2 omega_2 + -0.308 cos(1 theta_2) omega_1^2 + 0.872 cos(1 theta_2) omega_1 omega_2 + -0.191 cos(1 theta_2) omega_2^2 + -0.270 sin(1 omega_1) theta_1 + 0.768 sin(1 omega_1) theta_2 + -1.342 sin(1 omega_1) omega_1 + 1.305 sin(1 omega_1) theta_1^2 + 0.415 sin(1 omega_1) theta_1 theta_2 + 1.502 sin(1 omega_1) theta_1 omega_1 + -1.128 sin(1 omega_1) theta_1 omega_2 + -0.124 sin(1 omega_1) theta_2^2 + -3.097 sin(1 omega_1) theta_2 omega_1 + 2.363 sin(1 omega_1) theta_2 omega_2 + 0.213 sin(1 omega_1) omega_1^2 + -0.752 sin(1 omega_1) omega_1 omega_2 + 0.825 sin(1 omega_1) omega_2^2 + -0.385 cos(1 omega_1) theta_2 + 0.277 cos(1 omega_1) omega_1 + 0.470 cos(1 omega_1) omega_2 + -0.208 cos(1 omega_1) theta_1^2 + -0.111 cos(1 omega_1) theta_1 theta_2 + -1.265 cos(1 omega_1) theta_1 omega_1 + 1.886 cos(1 omega_1) theta_1 omega_2 + -0.133 cos(1 omega_1) theta_2^2 + 2.418 cos(1 omega_1) theta_2 omega_1 + -3.120 cos(1 omega_1) theta_2 omega_2 + 1.450 cos(1 omega_1) omega_1^2 + -0.229 cos(1 omega_1) omega_1 omega_2 + 1.345 cos(1 omega_1) omega_2^2 + 0.486 sin(1 omega_2) theta_1 + -0.319 sin(1 omega_2) theta_2 + 1.351 sin(1 omega_2) omega_1 + -0.189 sin(1 omega_2) omega_2 + -0.141 sin(1 omega_2) theta_1^2 + 0.373 sin(1 omega_2) theta_1 theta_2 + -0.061 sin(1 omega_2) theta_1 omega_1 + 2.766 sin(1 omega_2) theta_1 omega_2 + -0.566 sin(1 omega_2) theta_2^2 + 1.160 sin(1 omega_2) theta_2 omega_1 + -3.117 sin(1 omega_2) theta_2 omega_2 + 1.744 sin(1 omega_2) omega_1^2 + -0.160 sin(1 omega_2) omega_1 omega_2 + 0.370 sin(1 omega_2) omega_2^2 + 0.665 cos(1 omega_2) theta_1 + -0.313 cos(1 omega_2) omega_1 + 0.734 cos(1 omega_2) omega_2 + 0.532 cos(1 omega_2) theta_1^2 + -0.026 cos(1 omega_2) theta_1 theta_2 + -2.485 cos(1 omega_2) theta_1 omega_1 + 1.653 cos(1 omega_2) theta_1 omega_2 + 1.995 cos(1 omega_2) theta_2 omega_1 + -1.327 cos(1 omega_2) theta_2 omega_2 + -1.945 cos(1 omega_2) omega_1^2 + 1.052 cos(1 omega_2) omega_1 omega_2 + 0.102 cos(1 omega_2) omega_2^2 + 0.753 sin(2 theta_1) theta_1 + -0.232 sin(2 theta_1) theta_2 + 0.171 sin(2 theta_1) omega_1 + -0.881 sin(2 theta_1) omega_2 + 0.378 sin(2 theta_1) theta_1^2 + -0.374 sin(2 theta_1) theta_1 theta_2 + -0.964 sin(2 theta_1) theta_1 omega_1 + 0.106 sin(2 theta_1) theta_1 omega_2 + 0.408 sin(2 theta_1) theta_2^2 + 0.679 sin(2 theta_1) theta_2 omega_1 + -0.010 sin(2 theta_1) theta_2 omega_2 + 2.099 sin(2 theta_1) omega_1^2 + -1.230 sin(2 theta_1) omega_1 omega_2 + 3.545 sin(2 theta_1) omega_2^2 + -0.663 cos(2 theta_1) theta_1 + 0.845 cos(2 theta_1) theta_2 + -1.523 cos(2 theta_1) omega_1 + 0.938 cos(2 theta_1) omega_2 + -0.131 cos(2 theta_1) theta_1 omega_1 + 0.611 cos(2 theta_1) theta_1 omega_2 + -1.178 cos(2 theta_1) theta_2 omega_1 + -0.040 cos(2 theta_1) theta_2 omega_2 + -2.396 cos(2 theta_1) omega_1^2 + 1.125 cos(2 theta_1) omega_1 omega_2 + -2.099 cos(2 theta_1) omega_2^2 + 0.461 sin(2 theta_2) theta_1 + 0.444 sin(2 theta_2) theta_2 + -1.639 sin(2 theta_2) omega_1 + 0.659 sin(2 theta_2) omega_2 + 0.897 sin(2 theta_2) theta_1^2 + -1.114 sin(2 theta_2) theta_1 theta_2 + 0.315 sin(2 theta_2) theta_1 omega_1 + 1.677 sin(2 theta_2) theta_1 omega_2 + 1.248 sin(2 theta_2) theta_2^2 + -0.527 sin(2 theta_2) theta_2 omega_1 + -0.870 sin(2 theta_2) theta_2 omega_2 + -1.141 sin(2 theta_2) omega_1^2 + 1.112 sin(2 theta_2) omega_1 omega_2 + -1.333 sin(2 theta_2) omega_2^2 + -0.213 cos(2 theta_2) theta_1 + 0.704 cos(2 theta_2) theta_2 + 0.943 cos(2 theta_2) omega_1 + 0.195 cos(2 theta_2) omega_2 + -0.796 cos(2 theta_2) theta_1^2 + 0.257 cos(2 theta_2) theta_1 theta_2 + 0.435 cos(2 theta_2) theta_1 omega_1 + 0.781 cos(2 theta_2) theta_1 omega_2 + 0.158 cos(2 theta_2) theta_2^2 + -0.302 cos(2 theta_2) theta_2 omega_1 + -2.600 cos(2 theta_2) theta_2 omega_2 + 2.308 cos(2 theta_2) omega_1^2 + -1.304 cos(2 theta_2) omega_1 omega_2 + 0.898 cos(2 theta_2) omega_2^2 + -0.500 sin(2 omega_1) theta_1 + 1.919 sin(2 omega_1) theta_2 + -0.262 sin(2 omega_1) omega_1 + 1.335 sin(2 omega_1) omega_2 + 0.179 sin(2 omega_1) theta_1^2 + 0.891 sin(2 omega_1) theta_1 theta_2 + 0.809 sin(2 omega_1) theta_1 omega_1 + 0.767 sin(2 omega_1) theta_1 omega_2 + -0.720 sin(2 omega_1) theta_2^2 + -0.850 sin(2 omega_1) theta_2 omega_1 + -0.696 sin(2 omega_1) theta_2 omega_2 + 0.441 sin(2 omega_1) omega_1^2 + -0.046 sin(2 omega_1) omega_1 omega_2 + -0.601 sin(2 omega_1) omega_2^2 + 1.995 cos(2 omega_1) theta_1 + -0.189 cos(2 omega_1) theta_2 + 0.428 cos(2 omega_1) omega_1 + 0.075 cos(2 omega_1) omega_2 + 0.258 cos(2 omega_1) theta_1^2 + 1.487 cos(2 omega_1) theta_1 theta_2 + 0.408 cos(2 omega_1) theta_1 omega_1 + -0.879 cos(2 omega_1) theta_1 omega_2 + -1.772 cos(2 omega_1) theta_2^2 + -1.127 cos(2 omega_1) theta_2 omega_1 + -0.493 cos(2 omega_1) theta_2 omega_2 + -0.262 cos(2 omega_1) omega_1^2 + -0.366 cos(2 omega_1) omega_1 omega_2 + -0.085 cos(2 omega_1) omega_2^2 + -0.566 sin(2 omega_2) theta_1 + 0.526 sin(2 omega_2) theta_2 + 0.430 sin(2 omega_2) omega_1 + -0.107 sin(2 omega_2) omega_2 + -0.506 sin(2 omega_2) theta_1^2 + -2.302 sin(2 omega_2) theta_1 theta_2 + -2.545 sin(2 omega_2) theta_1 omega_1 + 0.899 sin(2 omega_2) theta_1 omega_2 + -0.283 sin(2 omega_2) theta_2^2 + -1.308 sin(2 omega_2) theta_2 omega_1 + -0.100 sin(2 omega_2) theta_2 omega_2 + 0.209 sin(2 omega_2) omega_1^2 + -0.271 sin(2 omega_2) omega_1 omega_2 + -0.390 sin(2 omega_2) omega_2^2 + 2.949 cos(2 omega_2) theta_1 + -2.142 cos(2 omega_2) theta_2 + 0.328 cos(2 omega_2) omega_1 + -0.030 cos(2 omega_2) omega_2 + 0.828 cos(2 omega_2) theta_1^2 + 0.229 cos(2 omega_2) theta_1 theta_2 + -0.234 cos(2 omega_2) theta_1 omega_1 + -1.244 cos(2 omega_2) theta_1 omega_2 + -0.046 cos(2 omega_2) theta_2^2 + -0.819 cos(2 omega_2) theta_2 omega_1 + -1.585 cos(2 omega_2) theta_2 omega_2 + 0.495 cos(2 omega_2) omega_1^2 + 0.576 cos(2 omega_2) omega_1 omega_2 + 0.242 cos(2 omega_2) omega_2^2\n"
     ]
    }
   ],
   "source": [
    "model = iteratively_fit_sindy(true_derivatives,dt, all_libs, None, True, max_t=0.005,num=50)"
   ]
  },
  {
   "cell_type": "code",
   "execution_count": 26,
   "metadata": {},
   "outputs": [],
   "source": [
    "informed_simulation, info = model.simulate(test_initial_pendulum_config, t_test, integrator=\"odeint\", integrator_kws=odeint_integrator_args)\n",
    "informed_simulation = informed_simulation.T\n",
    "informed_simulation[:2] = loop_around_angles(informed_simulation[:2])\n",
    "\n",
    "joints_over_time_informed = compute_joints_position(informed_simulation[:2])"
   ]
  },
  {
   "cell_type": "code",
   "execution_count": 27,
   "metadata": {},
   "outputs": [],
   "source": [
    "animate_pendulum_double(test_joints_over_time,joints_over_time_informed,\"informed_pendulum.mp4\", interval=0.003, fps=30)\n",
    "draw_state_diagrams(x_test_theta, informed_simulation[:2], \"informed_simulation.png\")"
   ]
  },
  {
   "cell_type": "markdown",
   "metadata": {},
   "source": [
    "## Fitting with noise"
   ]
  },
  {
   "cell_type": "code",
   "execution_count": 32,
   "metadata": {},
   "outputs": [],
   "source": [
    "noise_magnitude = 0.01\n",
    "train_noise = np.random.normal(0, 1, x_train.shape) * noise_magnitude"
   ]
  },
  {
   "cell_type": "markdown",
   "metadata": {},
   "source": [
    "### Clean derivatives"
   ]
  },
  {
   "cell_type": "code",
   "execution_count": 33,
   "metadata": {},
   "outputs": [
    {
     "name": "stdout",
     "output_type": "stream",
     "text": [
      " Iteration ... |y - Xw|^2 ...  a * |w|_2 ...      |w|_0 ... Total error: |y - Xw|^2 + a * |w|_2\n",
      "         0 ... 3.8399e+02 ... 1.7384e-01 ...        405 ... 3.8416e+02\n",
      "         1 ... 7.7162e+00 ... 1.8936e-01 ...        379 ... 7.9055e+00\n",
      "         2 ... 2.0145e+00 ... 1.9912e-01 ...        373 ... 2.2136e+00\n",
      "         3 ... 1.6851e+00 ... 2.0362e-01 ...        370 ... 1.8887e+00\n",
      "         4 ... 1.6047e+00 ... 2.0401e-01 ...        370 ... 1.8087e+00\n",
      "(theta_1)' = 0.999 omega_1\n",
      "(theta_2)' = 0.998 omega_2\n",
      "(omega_1)' = 22369716.538 sin(1 theta_1) + 252092.670 cos(1 theta_1) + 9449966.129 cos(1 omega_1) + -1749054.148 cos(1 omega_2) + -80198798.778 sin(2 theta_1) + -23495.207 cos(2 theta_1) + -31733.999 sin(2 theta_2) + -4345165.101 cos(2 theta_2) + -350669.452 sin(2 omega_1) + -3648193.902 cos(2 omega_1) + -498.806 sin(2 omega_2) + 55650.169 cos(2 omega_2) + 37766137.444 theta_1 + -9336629.235 omega_1 + 55186.125 omega_2 + 91002.661 theta_1^2 + -192432.773 theta_1 theta_2 + 415598.998 theta_1 omega_1 + -1063564.934 theta_1 omega_2 + 18863134.468 theta_2^2 + -316570.398 theta_2 omega_1 + 325990.614 theta_2 omega_2 + 1090228.254 omega_1^2 + -14135.393 omega_1 omega_2 + -210992.610 omega_2^2 + -5460807.359 sin(1 theta_1) theta_2 + -215583.339 sin(1 theta_1) omega_1 + 1674401.582 sin(1 theta_1) omega_2 + -13019811.437 sin(1 theta_1) theta_1^2 + -175105.667 sin(1 theta_1) theta_1 theta_2 + 1664.590 sin(1 theta_1) theta_1 omega_1 + 20987.952 sin(1 theta_1) theta_2 omega_2 + 8859.581 sin(1 theta_1) omega_1^2 + -109.663 sin(1 theta_1) omega_1 omega_2 + 16027.166 sin(1 theta_1) omega_2^2 + 68146696.032 cos(1 theta_1) theta_1 + -14144.925 cos(1 theta_1) omega_2 + 3968327.466 cos(1 theta_1) theta_1 theta_2 + 89727.448 cos(1 theta_1) theta_1 omega_1 + -670232.524 cos(1 theta_1) theta_1 omega_2 + -99155.315 cos(1 theta_1) theta_2^2 + 1445.578 cos(1 theta_1) theta_2 omega_1 + -6453.536 cos(1 theta_1) omega_1^2 + -18116.954 cos(1 theta_1) omega_1 omega_2 + -4064.709 cos(1 theta_1) omega_2^2 + 6670613.320 sin(1 theta_2) theta_1 + -30466996.902 sin(1 theta_2) theta_2 + 281726.899 sin(1 theta_2) omega_1 + -733367.858 sin(1 theta_2) omega_2 + 9688117.955 sin(1 theta_2) theta_2 omega_1 + 22542.028 sin(1 theta_2) omega_1 omega_2 + 12718.162 sin(1 theta_2) omega_2^2 + 987609.377 cos(1 theta_2) theta_1 + 5285497.850 cos(1 theta_2) omega_1 + -3464200.868 cos(1 theta_2) theta_1 theta_2 + 20680.867 cos(1 theta_2) theta_1 omega_1 + 9979.097 cos(1 theta_2) theta_1 omega_2 + 21933981.608 cos(1 theta_2) theta_2^2 + -77072.918 cos(1 theta_2) omega_1^2 + 36165.524 cos(1 theta_2) omega_1 omega_2 + -527758.296 sin(1 omega_1) theta_1 + 57466.764 sin(1 omega_1) theta_2 + -4014.174 sin(1 omega_1) theta_1 theta_2 + -284859.044 sin(1 omega_1) theta_1 omega_1 + 13970.921 sin(1 omega_1) theta_1 omega_2 + -84834.727 sin(1 omega_1) theta_2^2 + 40004.624 sin(1 omega_1) theta_2 omega_1 + 8706.683 sin(1 omega_1) theta_2 omega_2 + -579610.791 sin(1 omega_1) omega_1^2 + 8435.974 sin(1 omega_1) omega_1 omega_2 + -295138.016 cos(1 omega_1) theta_1 + 42384.103 cos(1 omega_1) theta_2 + -64410.342 cos(1 omega_1) omega_2 + 5225.115 cos(1 omega_1) theta_1^2 + 4007.842 cos(1 omega_1) theta_1 theta_2 + 62602.827 cos(1 omega_1) theta_1 omega_1 + -19712.696 cos(1 omega_1) theta_2 omega_1 + 1268.838 cos(1 omega_1) theta_2 omega_2 + -970925.148 cos(1 omega_1) omega_1^2 + -6485.749 cos(1 omega_1) omega_1 omega_2 + 16712.119 cos(1 omega_1) omega_2^2 + 25143.713 sin(1 omega_2) theta_1 + 13420.731 sin(1 omega_2) theta_2 + -3452.937 sin(1 omega_2) omega_1 + -732091.912 sin(1 omega_2) omega_2 + 351.271 sin(1 omega_2) theta_1 theta_2 + -8143.621 sin(1 omega_2) theta_1 omega_1 + 2973.418 sin(1 omega_2) theta_2^2 + -13866.487 sin(1 omega_2) theta_2 omega_1 + -16142.397 sin(1 omega_2) theta_2 omega_2 + -9679.527 sin(1 omega_2) omega_1^2 + -28943.423 sin(1 omega_2) omega_1 omega_2 + 34905.718 cos(1 omega_2) theta_1 + 10884.943 cos(1 omega_2) theta_2 + -1366.401 cos(1 omega_2) theta_1^2 + 6331.444 cos(1 omega_2) theta_1 omega_1 + -12055.933 cos(1 omega_2) theta_1 omega_2 + 6321.112 cos(1 omega_2) theta_2^2 + 16064.889 cos(1 omega_2) theta_2 omega_1 + 3869.306 cos(1 omega_2) omega_1^2 + 139501.614 cos(1 omega_2) omega_2^2 + -1414826.185 sin(2 theta_1) theta_2 + 3780045.899 sin(2 theta_1) theta_1^2 + -75731.295 sin(2 theta_1) theta_1 theta_2 + 2485.084 sin(2 theta_1) theta_1 omega_2 + -31785.203 sin(2 theta_1) theta_2^2 + 3913.953 sin(2 theta_1) theta_2 omega_1 + 3925.350 sin(2 theta_1) theta_2 omega_2 + 769.006 sin(2 theta_1) omega_1^2 + 3783.633 sin(2 theta_1) omega_1 omega_2 + -2549.673 sin(2 theta_1) omega_2^2 + 31837008.870 cos(2 theta_1) theta_1 + -143457.338 cos(2 theta_1) theta_2 + -3161.023 cos(2 theta_1) omega_1 + 425292.702 cos(2 theta_1) theta_1 theta_2 + 3469.416 cos(2 theta_1) theta_1 omega_1 + 39697.904 cos(2 theta_1) theta_1 omega_2 + 38720.129 cos(2 theta_1) theta_2^2 + 11411.960 cos(2 theta_1) theta_2 omega_1 + 7900.487 cos(2 theta_1) theta_2 omega_2 + -816.001 cos(2 theta_1) omega_1^2 + 930.373 cos(2 theta_1) omega_1 omega_2 + 11.653 cos(2 theta_1) omega_2^2 + 448160.563 sin(2 theta_2) theta_1 + -10920957.365 sin(2 theta_2) theta_2 + 247802.856 sin(2 theta_2) omega_2 + -122098.934 sin(2 theta_2) theta_1 theta_2 + -4592.716 sin(2 theta_2) theta_1 omega_1 + -11187.088 sin(2 theta_2) theta_1 omega_2 + 116880.605 sin(2 theta_2) theta_2^2 + 1382376.161 sin(2 theta_2) theta_2 omega_1 + -12278.794 sin(2 theta_2) theta_2 omega_2 + 2870.378 sin(2 theta_2) omega_1^2 + -2063.633 sin(2 theta_2) omega_1 omega_2 + -363927.174 cos(2 theta_2) theta_1 + 152338.131 cos(2 theta_2) theta_2 + 4863294.225 cos(2 theta_2) omega_1 + -13991.161 cos(2 theta_2) omega_2 + -6571.027 cos(2 theta_2) theta_1^2 + 10638.023 cos(2 theta_2) theta_1 omega_1 + 9645.687 cos(2 theta_2) theta_1 omega_2 + 2880679.489 cos(2 theta_2) theta_2^2 + -15151.811 cos(2 theta_2) theta_2 omega_1 + -100003.909 cos(2 theta_2) theta_2 omega_2 + 6427.192 cos(2 theta_2) omega_1^2 + -8674.432 cos(2 theta_2) omega_1 omega_2 + -1142.394 cos(2 theta_2) omega_2^2 + 92174.012 sin(2 omega_1) theta_1 + 1377.960 sin(2 omega_1) theta_2 + -1383411.246 sin(2 omega_1) omega_1 + -66.397 sin(2 omega_1) theta_1^2 + -3079.092 sin(2 omega_1) theta_1 theta_2 + -12498.902 sin(2 omega_1) theta_1 omega_1 + -3535.280 sin(2 omega_1) theta_1 omega_2 + -4655.509 sin(2 omega_1) theta_2^2 + -3321.069 sin(2 omega_1) theta_2 omega_1 + -5704.127 sin(2 omega_1) theta_2 omega_2 + -50332.922 sin(2 omega_1) omega_1^2 + 10918.955 sin(2 omega_1) omega_1 omega_2 + 2440.958 sin(2 omega_1) omega_2^2 + -80540.144 cos(2 omega_1) theta_1 + -107112.677 cos(2 omega_1) omega_1 + 30103.513 cos(2 omega_1) omega_2 + -244.991 cos(2 omega_1) theta_1^2 + -34243.415 cos(2 omega_1) theta_1 omega_1 + -3380.090 cos(2 omega_1) theta_1 omega_2 + 7246.135 cos(2 omega_1) theta_2^2 + -7278.593 cos(2 omega_1) theta_2 omega_1 + -5546.158 cos(2 omega_1) theta_2 omega_2 + 144971.074 cos(2 omega_1) omega_1^2 + 2684.055 cos(2 omega_1) omega_1 omega_2 + -2100.151 cos(2 omega_1) omega_2^2 + 473.338 sin(2 omega_2) theta_1 + -3638.104 sin(2 omega_2) theta_2 + 16125.735 sin(2 omega_2) omega_2 + -576.479 sin(2 omega_2) theta_1^2 + -711.939 sin(2 omega_2) theta_1 theta_2 + -456.275 sin(2 omega_2) theta_1 omega_1 + -228.972 sin(2 omega_2) theta_1 omega_2 + -568.455 sin(2 omega_2) theta_2^2 + 266.517 sin(2 omega_2) theta_2 omega_2 + 862.628 sin(2 omega_2) omega_1^2 + -2042.417 sin(2 omega_2) omega_1 omega_2 + -13597.256 cos(2 omega_2) omega_1 + -661.110 cos(2 omega_2) theta_1^2 + -1778.097 cos(2 omega_2) theta_1 theta_2 + -13.644 cos(2 omega_2) theta_1 omega_2 + -1403.643 cos(2 omega_2) theta_2^2 + 184.388 cos(2 omega_2) theta_2 omega_1 + 1201.499 cos(2 omega_2) theta_2 omega_2 + -642.324 cos(2 omega_2) omega_1^2 + 489.221 cos(2 omega_2) omega_1 omega_2 + -1508.493 cos(2 omega_2) omega_2^2\n",
      "(omega_2)' = 5130232.454 cos(1 theta_2) + -609131.282 cos(1 omega_2) + -1577721.999 cos(2 theta_1) + -20256933.216 sin(2 theta_2) + -3026952.696 cos(2 theta_2) + 36749.026 sin(2 omega_1) + 46681.537 cos(2 omega_1) + 42163.734 cos(2 omega_2) + -65615.816 theta_1 + 99879.968 omega_1 + -700853.432 theta_1^2 + -100526.603 theta_1 omega_1 + 23217.504 theta_1 omega_2 + 3114611.514 theta_2^2 + -381169.560 theta_2 omega_1 + -362142.978 theta_2 omega_2 + 112950.283 omega_1^2 + 4094.292 omega_1 omega_2 + -108182.846 omega_2^2 + -717701.969 sin(1 theta_1) theta_1 + 174678.954 sin(1 theta_1) omega_1 + -44828.383 sin(1 theta_1) omega_2 + -1565.208 sin(1 theta_1) theta_1^2 + 222044.490 sin(1 theta_1) theta_1 theta_2 + -19975.325 sin(1 theta_1) theta_1 omega_1 + -19748.131 sin(1 theta_1) theta_2 omega_2 + 8184.512 sin(1 theta_1) omega_1^2 + 302.969 sin(1 theta_1) omega_1 omega_2 + 846.627 sin(1 theta_1) omega_2^2 + -850027.871 cos(1 theta_1) theta_1^2 + 5828.512 cos(1 theta_1) theta_2^2 + -9594.285 cos(1 theta_1) omega_1^2 + 5150.364 cos(1 theta_1) omega_1 omega_2 + -6211430.945 sin(1 theta_2) theta_2 + 748162.884 sin(1 theta_2) omega_1 + 929780.216 sin(1 theta_2) omega_2 + 11270.223 sin(1 theta_2) theta_1^2 + 8182704.353 sin(1 theta_2) theta_2^2 + 110650.661 sin(1 theta_2) omega_1^2 + 34513.535 sin(1 theta_2) omega_1 omega_2 + 23452.955 sin(1 theta_2) omega_2^2 + 25918937.820 cos(1 theta_2) theta_2 + -104058.345 cos(1 theta_2) omega_1 + -183194.851 cos(1 theta_2) theta_1^2 + -94901.434 cos(1 theta_2) omega_1^2 + 32582.839 cos(1 theta_2) omega_2^2 + 1494.269 sin(1 omega_1) theta_1^2 + 30961.142 sin(1 omega_1) theta_1 omega_1 + -46837.028 sin(1 omega_1) theta_2^2 + 259301.772 sin(1 omega_1) theta_2 omega_1 + -6375.214 sin(1 omega_1) theta_2 omega_2 + -25362.179 sin(1 omega_1) omega_1^2 + -19330.270 sin(1 omega_1) omega_1 omega_2 + 76279.790 cos(1 omega_1) theta_1 + 742849.994 cos(1 omega_1) theta_2 + -21196.364 cos(1 omega_1) omega_2 + 6052.904 cos(1 omega_1) theta_1^2 + 2990.898 cos(1 omega_1) theta_1 theta_2 + 11879.111 cos(1 omega_1) theta_1 omega_1 + 5433.362 cos(1 omega_1) theta_1 omega_2 + 228092.707 cos(1 omega_1) theta_2 omega_1 + -21048.232 cos(1 omega_1) theta_2 omega_2 + 41986.592 cos(1 omega_1) omega_1^2 + -7965.604 cos(1 omega_1) omega_1 omega_2 + -6343.981 cos(1 omega_1) omega_2^2 + 6281.413 sin(1 omega_2) omega_1 + -196069.112 sin(1 omega_2) omega_2 + -4754.798 sin(1 omega_2) theta_1 theta_2 + -4826.466 sin(1 omega_2) theta_1 omega_1 + -10379.328 sin(1 omega_2) theta_2^2 + -4475.195 sin(1 omega_2) theta_2 omega_1 + 3224.370 sin(1 omega_2) omega_1^2 + 7560.543 sin(1 omega_2) omega_1 omega_2 + 11734.133 cos(1 omega_2) theta_1 + 28242.314 cos(1 omega_2) theta_2 + 2694.437 cos(1 omega_2) theta_1^2 + 4733.535 cos(1 omega_2) theta_1 omega_1 + -5874.992 cos(1 omega_2) theta_1 omega_2 + -9255.812 cos(1 omega_2) theta_2^2 + 7401.792 cos(1 omega_2) theta_2 omega_1 + 2280.613 cos(1 omega_2) theta_2 omega_2 + 2239.563 cos(1 omega_2) omega_1^2 + 42584.893 cos(1 omega_2) omega_2^2 + -386313.695 sin(2 theta_1) theta_1 + -3859.257 sin(2 theta_1) theta_2 + -58161.822 sin(2 theta_1) omega_1 + 11610.989 sin(2 theta_1) omega_2 + 97387.503 sin(2 theta_1) theta_1 theta_2 + -885.695 sin(2 theta_1) theta_1 omega_2 + 16482.119 sin(2 theta_1) theta_2^2 + 4183.071 sin(2 theta_1) theta_2 omega_1 + -1314.832 sin(2 theta_1) theta_2 omega_2 + -2566.337 sin(2 theta_1) omega_1^2 + -5606.456 sin(2 theta_1) omega_1 omega_2 + -1704.579 sin(2 theta_1) omega_2^2 + 203939.970 cos(2 theta_1) theta_2 + -7910.655 cos(2 theta_1) omega_1 + -2490.907 cos(2 theta_1) omega_2 + -1834.438 cos(2 theta_1) theta_1 theta_2 + 20351.459 cos(2 theta_1) theta_1 omega_1 + -10266.711 cos(2 theta_1) theta_1 omega_2 + -4207.547 cos(2 theta_1) theta_2^2 + -5706.103 cos(2 theta_1) theta_2 omega_1 + -5331.508 cos(2 theta_1) theta_2 omega_2 + 3598.798 cos(2 theta_1) omega_1^2 + 112.195 cos(2 theta_1) omega_1 omega_2 + 40.746 cos(2 theta_1) omega_2^2 + -228416.314 sin(2 theta_2) omega_1 + -347425.215 sin(2 theta_2) omega_2 + -42327.091 sin(2 theta_2) theta_1 theta_2 + 412.658 sin(2 theta_2) theta_1 omega_1 + 15987.863 sin(2 theta_2) theta_1 omega_2 + 2538940.925 sin(2 theta_2) theta_2^2 + 2352.507 sin(2 theta_2) theta_2 omega_1 + 44467.493 sin(2 theta_2) theta_2 omega_2 + -11519.528 sin(2 theta_2) omega_1^2 + -12249.821 sin(2 theta_2) omega_1 omega_2 + -11506.778 sin(2 theta_2) omega_2^2 + -24346.174 cos(2 theta_2) theta_1 + 13661662.955 cos(2 theta_2) theta_2 + 40100.746 cos(2 theta_2) omega_2 + 51183.615 cos(2 theta_2) theta_1^2 + -11176.112 cos(2 theta_2) theta_1 theta_2 + -4401.699 cos(2 theta_2) theta_1 omega_1 + -13051.662 cos(2 theta_2) theta_1 omega_2 + -394072.818 cos(2 theta_2) theta_2^2 + 91925.332 cos(2 theta_2) theta_2 omega_1 + 147732.645 cos(2 theta_2) theta_2 omega_2 + 16723.736 cos(2 theta_2) omega_1^2 + 4297.442 cos(2 theta_2) omega_1 omega_2 + -3196.659 cos(2 theta_2) omega_2^2 + -130627.244 sin(2 omega_1) theta_2 + 17554.060 sin(2 omega_1) omega_1 + -515.104 sin(2 omega_1) omega_2 + 386.154 sin(2 omega_1) theta_1^2 + 1341.594 sin(2 omega_1) theta_1 theta_2 + 1220.965 sin(2 omega_1) theta_1 omega_1 + -10.869 sin(2 omega_1) theta_1 omega_2 + -1744.452 sin(2 omega_1) theta_2^2 + -27939.972 sin(2 omega_1) theta_2 omega_1 + -3367.137 sin(2 omega_1) theta_2 omega_2 + -13547.000 sin(2 omega_1) omega_1^2 + -5765.947 sin(2 omega_1) omega_1 omega_2 + -683.883 sin(2 omega_1) omega_2^2 + -45331.696 cos(2 omega_1) theta_2 + -51966.162 cos(2 omega_1) omega_1 + -10562.184 cos(2 omega_1) omega_2 + -1007.831 cos(2 omega_1) theta_1 theta_2 + -2380.552 cos(2 omega_1) theta_1 omega_1 + -1774.836 cos(2 omega_1) theta_1 omega_2 + 4407.475 cos(2 omega_1) theta_2^2 + 26786.636 cos(2 omega_1) theta_2 omega_1 + 1351.278 cos(2 omega_1) theta_2 omega_2 + -6889.257 cos(2 omega_1) omega_1^2 + 254.977 cos(2 omega_1) omega_1 omega_2 + 1120.134 cos(2 omega_1) omega_2^2 + 4835.502 sin(2 omega_2) theta_1 + 12423.499 sin(2 omega_2) omega_2 + -929.222 sin(2 omega_2) theta_1^2 + -1868.055 sin(2 omega_2) theta_1 theta_2 + 608.436 sin(2 omega_2) theta_1 omega_1 + 191.123 sin(2 omega_2) theta_1 omega_2 + -418.264 sin(2 omega_2) theta_2^2 + -205.369 sin(2 omega_2) omega_1^2 + 699.164 sin(2 omega_2) omega_1 omega_2 + 210.970 sin(2 omega_2) omega_2^2 + 2482.866 cos(2 omega_2) omega_1 + -570.524 cos(2 omega_2) theta_1 theta_2 + -916.179 cos(2 omega_2) theta_1 omega_2 + -980.011 cos(2 omega_2) theta_2^2 + -13.484 cos(2 omega_2) theta_2 omega_1 + 221.649 cos(2 omega_2) theta_2 omega_2 + -174.904 cos(2 omega_2) omega_1^2 + -245.867 cos(2 omega_2) omega_1 omega_2 + -904.158 cos(2 omega_2) omega_2^2\n"
     ]
    }
   ],
   "source": [
    "model = ps.SINDy(feature_library=all_libs,optimizer=ps.optimizers.STLSQ(threshold=0.33e-1, max_iter=35, alpha=0.015, verbose=True),  feature_names=['theta_1', 'theta_2', 'omega_1', 'omega_2'])\n",
    "model.fit(np.nan_to_num((x_train + train_noise), posinf=0, neginf=0, nan=0, copy=False).T, t=dt,x_dot = true_derivatives)\n",
    "model.print()"
   ]
  },
  {
   "cell_type": "code",
   "execution_count": null,
   "metadata": {},
   "outputs": [
    {
     "name": "stderr",
     "output_type": "stream",
     "text": [
      "/home/kaba4ok/Documents/oles_territory/studies_in_Lviv/year3/sem2/MMML/project/poc/.venv/lib/python3.10/site-packages/pysindy/pysindy.py:901: ODEintWarning: Excess work done on this call (perhaps wrong Dfun type). Run with full_output = 1 to get quantitative information.\n",
      "  return odeint(rhs, x0, t, tfirst=True, **integrator_kws)\n"
     ]
    }
   ],
   "source": [
    "informed_noisy_simulation, info = model.simulate(test_initial_pendulum_config, t_test, integrator=\"odeint\", integrator_kws=odeint_integrator_args)\n",
    "informed_noisy_simulation = informed_noisy_simulation.T\n",
    "informed_noisy_simulation[:2] = loop_around_angles(informed_noisy_simulation[:2])\n",
    "\n",
    "joints_over_time_noisy_informed = compute_joints_position(informed_noisy_simulation[:2])"
   ]
  },
  {
   "cell_type": "code",
   "execution_count": null,
   "metadata": {},
   "outputs": [],
   "source": [
    "animate_pendulum_double(test_joints_over_time,joints_over_time_noisy_informed,\"informed_noisy_pendulum.mp4\", interval=0.003, fps=30)\n",
    "draw_state_diagrams(x_test_theta, informed_noisy_simulation[:2], \"informed_noisy_simulation.png\")"
   ]
  },
  {
   "cell_type": "markdown",
   "metadata": {},
   "source": [
    "### Applying smoother"
   ]
  },
  {
   "cell_type": "code",
   "execution_count": null,
   "metadata": {},
   "outputs": [],
   "source": [
    "best_model = iteratively_fit_sindy(true_derivatives, dt, all_libs, train_noise, differentiation_method=ps.differentiation.SmoothedFiniteDifference(smoother_kws={'window_length': 6, 'polyorder':1,'mode':'nearest'}))"
   ]
  },
  {
   "cell_type": "code",
   "execution_count": 92,
   "metadata": {},
   "outputs": [
    {
     "name": "stderr",
     "output_type": "stream",
     "text": [
      "/home/kaba4ok/Documents/oles_territory/studies_in_Lviv/year3/sem2/MMML/project/poc/.venv/lib/python3.10/site-packages/pysindy/pysindy.py:901: ODEintWarning: Excess work done on this call (perhaps wrong Dfun type). Run with full_output = 1 to get quantitative information.\n",
      "  return odeint(rhs, x0, t, tfirst=True, **integrator_kws)\n"
     ]
    }
   ],
   "source": [
    "smoothed_noisy_simulation, info = best_model.simulate(test_initial_pendulum_config, t_test, integrator=\"odeint\", integrator_kws=odeint_integrator_args)\n",
    "smoothed_noisy_simulation = smoothed_noisy_simulation.T\n",
    "smoothed_noisy_simulation[:2] = loop_around_angles(smoothed_noisy_simulation[:2])\n",
    "\n",
    "joints_over_time_noisy_smmothed = compute_joints_position(smoothed_noisy_simulation[:2])"
   ]
  },
  {
   "cell_type": "code",
   "execution_count": 93,
   "metadata": {},
   "outputs": [],
   "source": [
    "animate_pendulum_double(test_joints_over_time,joints_over_time_noisy_smmothed, \"smoothed_noisy_pendulum.mp4\", interval=0.003, fps=30)\n",
    "draw_state_diagrams(x_test_theta, smoothed_noisy_simulation[:2], \"smoothed_noisy_simulation.png\")"
   ]
  }
 ],
 "metadata": {
  "kernelspec": {
   "display_name": ".venv",
   "language": "python",
   "name": "python3"
  },
  "language_info": {
   "codemirror_mode": {
    "name": "ipython",
    "version": 3
   },
   "file_extension": ".py",
   "mimetype": "text/x-python",
   "name": "python",
   "nbconvert_exporter": "python",
   "pygments_lexer": "ipython3",
   "version": "3.10.12"
  }
 },
 "nbformat": 4,
 "nbformat_minor": 2
}
