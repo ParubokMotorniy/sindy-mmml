{
  "cells": [
    {
      "cell_type": "markdown",
      "metadata": {
        "id": "XeCktzJw9Ifj"
      },
      "source": [
        "## DNN (Learning dynamic)"
      ]
    },
    {
      "cell_type": "markdown",
      "metadata": {
        "id": "Edv16T3j9jtz"
      },
      "source": [
        "In this approach, we will learn the second derivative of θ'', given θ and θ'. In this experiment we want to proof that learning dynamic can help model to learn underlying dynamical system. Also this provides as with solid baseline.\n"
      ]
    },
    {
      "cell_type": "code",
      "execution_count": null,
      "metadata": {
        "id": "ZmHkOg-KSrWl"
      },
      "outputs": [],
      "source": [
        "import random\n",
        "import os\n",
        "import torch\n",
        "import torch.nn as nn\n",
        "import torch.optim as optim\n",
        "import numpy as np\n",
        "import matplotlib.pyplot as plt\n",
        "import matplotlib.animation as animation\n",
        "import numpy as np\n",
        "from utils import *\n",
        "from copy import copy\n",
        "\n",
        "def fix_seed(seed=42):\n",
        "    random.seed(seed)\n",
        "    np.random.seed(seed)\n",
        "    torch.manual_seed(seed)\n",
        "    torch.cuda.manual_seed(seed)\n",
        "    torch.cuda.manual_seed_all(seed)\n",
        "    torch.backends.cudnn.deterministic = True\n",
        "    torch.backends.cudnn.benchmark = False\n",
        "    os.environ['PYTHONHASHSEED'] = str(seed)\n",
        "\n",
        "fix_seed(42)\n"
      ]
    },
    {
      "cell_type": "code",
      "execution_count": 3,
      "metadata": {
        "id": "ldMBzy58SrWm"
      },
      "outputs": [],
      "source": [
        "L = 4\n",
        "M = 2\n",
        "G = 9.8\n",
        "simulation_duration = 10\n",
        "\n",
        "dt = .01\n",
        "rk_integrator_args = {}\n",
        "rk_integrator_args['rtol'] = 1e-13\n",
        "rk_integrator_args['method'] = 'RK45'\n",
        "rk_integrator_args['atol'] = 1e-10\n",
        "\n",
        "odeint_integrator_args = {}\n",
        "odeint_integrator_args['rtol'] = 1e-13\n",
        "odeint_integrator_args['atol'] = 1e-10\n",
        "odeint_integrator_args['full_output'] = 1"
      ]
    },
    {
      "cell_type": "markdown",
      "metadata": {
        "id": "DRQAZbBQ_ZLA"
      },
      "source": [
        "Generate training data with an initial angle of 80 degrees and zero angular velocity."
      ]
    },
    {
      "cell_type": "code",
      "execution_count": 4,
      "metadata": {
        "id": "EiY32NsUSrWn"
      },
      "outputs": [],
      "source": [
        "t_train = np.arange(0, simulation_duration, dt)\n",
        "initial_pendulum_config = np.array([np.deg2rad(80), 0])\n",
        "x_train_theta, train_joints_over_time, x_train = compute_thetas_over_time(simulation_duration, dt, initial_pendulum_config, rk_integrator_args, G, L)"
      ]
    },
    {
      "cell_type": "markdown",
      "metadata": {
        "id": "F2JF5LOPAPiC"
      },
      "source": [
        "Generate training data with an initial angle of 65 degrees and zero angular velocity. Train and test data is different to check generalizability"
      ]
    },
    {
      "cell_type": "code",
      "execution_count": 5,
      "metadata": {
        "id": "QXWzYEjrSrWn"
      },
      "outputs": [],
      "source": [
        "t_test = np.arange(0, simulation_duration, dt)\n",
        "test_initial_pendulum_config = np.array([np.deg2rad(65),0])\n",
        "x_test_theta ,test_joints_over_time,x_test = compute_thetas_over_time(simulation_duration, dt, test_initial_pendulum_config, rk_integrator_args, G, L)"
      ]
    },
    {
      "cell_type": "markdown",
      "metadata": {
        "id": "hMAVU8-KAink"
      },
      "source": [
        "Find true derivatives (in this appproach we will use only second derivative)"
      ]
    },
    {
      "cell_type": "code",
      "execution_count": 6,
      "metadata": {
        "id": "58g01ucCZm8_"
      },
      "outputs": [],
      "source": [
        "true_derivatives = []\n",
        "for i in range(len(t_train)):\n",
        "    true_derivatives.append(pendulum_motion(t_train[i], x_train.T[i], G, L))\n",
        "\n",
        "true_derivatives=np.array(true_derivatives)"
      ]
    },
    {
      "cell_type": "code",
      "execution_count": 13,
      "metadata": {
        "id": "ZU9W402pdWdR"
      },
      "outputs": [],
      "source": [
        "import torch.nn as nn\n",
        "import torch.optim as optim\n",
        "from torch.utils.data import Dataset, DataLoader\n",
        "import matplotlib.pyplot as plt\n",
        "\n",
        "class PendulumDataset(Dataset):\n",
        "    def __init__(self, data, targets):\n",
        "        self.inputs = torch.tensor(data.T, dtype=torch.float32)\n",
        "        self.targets = torch.tensor(targets[:, 1], dtype=torch.float32).unsqueeze(1)\n",
        "\n",
        "    def __len__(self):\n",
        "        return len(self.inputs)\n",
        "\n",
        "    def __getitem__(self, idx):\n",
        "        return self.inputs[idx], self.targets[idx]\n",
        "\n",
        "class DNN(nn.Module):\n",
        "    def __init__(self):\n",
        "        super().__init__()\n",
        "        self.net = nn.Sequential(\n",
        "            nn.Linear(2, 128),\n",
        "            nn.Softplus(),\n",
        "            nn.Linear(128, 128),\n",
        "            nn.Softplus(),\n",
        "            nn.Linear(128, 1)\n",
        "        )\n",
        "\n",
        "    def forward(self, x):\n",
        "        return self.net(x)\n",
        "\n",
        "    def train_dnn(self, dataloader, epochs=1000, lr=0.001):\n",
        "        \"\"\"Train LNN model\"\"\"\n",
        "        optimizer = optim.Adam(self.parameters(), lr=lr)\n",
        "        criterion = nn.MSELoss()\n",
        "        loss_history = []\n",
        "\n",
        "        for epoch in range(epochs):\n",
        "            total_loss = 0\n",
        "            for x_batch, y_batch in dataloader:\n",
        "                optimizer.zero_grad()\n",
        "                predicted_ddot = self(x_batch)\n",
        "                loss = criterion(predicted_ddot, y_batch)\n",
        "                loss.backward()\n",
        "                optimizer.step()\n",
        "                total_loss += loss.item() * len(x_batch)\n",
        "\n",
        "            avg_loss = total_loss / len(dataloader.dataset)\n",
        "            loss_history.append(avg_loss)\n",
        "            if epoch % 1 == 0:\n",
        "                print(f\"Epoch {epoch}/{epochs}, Loss: {avg_loss:.6f}\")\n",
        "        return loss_history\n"
      ]
    },
    {
      "cell_type": "code",
      "execution_count": 14,
      "metadata": {
        "colab": {
          "base_uri": "https://localhost:8080/",
          "height": 646
        },
        "id": "6CkCAaOIdhci",
        "outputId": "0ddf5f2d-cb70-46f4-f84e-7e89c647d336"
      },
      "outputs": [
        {
          "name": "stdout",
          "output_type": "stream",
          "text": [
            "Epoch 0/10, Loss: 2.529008\n",
            "Epoch 1/10, Loss: 0.371328\n",
            "Epoch 2/10, Loss: 0.033731\n",
            "Epoch 3/10, Loss: 0.028695\n",
            "Epoch 4/10, Loss: 0.028360\n",
            "Epoch 5/10, Loss: 0.028732\n",
            "Epoch 6/10, Loss: 0.027756\n",
            "Epoch 7/10, Loss: 0.028137\n",
            "Epoch 8/10, Loss: 0.028207\n",
            "Epoch 9/10, Loss: 0.027894\n"
          ]
        },
        {
          "data": {
            "image/png": "[encoded data removed]",
            "text/plain": [
              "<Figure size 640x480 with 1 Axes>"
            ]
          },
          "metadata": {},
          "output_type": "display_data"
        }
      ],
      "source": [
        "dataset = PendulumDataset(x_train, true_derivatives)\n",
        "dataloader = DataLoader(dataset, batch_size=32, shuffle=True)\n",
        "\n",
        "lnn_model = DNN()\n",
        "loss = lnn_model.train_dnn(dataloader, epochs=10, lr=0.0005)\n",
        "\n",
        "plt.plot(range(len(loss)), loss)\n",
        "plt.xlabel(\"Epoch\")\n",
        "plt.ylabel(\"Loss\")\n",
        "plt.title(\"Training Loss (LNN)\")\n",
        "plt.show()\n"
      ]
    },
    {
      "cell_type": "code",
      "execution_count": 17,
      "metadata": {
        "id": "XKdLydTz4tsN"
      },
      "outputs": [],
      "source": [
        "def learned_pendulum_dynamics(y, t, model):\n",
        "    \"\"\"Use learned differential equation\"\"\"\n",
        "    y_tensor = torch.tensor(y, dtype=torch.float32).unsqueeze(0)\n",
        "    ddot_theta = model(y_tensor).squeeze().item()\n",
        "    return [y[1], ddot_theta]\n"
      ]
    },
    {
      "cell_type": "markdown",
      "metadata": {
        "id": "1qk3qUAO6cud"
      },
      "source": [
        "Integrating to find θ at each time step, we use the odeint integrator, which adapts the method to the stiffness of the ODE. It is also the default choice for SINDy."
      ]
    },
    {
      "cell_type": "code",
      "execution_count": 18,
      "metadata": {
        "id": "VDmU7MDX4xms"
      },
      "outputs": [],
      "source": [
        "from scipy.integrate import odeint\n",
        "test_initial_pendulum_config = np.array([np.deg2rad(65), 0.0])\n",
        "t = np.arange(0, simulation_duration, 0.01)\n",
        "solution = odeint(learned_pendulum_dynamics, test_initial_pendulum_config, t, args=(lnn_model,))\n"
      ]
    },
    {
      "cell_type": "markdown",
      "metadata": {
        "id": "tgqXLYXY6oq9"
      },
      "source": [
        "Visualize theta acceleration"
      ]
    },
    {
      "cell_type": "code",
      "execution_count": 19,
      "metadata": {
        "colab": {
          "base_uri": "https://localhost:8080/",
          "height": 447
        },
        "id": "fJNuJmYT33zo",
        "outputId": "85e79175-e162-480e-f49d-814c76b162ed"
      },
      "outputs": [
        {
          "data": {
            "text/plain": [
              "[<matplotlib.lines.Line2D at 0x7a12f88ffb50>]"
            ]
          },
          "execution_count": 19,
          "metadata": {},
          "output_type": "execute_result"
        },
        {
          "data": {
            "image/png": "[encoded data removed]",
            "text/plain": [
              "<Figure size 640x480 with 1 Axes>"
            ]
          },
          "metadata": {},
          "output_type": "display_data"
        }
      ],
      "source": [
        "plt.plot(range(len(solution[:, 1])), solution[:, 1])"
      ]
    },
    {
      "cell_type": "markdown",
      "metadata": {
        "id": "Ie3r1f6w68Y0"
      },
      "source": [
        "Make visualization of learned dynamic and save into file"
      ]
    },
    {
      "cell_type": "code",
      "execution_count": 20,
      "metadata": {
        "id": "jBCqLWKOUnqQ"
      },
      "outputs": [],
      "source": [
        "informed_simulation = solution.T\n",
        "informed_simulation[0] = loop_around_angles(informed_simulation[0])\n",
        "joints_over_time_informed = compute_joints_position(informed_simulation[0], L)"
      ]
    },
    {
      "cell_type": "code",
      "execution_count": 21,
      "metadata": {
        "id": "uFqoQmyVhoyy"
      },
      "outputs": [],
      "source": [
        "animate_pendulum_versus(test_joints_over_time, joints_over_time_informed,\"our_informed_single_pendulum.mp4\", interval=0.003, fps=240)"
      ]
    },
    {
      "cell_type": "code",
      "execution_count": null,
      "metadata": {
        "id": "DUezY1CH8zYa"
      },
      "outputs": [],
      "source": []
    }
  ],
  "metadata": {
    "colab": {
      "provenance": []
    },
    "kernelspec": {
      "display_name": ".venv",
      "language": "python",
      "name": "python3"
    },
    "language_info": {
      "codemirror_mode": {
        "name": "ipython",
        "version": 3
      },
      "file_extension": ".py",
      "mimetype": "text/x-python",
      "name": "python",
      "nbconvert_exporter": "python",
      "pygments_lexer": "ipython3",
      "version": "3.10.11"
    }
  },
  "nbformat": 4,
  "nbformat_minor": 0
}
