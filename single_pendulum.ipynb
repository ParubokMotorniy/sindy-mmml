{
 "cells": [
  {
   "cell_type": "code",
   "execution_count": 1,
   "metadata": {},
   "outputs": [],
   "source": [
    "import pysindy as ps\n",
    "import numpy as np\n",
    "import matplotlib.pyplot as plt\n",
    "import math\n",
    "import matplotlib.animation as animation\n",
    "from sklearn.metrics import r2_score\n",
    "\n",
    "from scipy.integrate import solve_ivp\n",
    "\n",
    "%matplotlib inline"
   ]
  },
  {
   "cell_type": "markdown",
   "metadata": {},
   "source": [
    "## Generating data"
   ]
  },
  {
   "cell_type": "code",
   "execution_count": 2,
   "metadata": {},
   "outputs": [],
   "source": [
    "L = 4\n",
    "M = 2\n",
    "G = 9.8\n",
    "simulation_duration = 6\n",
    "\n",
    "dt = .001\n",
    "rk_integrator_args = {}\n",
    "rk_integrator_args['rtol'] = 1e-13\n",
    "rk_integrator_args['method'] = 'RK45'\n",
    "rk_integrator_args['atol'] = 1e-10\n",
    "\n",
    "odeint_integrator_args = {}\n",
    "odeint_integrator_args['rtol'] = 1e-13\n",
    "odeint_integrator_args['atol'] = 1e-10\n",
    "odeint_integrator_args['full_output'] = 1"
   ]
  },
  {
   "cell_type": "code",
   "execution_count": 3,
   "metadata": {},
   "outputs": [],
   "source": [
    "def pendulum_motion(t, input):\n",
    "    theta, omega = input\n",
    "    d_theta = omega\n",
    "    d_omega = (-G/L) * np.sin(theta)\n",
    "    \n",
    "    d_f = np.array([d_theta, d_omega])\n",
    "        \n",
    "    return d_f"
   ]
  },
  {
   "cell_type": "code",
   "execution_count": 4,
   "metadata": {},
   "outputs": [],
   "source": [
    "def compute_joints_position(thetas: np.ndarray):\n",
    "    x_1,y_1 = np.array([[L * np.sin(theta), -L * np.cos(theta)] for theta in thetas]).T\n",
    "    \n",
    "    return np.array([x_1, y_1])"
   ]
  },
  {
   "cell_type": "code",
   "execution_count": 5,
   "metadata": {},
   "outputs": [],
   "source": [
    "#returns (thetas, coordinates_over_time, thetas+omegas)\n",
    "def compute_thetas_over_time(duration, dt, initial_state) -> tuple:\n",
    "    time = np.arange(0, duration,dt)\n",
    "    t_span = (time[0], time[-1])\n",
    "    x_train = solve_ivp(pendulum_motion, t_span, initial_state, t_eval=time, **rk_integrator_args).y\n",
    "    \n",
    "    x_train_theta = x_train[0]\n",
    "    joints_over_time = compute_joints_position(x_train_theta)\n",
    "    \n",
    "    return x_train_theta,joints_over_time,x_train"
   ]
  },
  {
   "cell_type": "code",
   "execution_count": 6,
   "metadata": {},
   "outputs": [],
   "source": [
    "t_train = np.arange(0, simulation_duration, dt)\n",
    "initial_pendulum_config = np.array([np.deg2rad(80), 0])\n",
    "x_train_theta ,train_joints_over_time,x_train = compute_thetas_over_time(simulation_duration, dt, initial_pendulum_config)\n"
   ]
  },
  {
   "cell_type": "code",
   "execution_count": 7,
   "metadata": {},
   "outputs": [],
   "source": [
    "t_test = np.arange(0, simulation_duration, dt)\n",
    "test_initial_pendulum_config = np.array([np.deg2rad(65),0])\n",
    "x_test_theta ,test_joints_over_time,x_test = compute_thetas_over_time(simulation_duration, dt, test_initial_pendulum_config)"
   ]
  },
  {
   "cell_type": "code",
   "execution_count": 8,
   "metadata": {},
   "outputs": [
    {
     "name": "stdout",
     "output_type": "stream",
     "text": [
      "(6000, 2)\n"
     ]
    }
   ],
   "source": [
    "true_derivatives = []\n",
    "for i in range(len(t_train)):\n",
    "    true_derivatives.append(pendulum_motion(t_train[i], x_train.T[i]))\n",
    "    \n",
    "true_derivatives=np.array(true_derivatives)\n",
    "print(true_derivatives.shape)"
   ]
  },
  {
   "cell_type": "code",
   "execution_count": 9,
   "metadata": {},
   "outputs": [],
   "source": [
    "def animate_pendulum_versus(data1, data2, filename='single_pendulum_versus.mp4', interval=50, fps=20):\n",
    "    x1, y1 = data1\n",
    "    x2, y2 = data2\n",
    "\n",
    "    n_frames = len(x1)\n",
    "    \n",
    "    fig, ax = plt.subplots()\n",
    "    all_x = [x1, x2]\n",
    "    all_y = [y1, y2]\n",
    "    ax.set_xlim(min(map(np.min, all_x)) - 1, max(map(np.max, all_x)) + 1)\n",
    "    ax.set_ylim(min(map(np.min, all_y)) - 1, max(map(np.max, all_y)) + 1)\n",
    "    ax.set_aspect('equal')\n",
    "    ax.set_title('Sinlge Pendulums Side by Side')\n",
    "\n",
    "    line1, = ax.plot([], [], 'x-', lw=2, label=\"True pendulum\", color='blue')\n",
    "    line2, = ax.plot([], [], 'o-', lw=2, label=\"Estimated pendulum\", color='red')\n",
    "    ax.legend()\n",
    "\n",
    "    def init():\n",
    "        line1.set_data([], [])\n",
    "        line2.set_data([], [])\n",
    "        return line1, line2\n",
    "\n",
    "    def update(i):\n",
    "        # Pendulum 1\n",
    "        x_vals1 = [0, x1[i]]\n",
    "        y_vals1 = [0, y1[i]]\n",
    "        line1.set_data(x_vals1, y_vals1)\n",
    "\n",
    "        # Pendulum 2\n",
    "        x_vals2 = [0, x2[i]]\n",
    "        y_vals2 = [0, y2[i]]\n",
    "        line2.set_data(x_vals2, y_vals2)\n",
    "\n",
    "        return line1, line2\n",
    "\n",
    "    ani = animation.FuncAnimation(fig, update, frames=n_frames,\n",
    "                                  init_func=init, blit=True, interval=interval)\n",
    "\n",
    "    writer = animation.FFMpegWriter(fps=fps)\n",
    "    ani.save(filename, writer=writer)\n",
    "    plt.close(fig)\n"
   ]
  },
  {
   "cell_type": "code",
   "execution_count": 10,
   "metadata": {},
   "outputs": [],
   "source": [
    "def draw_state_diagrams(true_thetas, estimated_thetas, time_points, plot_file_name):\n",
    "    fig, ax = plt.subplots(1, 1, sharex=True, figsize=(15, 7))\n",
    "    \n",
    "    ax.plot(time_points, true_thetas, '-.', lw=2, label=\"True pendulum\", color='blue')\n",
    "    ax.plot(time_points, estimated_thetas, '--', lw=1, label=\"Estimated pendulum\", color='red')\n",
    "    plt.title(\"Pendulum angle over time\")\n",
    "    plt.xlabel(\"Time\")\n",
    "    plt.ylabel(\"Theta\")\n",
    "    plt.legend()\n",
    "    \n",
    "    plt.savefig(plot_file_name, dpi=1300)\n",
    "    plt.close()\n",
    "    "
   ]
  },
  {
   "cell_type": "code",
   "execution_count": 11,
   "metadata": {},
   "outputs": [],
   "source": [
    "def loop_around_angles(theta: np.ndarray):\n",
    "    return (np.abs(theta) % (2 * np.pi)) * np.sign(theta)"
   ]
  },
  {
   "cell_type": "code",
   "execution_count": 12,
   "metadata": {},
   "outputs": [],
   "source": [
    "def animate_pendulum_single(data, filename='single_pendulum.mp4', interval=50, fps=20):\n",
    "    x1, y1 = data\n",
    "    n_frames = data.shape[1]\n",
    "\n",
    "    fig, ax = plt.subplots()\n",
    "    ax.set_xlim(np.min(x1) - 2, np.max(x1) + 2)\n",
    "    ax.set_ylim(np.min(y1) - 2, np.max(y1) + 2)   \n",
    "    ax.set_aspect('equal')\n",
    "    ax.set_title('Single Pendulum Animation')\n",
    "\n",
    "    line, = ax.plot([], [], 'o-', lw=2)\n",
    "\n",
    "    def init():\n",
    "        line.set_data([], [])\n",
    "        return line,\n",
    "\n",
    "    def update(i):\n",
    "        this_x = [0, x1[i]]\n",
    "        this_y = [0, y1[i]]\n",
    "        line.set_data(this_x, this_y)\n",
    "        return line,\n",
    "\n",
    "    ani = animation.FuncAnimation(fig, update, frames=n_frames,\n",
    "                                  init_func=init, blit=True, interval=interval)\n",
    "\n",
    "    writer = animation.FFMpegWriter(fps=fps)\n",
    "    ani.save(filename, writer=writer)\n",
    "    plt.close(fig)\n"
   ]
  },
  {
   "cell_type": "code",
   "execution_count": 13,
   "metadata": {},
   "outputs": [],
   "source": [
    "def plot_progressive_erros(real_theta, estimated_theta, time_points, file_name=\"Error\"):\n",
    "    fig, ax = plt.subplots(1, 1, sharex=True, figsize=(15, 7))\n",
    "    \n",
    "    error = np.power(real_theta-estimated_theta,2)\n",
    "    mean_error = np.mean(error)\n",
    "    median_error = np.median(error)\n",
    "    r2 = r2_score(real_theta, estimated_theta)\n",
    "    \n",
    "    ax.plot(time_points, error, '--', lw=2, label=\"Error\", color='blue')\n",
    "    ax.plot(time_points, [mean_error for i in range(len(error))],'-', lw=2, label=\"Mean error\", color='green')\n",
    "    ax.plot(time_points, [median_error for i in range(len(error))],'-', lw=2, label=\"Median error\", color='red')\n",
    "    ax.text(0.05, 0.95, f\"$R^2$ score = {r2:.4f}\", transform=ax.transAxes,\n",
    "            fontsize=12, verticalalignment='top', bbox=dict(facecolor='white', alpha=0.8))\n",
    "    plt.title(\"Squared error between real and estimated angle (rad)\")\n",
    "    plt.xlabel(\"Time\")\n",
    "    plt.ylabel(\"Error\")\n",
    "    plt.legend()\n",
    "    \n",
    "    plt.savefig(file_name, dpi=1300)\n",
    "    plt.close()"
   ]
  },
  {
   "cell_type": "code",
   "execution_count": 14,
   "metadata": {},
   "outputs": [],
   "source": [
    "# animate_pendulum_single(train_joints_over_time,\"single_single_pendulum_train.mp4\")\n",
    "# animate_pendulum_single(test_joints_over_time,\"single_single_pendulum_test.mp4\")"
   ]
  },
  {
   "cell_type": "code",
   "execution_count": 15,
   "metadata": {},
   "outputs": [],
   "source": [
    "def iteratively_fit_sindy(true_derivatives, dt, function_library, train_noise, x_train, if_fit_with_derivatives=False, max_t=1, num=50, **kwargs):\n",
    "    best_t = -1\n",
    "    best_score = -np.inf\n",
    "    best_alpha = -1\n",
    "    best_model = None\n",
    "    \n",
    "    train_data = x_train + train_noise if train_noise is not None else x_train\n",
    "\n",
    "    for t in np.linspace(1e-4, max_t, num):\n",
    "        for alpha in np.linspace(0.005, 0.9, 30):\n",
    "            model = ps.SINDy(feature_library=function_library,optimizer=ps.optimizers.STLSQ(threshold=t, max_iter=35, alpha=alpha, verbose=False),  feature_names=['theta_1', 'omega_1'], **kwargs)\n",
    "            \n",
    "            if if_fit_with_derivatives:\n",
    "                model.fit(np.nan_to_num(train_data, posinf=0, neginf=0, nan=0, copy=False).T, t=dt, x_dot=true_derivatives)\n",
    "            else:\n",
    "                model.fit(np.nan_to_num(train_data, posinf=0, neginf=0, nan=0, copy=False).T, t=dt)\n",
    "            \n",
    "            score = model.score(x_test.T, t=dt, x_dot=true_derivatives)\n",
    "                        \n",
    "            if(score > best_score):\n",
    "                best_score = score\n",
    "                best_t = t\n",
    "                best_model = model\n",
    "                best_alpha = alpha\n",
    "            \n",
    "    print(f\"Best threshold: {best_t}\")\n",
    "    print(f\"Best score: {best_score}\")\n",
    "    print(f\"Best alpha: {best_alpha}\")\n",
    "    best_model.print()\n",
    "    \n",
    "    return best_model "
   ]
  },
  {
   "cell_type": "markdown",
   "metadata": {},
   "source": [
    "# Fitting SINDy"
   ]
  },
  {
   "cell_type": "code",
   "execution_count": 16,
   "metadata": {},
   "outputs": [],
   "source": [
    "standard_trigon_lib = ps.feature_library.FourierLibrary(n_frequencies=2)\n",
    "standard_polynom_lib = ps.feature_library.PolynomialLibrary(degree=2,include_interaction=True, include_bias=False)\n",
    "powers = [i for i in range(1,3)]\n",
    "\n",
    "def compute_trigon_power(t_arg, t_func, power):\n",
    "    return np.nan_to_num(np.power(1 / t_func(t_arg), power), nan=0, neginf=0, posinf=0)\n",
    "\n",
    "def compute_power(arg, power):\n",
    "    return np.nan_to_num(np.power(1 / arg, power), nan=0, neginf=0, posinf=0)\n",
    "\n",
    "inverse_trigon = [\n",
    "    *[lambda x: compute_trigon_power(x, np.sin, power) for power in powers], \n",
    "    *[lambda x,y: compute_trigon_power(x*y, np.sin, power) for power in powers],\n",
    "    *[lambda x,y: compute_trigon_power(x/y, np.sin, power) for power in powers],\n",
    "    *[lambda x,y: compute_trigon_power(x + y, np.sin, power) for power in powers],\n",
    "    *[lambda x,y: compute_trigon_power(x - y, np.sin, power) for power in powers],\n",
    "    \n",
    "    *[lambda x: compute_trigon_power(x, np.cos, power) for power in powers], \n",
    "    *[lambda x,y: compute_trigon_power(x*y, np.cos, power) for power in powers],\n",
    "    *[lambda x,y: compute_trigon_power(x/y, np.cos, power) for power in powers],\n",
    "    *[lambda x,y: compute_trigon_power(x + y, np.cos, power) for power in powers],\n",
    "    *[lambda x,y: compute_trigon_power(x - y, np.cos, power) for power in powers],\n",
    "]\n",
    "\n",
    "inverse_trigon_names = [\n",
    "    *[lambda x: f\"(1/sin({x}))^{power}\" for power in powers], \n",
    "    *[lambda x,y: f\"(1/sin({x}*{y}))^{power}\" for power in powers],\n",
    "    *[lambda x,y: f\"(1/sin({x}/{y}))^{power}\" for power in powers],\n",
    "    *[lambda x,y: f\"(1/sin({x}+{y}))^{power}\" for power in powers],\n",
    "    *[lambda x,y: f\"(1/sin({x}-{y}))^{power}\" for power in powers],\n",
    "    \n",
    "    *[lambda x: f\"(1/cos({x}))^{power}\" for power in powers], \n",
    "    *[lambda x,y: f\"(1/cos({x}*{y}))^{power}\" for power in powers],\n",
    "    *[lambda x,y: f\"(1/cos({x}/{y}))^{power}\" for power in powers],\n",
    "    *[lambda x,y: f\"(1/cos({x}+{y}))^{power}\" for power in powers],\n",
    "    *[lambda x,y: f\"(1/cos({x}-{y}))^{power}\" for power in powers],\n",
    "]\n",
    "\n",
    "inverse_polynom = [\n",
    "    *[lambda x: compute_power(x, power) for power in powers], \n",
    "    *[lambda x,y: compute_power(x*y, power) for power in powers],\n",
    "    *[lambda x,y: compute_power(x/y, power) for power in powers],\n",
    "    *[lambda x,y: compute_power(x+y, power) for power in powers],\n",
    "    *[lambda x,y: compute_power(x-y, power) for power in powers]\n",
    "]\n",
    "\n",
    "inverse_polynom_names = [\n",
    "    *[lambda x: f\"(1/{x})^{power}\" for power in powers], \n",
    "    *[lambda x,y: f\"(1/{x}*{y})^{power}\" for power in powers],\n",
    "    *[lambda x,y: f\"(1/{x}/{y})^{power}\" for power in powers],\n",
    "    *[lambda x,y: f\"(1/{x}+{y})^{power}\" for power in powers],\n",
    "    *[lambda x,y: f\"(1/{x}-{y})^{power}\" for power in powers]\n",
    "]\n",
    "\n",
    "custom_trigon_lib = ps.feature_library.CustomLibrary(library_functions=inverse_trigon, function_names=inverse_trigon_names, interaction_only=False)\n",
    "custom_polynom_lib = ps.feature_library.CustomLibrary(library_functions=inverse_polynom, function_names=inverse_polynom_names, interaction_only=False)\n",
    "\n",
    "# standard_lib =  standard_trigon_lib + standard_polynom_lib\n",
    "# all_libs =  custom_trigon_lib * standard_lib + custom_polynom_lib * standard_lib + standard_lib + standard_trigon_lib * standard_polynom_lib  \n",
    "all_libs =  standard_trigon_lib + standard_polynom_lib + standard_trigon_lib * standard_polynom_lib "
   ]
  },
  {
   "cell_type": "markdown",
   "metadata": {},
   "source": [
    "## Differentiating on-the-fly"
   ]
  },
  {
   "cell_type": "code",
   "execution_count": 17,
   "metadata": {},
   "outputs": [
    {
     "name": "stdout",
     "output_type": "stream",
     "text": [
      " Iteration ... |y - Xw|^2 ...  a * |w|_2 ...      |w|_0 ... Total error: |y - Xw|^2 + a * |w|_2\n",
      "         0 ... 2.1967e+03 ... 2.6692e-01 ...         10 ... 2.1970e+03\n",
      "         1 ... 2.7487e+02 ... 7.0275e-01 ...          6 ... 2.7557e+02\n",
      "         2 ... 5.2071e-03 ... 9.3243e-01 ...          6 ... 9.3764e-01\n",
      "(theta_1)' = 1.000 omega_1\n",
      "(omega_1)' = -2.450 sin(1 theta_1)\n"
     ]
    }
   ],
   "source": [
    "model = ps.SINDy(feature_library=all_libs,optimizer=ps.optimizers.STLSQ(threshold=0.17, max_iter=35, alpha=0.4, verbose=True), feature_names=['theta_1', 'omega_1'])\n",
    "model.fit(np.nan_to_num(x_train, posinf=0, neginf=0, nan=0, copy=False).T, t=dt)\n",
    "model.print()"
   ]
  },
  {
   "cell_type": "code",
   "execution_count": null,
   "metadata": {},
   "outputs": [],
   "source": [
    "blind_simulation, info = model.simulate(test_initial_pendulum_config, t_test, integrator=\"odeint\", integrator_kws=odeint_integrator_args)\n",
    "blind_simulation = blind_simulation.T\n",
    "blind_simulation[0] = loop_around_angles(blind_simulation[0])\n",
    "\n",
    "joints_over_time_blind = compute_joints_position(blind_simulation[0])"
   ]
  },
  {
   "cell_type": "code",
   "execution_count": null,
   "metadata": {},
   "outputs": [],
   "source": [
    "animate_pendulum_versus(test_joints_over_time,joints_over_time_blind,\"blind_single_pendulum.mp4\", interval=0.01, fps=30)\n",
    "draw_state_diagrams(x_test_theta, blind_simulation[0], t_test, \"blind_single_simulation.png\")"
   ]
  },
  {
   "cell_type": "markdown",
   "metadata": {},
   "source": [
    "## Fitting with known derivatives\n"
   ]
  },
  {
   "cell_type": "code",
   "execution_count": null,
   "metadata": {},
   "outputs": [],
   "source": [
    "model = ps.SINDy(feature_library=all_libs,optimizer=ps.optimizers.STLSQ(threshold=0.2, max_iter=35, alpha=0.08, verbose=True),  feature_names=['theta_1', 'omega_1'])\n",
    "model.fit(np.nan_to_num(x_train, posinf=0, neginf=0, nan=0, copy=False).T, t=dt,x_dot=true_derivatives, unbias=True)\n",
    "model.print()"
   ]
  },
  {
   "cell_type": "code",
   "execution_count": null,
   "metadata": {},
   "outputs": [],
   "source": [
    "model = iteratively_fit_sindy(true_derivatives,dt, all_libs, None,x_train, True, max_t=0.2,num=30)"
   ]
  },
  {
   "cell_type": "code",
   "execution_count": null,
   "metadata": {},
   "outputs": [],
   "source": [
    "informed_simulation, info = model.simulate(test_initial_pendulum_config, t_test, integrator=\"odeint\", integrator_kws=odeint_integrator_args)\n",
    "informed_simulation = informed_simulation.T\n",
    "informed_simulation[0] = loop_around_angles(informed_simulation[0])\n",
    "\n",
    "joints_over_time_informed = compute_joints_position(informed_simulation[0])"
   ]
  },
  {
   "cell_type": "code",
   "execution_count": null,
   "metadata": {},
   "outputs": [],
   "source": [
    "animate_pendulum_versus(test_joints_over_time, joints_over_time_informed,\"informed_single_pendulum.mp4\", interval=0.003, fps=30)\n",
    "draw_state_diagrams(x_test_theta, informed_simulation[0], t_test, \"informed_single_simulation.png\")"
   ]
  },
  {
   "cell_type": "markdown",
   "metadata": {},
   "source": [
    "## Fitting with noise"
   ]
  },
  {
   "cell_type": "code",
   "execution_count": 98,
   "metadata": {},
   "outputs": [],
   "source": [
    "noise_magnitude = 0.01\n",
    "train_noise = np.random.normal(0, 1, x_train.shape) * noise_magnitude"
   ]
  },
  {
   "cell_type": "markdown",
   "metadata": {},
   "source": [
    "### Just noisy"
   ]
  },
  {
   "cell_type": "code",
   "execution_count": 105,
   "metadata": {},
   "outputs": [
    {
     "name": "stdout",
     "output_type": "stream",
     "text": [
      " Iteration ... |y - Xw|^2 ...  a * |w|_2 ...      |w|_0 ... Total error: |y - Xw|^2 + a * |w|_2\n",
      "         0 ... 6.0491e+05 ... 5.5649e+01 ...         99 ... 6.0497e+05\n",
      "         1 ... 6.0471e+05 ... 5.5712e+01 ...         98 ... 6.0477e+05\n",
      "         2 ... 6.0445e+05 ... 5.5714e+01 ...         98 ... 6.0451e+05\n",
      "(theta_1)' = 49016.686 sin(1 theta_1) + -40107715.625 cos(1 theta_1) + 2351369.288 sin(1 omega_1) + 49699578.994 cos(1 omega_1) + -76433.949 sin(2 theta_1) + -6646432.639 cos(2 theta_1) + -411185.117 sin(2 omega_1) + -2953103.485 cos(2 omega_1) + -922064.921 omega_1 + -7071085.997 theta_1^2 + -8339.226 theta_1 omega_1 + 6166771.915 omega_1^2 + -22373140.268 sin(1 theta_1) theta_1 + 11920.563 sin(1 theta_1) omega_1 + 22379.960 sin(1 theta_1) theta_1 omega_1 + 1255.162 sin(1 theta_1) omega_1^2 + 59708.027 cos(1 theta_1) theta_1 + 12269.810 cos(1 theta_1) omega_1 + 1405184.460 cos(1 theta_1) theta_1^2 + -5426.872 cos(1 theta_1) theta_1 omega_1 + -56997.005 cos(1 theta_1) omega_1^2 + 1160.047 sin(1 omega_1) theta_1 + 18382374.755 sin(1 omega_1) omega_1 + -985.900 sin(1 omega_1) theta_1^2 + 2397.446 sin(1 omega_1) theta_1 omega_1 + -295074.331 sin(1 omega_1) omega_1^2 + 5914.925 cos(1 omega_1) theta_1 + -764507.432 cos(1 omega_1) omega_1 + 50743.904 cos(1 omega_1) theta_1^2 + -574.287 cos(1 omega_1) theta_1 omega_1 + -3888535.067 cos(1 omega_1) omega_1^2 + -2855519.523 sin(2 theta_1) theta_1 + 554.101 sin(2 theta_1) omega_1 + 5827.750 sin(2 theta_1) theta_1^2 + 2905.441 sin(2 theta_1) theta_1 omega_1 + 37330.350 cos(2 theta_1) theta_1 + 10753.899 cos(2 theta_1) omega_1 + 371955.442 cos(2 theta_1) theta_1^2 + 7988.281 cos(2 theta_1) omega_1^2 + 76.181 sin(2 omega_1) theta_1 + -866814.963 sin(2 omega_1) omega_1 + 243.627 sin(2 omega_1) theta_1^2 + 12751.717 sin(2 omega_1) omega_1^2 + 163.478 cos(2 omega_1) theta_1 + 134360.053 cos(2 omega_1) omega_1 + -3773.708 cos(2 omega_1) theta_1^2 + 68758.179 cos(2 omega_1) omega_1^2\n",
      "(omega_1)' = -26475251.776 cos(1 theta_1) + -1970208.438 sin(1 omega_1) + 17914396.097 cos(1 omega_1) + 221409.875 sin(2 theta_1) + 9629225.886 cos(2 theta_1) + 339222.029 sin(2 omega_1) + -1096281.261 cos(2 omega_1) + -124704.093 theta_1 + 773872.344 omega_1 + 3000268.159 theta_1^2 + 28489.604 theta_1 omega_1 + 2325094.865 omega_1^2 + -9500960.166 sin(1 theta_1) theta_1 + -43736.041 sin(1 theta_1) omega_1 + -11969.705 sin(1 theta_1) theta_1 omega_1 + 5542.804 sin(1 theta_1) omega_1^2 + -222104.623 cos(1 theta_1) theta_1 + -12762.035 cos(1 theta_1) omega_1 + 8227900.066 cos(1 theta_1) theta_1^2 + 26697.434 cos(1 theta_1) theta_1 omega_1 + -213755.809 cos(1 theta_1) omega_1^2 + 1569.688 sin(1 omega_1) theta_1 + 6678389.113 sin(1 omega_1) omega_1 + -683.965 sin(1 omega_1) theta_1^2 + 3543.298 sin(1 omega_1) theta_1 omega_1 + 246094.098 sin(1 omega_1) omega_1^2 + 15005.858 cos(1 omega_1) theta_1 + 645677.694 cos(1 omega_1) omega_1 + 180822.406 cos(1 omega_1) theta_1^2 + -1158.670 cos(1 omega_1) theta_1 omega_1 + -1482928.615 cos(1 omega_1) omega_1^2 + 2074278.581 sin(2 theta_1) theta_1 + -7156.707 sin(2 theta_1) omega_1 + -18846.985 sin(2 theta_1) theta_1^2 + -894.980 sin(2 theta_1) theta_1 omega_1 + -1088.791 sin(2 theta_1) omega_1^2 + -109844.848 cos(2 theta_1) theta_1 + -3819.641 cos(2 theta_1) omega_1 + 34347.263 cos(2 theta_1) theta_1^2 + 1742.836 cos(2 theta_1) theta_1 omega_1 + 31142.389 cos(2 theta_1) omega_1^2 + 411.814 sin(2 omega_1) theta_1 + -285274.822 sin(2 omega_1) omega_1 + -117.460 sin(2 omega_1) theta_1^2 + -30.936 sin(2 omega_1) theta_1 omega_1 + -10412.319 sin(2 omega_1) omega_1^2 + -190.536 cos(2 omega_1) theta_1 + -110481.131 cos(2 omega_1) omega_1 + -11647.765 cos(2 omega_1) theta_1^2 + -121.726 cos(2 omega_1) theta_1 omega_1 + 11856.425 cos(2 omega_1) omega_1^2\n"
     ]
    }
   ],
   "source": [
    "model = ps.SINDy(feature_library=all_libs,optimizer=ps.optimizers.STLSQ(threshold=0.2, max_iter=35, alpha=0.015, verbose=True),  feature_names=['theta_1','omega_1'])\n",
    "model.fit(np.nan_to_num((x_train + train_noise), posinf=0, neginf=0, nan=0, copy=False).T, t=dt)\n",
    "model.print()"
   ]
  },
  {
   "cell_type": "code",
   "execution_count": 106,
   "metadata": {},
   "outputs": [
    {
     "name": "stdout",
     "output_type": "stream",
     "text": [
      "Best threshold: 0.5\n",
      "Best score: -8.374394777531787\n",
      "Best alpha: 0.9\n",
      "(theta_1)' = -9.445 cos(2 theta_1) + 1.883 omega_1 + -48.813 omega_1^2 + 4.662 sin(1 theta_1) theta_1 omega_1 + -3.527 cos(1 omega_1) omega_1 + 70.605 cos(1 omega_1) theta_1^2 + -124.070 cos(1 omega_1) omega_1^2 + -17.585 sin(2 theta_1) theta_1 + 41.971 cos(2 theta_1) theta_1^2 + 81.938 sin(2 omega_1) omega_1 + -1.966 sin(2 omega_1) theta_1^2 + 3.732 cos(2 omega_1) omega_1 + -31.428 cos(2 omega_1) theta_1^2 + -46.628 cos(2 omega_1) omega_1^2\n",
      "(omega_1)' = 6.845 theta_1 omega_1 + -10.087 cos(1 theta_1) theta_1 omega_1 + -10.864 cos(1 omega_1) theta_1 omega_1 + -2.692 sin(2 theta_1) theta_1^2 + 3.023 sin(2 omega_1) theta_1\n"
     ]
    }
   ],
   "source": [
    "best_model = iteratively_fit_sindy(true_derivatives, dt, all_libs, train_noise, x_train, False, 0.5,60)"
   ]
  },
  {
   "cell_type": "code",
   "execution_count": 112,
   "metadata": {},
   "outputs": [],
   "source": [
    "noisy_simulation, info = best_model.simulate(test_initial_pendulum_config, t_test, integrator=\"odeint\", integrator_kws=odeint_integrator_args)\n",
    "noisy_simulation = noisy_simulation.T\n",
    "noisy_simulation[0] = loop_around_angles(noisy_simulation[0])\n",
    "\n",
    "joints_over_time_noisy = compute_joints_position(noisy_simulation[0])"
   ]
  },
  {
   "cell_type": "code",
   "execution_count": null,
   "metadata": {},
   "outputs": [],
   "source": [
    "animate_pendulum_versus(test_joints_over_time,joints_over_time_noisy,\"noisy_pendulum.mp4\", interval=0.001, fps=40)"
   ]
  },
  {
   "cell_type": "code",
   "execution_count": 115,
   "metadata": {},
   "outputs": [],
   "source": [
    "draw_state_diagrams(x_test_theta, noisy_simulation[0], t_test, \"noisy_simulation.png\")\n",
    "plot_progressive_erros(x_test_theta, noisy_simulation[0], t_test, \"noisy_errors.png\")"
   ]
  },
  {
   "cell_type": "markdown",
   "metadata": {},
   "source": [
    "### Applying smoother"
   ]
  },
  {
   "cell_type": "code",
   "execution_count": 79,
   "metadata": {},
   "outputs": [
    {
     "name": "stdout",
     "output_type": "stream",
     "text": [
      " Iteration ... |y - Xw|^2 ...  a * |w|_2 ...      |w|_0 ... Total error: |y - Xw|^2 + a * |w|_2\n",
      "         0 ... 1.5908e+03 ... 6.7482e-02 ...          7 ... 1.5909e+03\n",
      "         1 ... 1.3061e+03 ... 6.4321e-02 ...          3 ... 1.3062e+03\n",
      "         2 ... 1.2229e+03 ... 7.9556e-02 ...          2 ... 1.2229e+03\n",
      "         3 ... 1.2191e+03 ... 1.4310e-01 ...          1 ... 1.2192e+03\n",
      "         4 ... 1.2183e+03 ... 1.4873e-01 ...          1 ... 1.2184e+03\n",
      "(theta_1)' = 0.000\n",
      "(omega_1)' = -2.439 sin(1 theta_1)\n"
     ]
    },
    {
     "name": "stderr",
     "output_type": "stream",
     "text": [
      "/home/kaba4ok/Documents/oles_territory/studies_in_Lviv/year3/sem2/MMML/project/poc/.venv/lib/python3.10/site-packages/pysindy/optimizers/stlsq.py:201: UserWarning: Sparsity parameter is too big (0.45) and eliminated all coefficients\n",
      "  warnings.warn(\n",
      "/home/kaba4ok/Documents/oles_territory/studies_in_Lviv/year3/sem2/MMML/project/poc/.venv/lib/python3.10/site-packages/pysindy/optimizers/stlsq.py:201: UserWarning: Sparsity parameter is too big (0.45) and eliminated all coefficients\n",
      "  warnings.warn(\n",
      "/home/kaba4ok/Documents/oles_territory/studies_in_Lviv/year3/sem2/MMML/project/poc/.venv/lib/python3.10/site-packages/pysindy/optimizers/stlsq.py:201: UserWarning: Sparsity parameter is too big (0.45) and eliminated all coefficients\n",
      "  warnings.warn(\n",
      "/home/kaba4ok/Documents/oles_territory/studies_in_Lviv/year3/sem2/MMML/project/poc/.venv/lib/python3.10/site-packages/pysindy/optimizers/stlsq.py:201: UserWarning: Sparsity parameter is too big (0.45) and eliminated all coefficients\n",
      "  warnings.warn(\n"
     ]
    }
   ],
   "source": [
    "model = ps.SINDy(feature_library=all_libs,optimizer=ps.optimizers.STLSQ(threshold=0.45, max_iter=35, alpha=0.025, verbose=True),  feature_names=['theta_1','omega_1'],differentiation_method=ps.differentiation.SmoothedFiniteDifference(smoother_kws={'window_length': 6, 'polyorder':1,'mode':'nearest'}))\n",
    "model.fit(np.nan_to_num((x_train + train_noise), posinf=0, neginf=0, nan=0, copy=False).T, t=dt)\n",
    "model.print()"
   ]
  },
  {
   "cell_type": "code",
   "execution_count": 121,
   "metadata": {},
   "outputs": [
    {
     "name": "stderr",
     "output_type": "stream",
     "text": [
      "/home/kaba4ok/Documents/oles_territory/studies_in_Lviv/year3/sem2/MMML/project/poc/.venv/lib/python3.10/site-packages/pysindy/optimizers/stlsq.py:201: UserWarning: Sparsity parameter is too big (0.5406796610169492) and eliminated all coefficients\n",
      "  warnings.warn(\n",
      "/home/kaba4ok/Documents/oles_territory/studies_in_Lviv/year3/sem2/MMML/project/poc/.venv/lib/python3.10/site-packages/pysindy/optimizers/stlsq.py:201: UserWarning: Sparsity parameter is too big (0.55) and eliminated all coefficients\n",
      "  warnings.warn(\n",
      "/home/kaba4ok/Documents/oles_territory/studies_in_Lviv/year3/sem2/MMML/project/poc/.venv/lib/python3.10/site-packages/pysindy/optimizers/stlsq.py:201: UserWarning: Sparsity parameter is too big (0.55) and eliminated all coefficients\n",
      "  warnings.warn(\n",
      "/home/kaba4ok/Documents/oles_territory/studies_in_Lviv/year3/sem2/MMML/project/poc/.venv/lib/python3.10/site-packages/pysindy/optimizers/stlsq.py:201: UserWarning: Sparsity parameter is too big (0.55) and eliminated all coefficients\n",
      "  warnings.warn(\n",
      "/home/kaba4ok/Documents/oles_territory/studies_in_Lviv/year3/sem2/MMML/project/poc/.venv/lib/python3.10/site-packages/pysindy/optimizers/stlsq.py:201: UserWarning: Sparsity parameter is too big (0.55) and eliminated all coefficients\n",
      "  warnings.warn(\n",
      "/home/kaba4ok/Documents/oles_territory/studies_in_Lviv/year3/sem2/MMML/project/poc/.venv/lib/python3.10/site-packages/pysindy/optimizers/stlsq.py:201: UserWarning: Sparsity parameter is too big (0.55) and eliminated all coefficients\n",
      "  warnings.warn(\n"
     ]
    },
    {
     "name": "stdout",
     "output_type": "stream",
     "text": [
      "Best threshold: 0.36359322033898306\n",
      "Best score: 0.9267900656490877\n",
      "Best alpha: 0.8382758620689655\n",
      "(theta_1)' = 0.461 sin(2 omega_1) theta_1^2 + -1.195 cos(2 omega_1) omega_1\n",
      "(omega_1)' = -2.446 sin(1 theta_1)\n"
     ]
    },
    {
     "name": "stderr",
     "output_type": "stream",
     "text": [
      "/home/kaba4ok/Documents/oles_territory/studies_in_Lviv/year3/sem2/MMML/project/poc/.venv/lib/python3.10/site-packages/pysindy/optimizers/stlsq.py:201: UserWarning: Sparsity parameter is too big (0.55) and eliminated all coefficients\n",
      "  warnings.warn(\n",
      "/home/kaba4ok/Documents/oles_territory/studies_in_Lviv/year3/sem2/MMML/project/poc/.venv/lib/python3.10/site-packages/pysindy/optimizers/stlsq.py:201: UserWarning: Sparsity parameter is too big (0.55) and eliminated all coefficients\n",
      "  warnings.warn(\n"
     ]
    }
   ],
   "source": [
    "best_model = iteratively_fit_sindy(true_derivatives, dt, all_libs, train_noise, x_train, False, 0.55, 60, differentiation_method=ps.differentiation.SmoothedFiniteDifference(smoother_kws={'window_length': 7, 'polyorder':1,'mode':'nearest'}))"
   ]
  },
  {
   "cell_type": "code",
   "execution_count": 126,
   "metadata": {},
   "outputs": [],
   "source": [
    "smoothed_noisy_simulation, info = best_model.simulate(test_initial_pendulum_config, t_test, integrator=\"odeint\", integrator_kws=odeint_integrator_args)\n",
    "smoothed_noisy_simulation = smoothed_noisy_simulation.T\n",
    "smoothed_noisy_simulation[0] = loop_around_angles(smoothed_noisy_simulation[0])\n",
    "\n",
    "joints_over_time_noisy_smmothed = compute_joints_position(smoothed_noisy_simulation[0])"
   ]
  },
  {
   "cell_type": "code",
   "execution_count": 129,
   "metadata": {},
   "outputs": [],
   "source": [
    "animate_pendulum_versus(test_joints_over_time,joints_over_time_noisy_smmothed, \"smoothed_noisy_pendulum.mp4\", interval=0.003, fps=30)"
   ]
  },
  {
   "cell_type": "code",
   "execution_count": 128,
   "metadata": {},
   "outputs": [],
   "source": [
    "draw_state_diagrams(x_test_theta, smoothed_noisy_simulation[0], t_test, \"smoothed_noisy_simulation.png\")\n",
    "plot_progressive_erros(x_test_theta, smoothed_noisy_simulation[0], t_test, \"smoothed_noisy_errors.png\")"
   ]
  }
 ],
 "metadata": {
  "kernelspec": {
   "display_name": ".venv",
   "language": "python",
   "name": "python3"
  },
  "language_info": {
   "codemirror_mode": {
    "name": "ipython",
    "version": 3
   },
   "file_extension": ".py",
   "mimetype": "text/x-python",
   "name": "python",
   "nbconvert_exporter": "python",
   "pygments_lexer": "ipython3",
   "version": "3.10.12"
  }
 },
 "nbformat": 4,
 "nbformat_minor": 2
}
