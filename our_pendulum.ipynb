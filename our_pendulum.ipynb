{
  "cells": [
    {
      "cell_type": "markdown",
      "metadata": {},
      "source": [
        "# Sparse identification of nonlinear dynamical systems"
      ]
    },
    {
      "cell_type": "markdown",
      "metadata": {},
      "source": [
        "### Import packages"
      ]
    },
    {
      "cell_type": "code",
      "execution_count": 1,
      "metadata": {
        "colab": {
          "base_uri": "https://localhost:8080/"
        },
        "id": "9rZLjqr6Eo_p",
        "outputId": "8af28884-163a-4c87-adeb-b98dcdc34148"
      },
      "outputs": [],
      "source": [
        "from copy import copy\n",
        "from utils import *\n",
        "import numpy as np\n",
        "from sklearn.metrics import mean_squared_error\n",
        "import random\n",
        "import torch\n",
        "import os"
      ]
    },
    {
      "cell_type": "code",
      "execution_count": 72,
      "metadata": {},
      "outputs": [],
      "source": [
        "def fix_seed(seed=42):\n",
        "    random.seed(seed)\n",
        "    np.random.seed(seed)\n",
        "    torch.manual_seed(seed)\n",
        "    torch.cuda.manual_seed(seed)\n",
        "    torch.cuda.manual_seed_all(seed)\n",
        "    torch.backends.cudnn.deterministic = True\n",
        "    torch.backends.cudnn.benchmark = False\n",
        "    os.environ['PYTHONHASHSEED'] = str(seed)\n",
        "\n",
        "fix_seed(42)\n"
      ]
    },
    {
      "cell_type": "markdown",
      "metadata": {},
      "source": [
        "### Setup simmulation parameters"
      ]
    },
    {
      "cell_type": "code",
      "execution_count": 73,
      "metadata": {},
      "outputs": [],
      "source": [
        "L = 4\n",
        "M = 2\n",
        "G = 9.8\n",
        "simulation_duration = 6\n",
        "\n",
        "dt = .0001\n",
        "rk_integrator_args = {}\n",
        "rk_integrator_args['rtol'] = 1e-13\n",
        "rk_integrator_args['method'] = 'RK45'\n",
        "rk_integrator_args['atol'] = 1e-10\n",
        "\n",
        "odeint_integrator_args = {}\n",
        "odeint_integrator_args['rtol'] = 1e-13\n",
        "odeint_integrator_args['atol'] = 1e-10\n",
        "odeint_integrator_args['full_output'] = 1"
      ]
    },
    {
      "cell_type": "markdown",
      "metadata": {},
      "source": [
        "### Generate data"
      ]
    },
    {
      "cell_type": "code",
      "execution_count": 74,
      "metadata": {},
      "outputs": [],
      "source": [
        "t_train = np.arange(0, simulation_duration, dt)\n",
        "initial_pendulum_config = np.array([np.deg2rad(80), 0])\n",
        "x_train_theta ,train_joints_over_time, x_train = compute_thetas_over_time(simulation_duration, dt, initial_pendulum_config, rk_integrator_args, G, L)\n",
        "\n",
        "t_test = np.arange(0, simulation_duration, dt)\n",
        "test_initial_pendulum_config = np.array([np.deg2rad(65),0])\n",
        "x_test_theta ,test_joints_over_time,x_test = compute_thetas_over_time(simulation_duration, dt, test_initial_pendulum_config, rk_integrator_args, G, L)"
      ]
    },
    {
      "cell_type": "markdown",
      "metadata": {},
      "source": [
        "### Sparse regression model\n",
        "\n",
        "**STLSQ** is an iterative algorithm used to find sparse solutions to regression problems.\n",
        "\n",
        "#### Goal\n",
        "\n",
        "Given data matrix $ X \\in \\mathbb{R}^{n \\times d}$ and target(s) $ Y \\in \\mathbb{R}^{n \\times m} $, we want to find a sparse coefficient matrix $ \\Xi \\in \\mathbb{R}^{d \\times m} $ such that:\n",
        "\n",
        "#### Steps\n",
        "\n",
        "1. Initial Fit (Ridge Regression):\n",
        "\n",
        "   Solve for $ \\Xi $ using a regularized least squares problem:\n",
        "\n",
        "   \n",
        "   $\\Xi = (X^T X + \\alpha I)^{-1} X^T Y$\n",
        "\n",
        "   where $\\alpha$ is a small regularization parameter to stabilize the inversion.\n",
        "\n",
        "2. Thresholding Step:\n",
        "\n",
        "   Set all coefficients in $ \\Xi $ with magnitude less than a threshold $ \\theta $ to zero:\n",
        "\n",
        "   $\\Xi_{ij} = 0 \\quad \\text{if} \\quad |\\Xi_{ij}| < \\theta$\n",
        "\n",
        "3. **Refitting:**\n",
        "\n",
        "   For the remaining non-zero coefficients, refit the model by solving least squares only on the selected terms.\n",
        "\n",
        "4. **Repeat:**\n",
        "\n",
        "   Repeat the thresholding and refitting process for a fixed number of iterations or until convergence."
      ]
    },
    {
      "cell_type": "code",
      "execution_count": 75,
      "metadata": {},
      "outputs": [],
      "source": [
        "class STLSQ:\n",
        "    def __init__(self, threshold=0.2, max_iter=35, alpha=1e-5, verbose=False):\n",
        "        self.threshold = threshold\n",
        "        self.max_iter = max_iter\n",
        "        self.alpha = alpha\n",
        "        self.verbose = verbose\n",
        "        self.coef_ = None\n",
        "\n",
        "    def fit(self, X, Y):\n",
        "        \"\"\"\n",
        "        Fit the STLSQ model to single or multiple outputs.\n",
        "\n",
        "        Parameters:\n",
        "            X : ndarray, shape (n_samples, n_features)\n",
        "            Y : ndarray, shape (n_samples,) or (n_samples, n_targets)\n",
        "\n",
        "        Returns:\n",
        "            self : fitted model\n",
        "        \"\"\"\n",
        "        if Y.ndim == 1:\n",
        "            Y = Y.reshape(-1, 1)\n",
        "\n",
        "        _, n_features = X.shape\n",
        "        n_outputs = Y.shape[1]\n",
        "        self.coef_ = np.zeros((n_features, n_outputs))\n",
        "\n",
        "        for i in range(n_outputs):\n",
        "            y = Y[:, i]\n",
        "            Xi = np.linalg.lstsq(X.T @ X + self.alpha * np.eye(n_features), X.T @ y, rcond=None)[0]\n",
        "\n",
        "            for it in range(self.max_iter):\n",
        "                small_inds = np.abs(Xi) < self.threshold\n",
        "                if self.verbose:\n",
        "                    print(f\"Output {i}, Iter {it}: {np.sum(small_inds)} coefficients zeroed\")\n",
        "\n",
        "                Xi[small_inds] = 0\n",
        "                big_inds = ~small_inds\n",
        "\n",
        "                if np.count_nonzero(big_inds) == 0:\n",
        "                    if self.verbose:\n",
        "                        print(f\"All coefficients zeroed for output {i}\")\n",
        "                    break\n",
        "\n",
        "                Xi[big_inds] = np.linalg.lstsq(\n",
        "                    X[:, big_inds].T @ X[:, big_inds] + self.alpha * np.eye(np.sum(big_inds)),\n",
        "                    X[:, big_inds].T @ y, rcond=None\n",
        "                )[0]\n",
        "\n",
        "            self.coef_[:, i] = Xi\n",
        "\n",
        "        return self\n",
        "\n",
        "    def predict(self, X):\n",
        "        if self.coef_ is None:\n",
        "            raise ValueError(\"Model has not been fitted yet.\")\n",
        "        return X @ self.coef_\n"
      ]
    },
    {
      "cell_type": "markdown",
      "metadata": {},
      "source": [
        "### Sparse identification of nonlinear dynamical systems model"
      ]
    },
    {
      "cell_type": "code",
      "execution_count": 76,
      "metadata": {},
      "outputs": [],
      "source": [
        "class SindyModel:\n",
        "    def __init__(self, transform_fn, alpha=0.001, l0_penalty=1, fit_intercept=False, max_iter=10000):\n",
        "        self.transform_fn = transform_fn\n",
        "        self.alpha = alpha\n",
        "        self.fit_intercept = fit_intercept\n",
        "        self.max_iter = max_iter\n",
        "        self.models = []\n",
        "        self.X_raw = None\n",
        "        self.X_transformed = None\n",
        "        self.Y = None\n",
        "        self.l0_penalty = l0_penalty\n",
        "\n",
        "    def tv_denoise(self, signal, lambda_, max_iter=100, tol=1e-6):\n",
        "        \"\"\"Total Variation Denoising.\"\"\"\n",
        "        n = len(signal)\n",
        "        u = np.copy(signal)\n",
        "        px = np.zeros_like(signal)\n",
        "        tau = 0.125\n",
        "\n",
        "        for _ in range(max_iter):\n",
        "            u_old = u.copy()\n",
        "\n",
        "            grad_u = np.roll(u, -1) - u\n",
        "            grad_u[-1] = 0\n",
        "\n",
        "            px += tau * grad_u\n",
        "            px = px / np.maximum(1.0, np.abs(px))\n",
        "\n",
        "            div_p = px - np.roll(px, 1)\n",
        "            div_p[0] = px[0]\n",
        "\n",
        "            u = signal - lambda_ * div_p\n",
        "\n",
        "            if np.linalg.norm(u - u_old) < tol:\n",
        "                break\n",
        "        return u\n",
        "\n",
        "    def prepare_data(self, time, variables, denoise=False, lambda_tv=0.1):\n",
        "        dt = time[1] - time[0]\n",
        "        variables = [np.asarray(v) for v in variables]\n",
        "        \n",
        "        if denoise:\n",
        "            variables_denoised = [self.tv_denoise(v, lambda_tv) for v in variables]\n",
        "        else:\n",
        "            variables_denoised = variables\n",
        "\n",
        "        derivatives = [finite_difference(v, dt) for v in variables_denoised]\n",
        "\n",
        "        self.Y = np.stack(derivatives, axis=-1)\n",
        "        self.X_raw = np.stack(variables_denoised, axis=-1)[1:]\n",
        "        self.X_transformed = np.array([self.transform_fn(row) for row in self.X_raw])\n",
        "\n",
        "    def fit(self):\n",
        "        n_outputs = self.Y.shape[1]\n",
        "        if isinstance(self.alpha, (int, float)):\n",
        "            alphas = [self.alpha] * n_outputs\n",
        "        elif isinstance(self.alpha, (list, tuple, np.ndarray)):\n",
        "            assert len(self.alpha) == n_outputs, \"Length of alpha list must match number of outputs\"\n",
        "            alphas = self.alpha\n",
        "        else:\n",
        "            raise ValueError(\"alpha must be a float or a list of floats\")\n",
        "\n",
        "        self.models = []\n",
        "        for i in range(n_outputs):\n",
        "            model = STLSQ(threshold=0.2, max_iter=35, alpha=self.alpha).fit(self.X_transformed, self.Y[:, i])\n",
        "            self.models.append(model)\n",
        "\n",
        "    def predict(self, X_raw):\n",
        "        X_trans = np.array([self.transform_fn(row) for row in X_raw])\n",
        "        predictions = np.column_stack([model.predict(X_trans) for model in self.models])\n",
        "        return predictions\n",
        "\n",
        "    def coefficients(self):\n",
        "        return np.array([model.coef_ for model in self.models])"
      ]
    },
    {
      "cell_type": "markdown",
      "metadata": {},
      "source": [
        "### List of candidate functions"
      ]
    },
    {
      "cell_type": "code",
      "execution_count": 77,
      "metadata": {
        "colab": {
          "base_uri": "https://localhost:8080/"
        },
        "id": "MBTsFCq8gnUh",
        "outputId": "d792f605-385f-4b91-c6f5-3affea993292"
      },
      "outputs": [],
      "source": [
        "t = np.arange(0, simulation_duration, dt)\n",
        "\n",
        "def custom_features(x):\n",
        "    x1, y1 = x\n",
        "    return [\n",
        "        x1,\n",
        "        y1,\n",
        "        x1**2,\n",
        "        y1**2,\n",
        "        x1 * y1,\n",
        "        np.sin(x1),\n",
        "        np.cos(x1),\n",
        "        np.sin(2 * x1),\n",
        "        np.cos(2 * x1),\n",
        "        np.sin(y1),\n",
        "        np.cos(y1),\n",
        "        np.sin(2 * y1),\n",
        "        np.cos(2 * y1),\n",
        "        x1 * y1,\n",
        "        x1**2 * y1,\n",
        "        x1 * y1**2,\n",
        "        np.sin(x1) * np.cos(y1),\n",
        "        np.cos(x1) * np.sin(y1),\n",
        "        np.sin(x1 + y1),\n",
        "        np.cos(x1 - y1),\n",
        "    ]"
      ]
    },
    {
      "cell_type": "code",
      "execution_count": 78,
      "metadata": {},
      "outputs": [],
      "source": [
        "def select_alpha_with_tracking(x_train_data, x_test_data, alphas, verbose=False, denoise=False):\n",
        "    results = []\n",
        "    x_test_c = copy(x_test_data)\n",
        "    derivatives = np.array([\n",
        "        pendulum_motion(t, state, G, L)\n",
        "        for t, state in zip(t_test, x_test_data.T)\n",
        "    ])\n",
        "\n",
        "    for alpha in alphas:\n",
        "        model = SindyModel(transform_fn=custom_features, alpha=alpha)\n",
        "        model.prepare_data(t, copy(x_train_data), denoise = denoise)\n",
        "        model.fit()\n",
        "\n",
        "        print(\"Learned Coefficient Matrix (columns = d_theta/dt, d_omega/dt):\")\n",
        "        preds = model.predict(model.X_raw)\n",
        "\n",
        "        mse = mean_squared_error(model.Y, preds)\n",
        "\n",
        "        preds_test = model.predict(x_test_c.T)\n",
        "        mse_der = mean_squared_error(derivatives, preds_test)\n",
        "\n",
        "        nnz = np.count_nonzero(np.abs(model.coefficients()) > 0.05)\n",
        "\n",
        "        if verbose:\n",
        "            print(f\"Alpha: {alpha:.5e} | MSE: {mse:.5e} | Non-zero Coeffs: {nnz}\")\n",
        "\n",
        "        results.append({\n",
        "            \"alpha\": alpha,\n",
        "            \"mse\": mse,\n",
        "            \"nnz\": nnz,\n",
        "            \"model\": model,\n",
        "            \"mse_der\": mse_der\n",
        "        })\n",
        "\n",
        "    return results"
      ]
    },
    {
      "cell_type": "code",
      "execution_count": 79,
      "metadata": {},
      "outputs": [],
      "source": [
        "def plot_alpha_results(results):\n",
        "    alphas = [r[\"alpha\"] for r in results]\n",
        "    mses = [r[\"mse\"] for r in results]\n",
        "    mses_der = [r[\"mse_der\"] for r in results]\n",
        "\n",
        "    nnzs = [r[\"nnz\"] for r in results]\n",
        "\n",
        "    fig, ax1 = plt.subplots()\n",
        "\n",
        "    color = 'tab:red'\n",
        "    ax1.set_xlabel('Alpha (λ)')\n",
        "    ax1.set_xscale('log')\n",
        "    ax1.set_ylabel('MSE', color=color)\n",
        "    ax1.plot(alphas, mses, color=color, marker='o', label='MSE')\n",
        "    ax1.tick_params(axis='y', labelcolor=color)\n",
        "\n",
        "    ax2 = ax1.twinx()\n",
        "    color = 'tab:blue'\n",
        "    ax2.set_ylabel('Non-Zero Coefficients', color=color)\n",
        "    ax2.plot(alphas, nnzs, color=color, marker='x', label='Sparsity')\n",
        "    ax2.tick_params(axis='y', labelcolor=color)\n",
        "\n",
        "    ax3 = ax1.twinx()\n",
        "    ax3.spines['right'].set_position(('outward', 60))\n",
        "    color = 'tab:green'\n",
        "    ax3.set_ylabel('MSE Derivative', color=color)\n",
        "    ax3.plot(alphas, mses_der, color=color, marker='^', label='MSE Derivative')\n",
        "    ax3.tick_params(axis='y', labelcolor=color)\n",
        "\n",
        "    plt.title(\"Sparsity vs Error Trade-off Across Alphas\")\n",
        "    fig.tight_layout()\n",
        "    plt.show()"
      ]
    },
    {
      "cell_type": "code",
      "execution_count": 80,
      "metadata": {},
      "outputs": [],
      "source": [
        "model = SindyModel(transform_fn=custom_features, alpha=0.1, l0_penalty=0.1)\n",
        "model.prepare_data(t, x_train)\n",
        "model.fit()"
      ]
    },
    {
      "cell_type": "code",
      "execution_count": 81,
      "metadata": {},
      "outputs": [
        {
          "data": {
            "text/plain": [
              "array([[[ 0.        ,  0.        ],\n",
              "        [ 0.99999226,  0.        ],\n",
              "        [ 0.        ,  0.        ],\n",
              "        [ 0.        ,  0.        ],\n",
              "        [ 0.        ,  0.        ],\n",
              "        [ 0.        , -2.45000494],\n",
              "        [ 0.        ,  0.        ],\n",
              "        [ 0.        ,  0.        ],\n",
              "        [ 0.        ,  0.        ],\n",
              "        [ 0.        ,  0.        ],\n",
              "        [ 0.        ,  0.        ],\n",
              "        [ 0.        ,  0.        ],\n",
              "        [ 0.        ,  0.        ],\n",
              "        [ 0.        ,  0.        ],\n",
              "        [ 0.        ,  0.        ],\n",
              "        [ 0.        ,  0.        ],\n",
              "        [ 0.        ,  0.        ],\n",
              "        [ 0.        ,  0.        ],\n",
              "        [ 0.        ,  0.        ],\n",
              "        [ 0.        ,  0.        ]]])"
            ]
          },
          "execution_count": 81,
          "metadata": {},
          "output_type": "execute_result"
        }
      ],
      "source": [
        "model.coefficients().T"
      ]
    },
    {
      "cell_type": "code",
      "execution_count": 82,
      "metadata": {},
      "outputs": [],
      "source": [
        "def simulate(model, initial_state, t_array, method=\"euler\"):\n",
        "    states = [initial_state]\n",
        "    state = copy(initial_state)\n",
        "    info = {\"method\": method, \"steps\": len(t_array)}\n",
        "    state = state.reshape(1, -1)\n",
        "    for i in range(1, len(t_array)):\n",
        "        t = t_array[i-1]\n",
        "        dt = t_array[i] - t_array[i-1]\n",
        "        derivative = model.predict(state)\n",
        "\n",
        "        if method == \"euler\":\n",
        "            state = state + dt * derivative\n",
        "        else:\n",
        "            raise ValueError(f\"Unsupported method: {method}\")\n",
        "\n",
        "        states.append(state.copy()[0])\n",
        "    return np.array(states), info\n"
      ]
    },
    {
      "cell_type": "code",
      "execution_count": 87,
      "metadata": {},
      "outputs": [],
      "source": [
        "def learned_pendulum_dynamics(y, t, model):\n",
        "    \"\"\"Use learned differential equation\"\"\"\n",
        "    y_tensor = torch.tensor(y, dtype=torch.float32).unsqueeze(0)\n",
        "    ddot_theta_tensor = model.predict(y_tensor)\n",
        "    return [y[1], ddot_theta_tensor[0][1]]"
      ]
    },
    {
      "cell_type": "code",
      "execution_count": 88,
      "metadata": {},
      "outputs": [
        {
          "name": "stderr",
          "output_type": "stream",
          "text": [
            "/var/folders/8k/lg3sbcy50673220wj1njz2z80000gn/T/ipykernel_14169/1404251248.py:11: DeprecationWarning: __array_wrap__ must accept context and return_scalar arguments (positionally) in the future. (Deprecated NumPy 2.0)\n",
            "  np.sin(x1),\n",
            "/var/folders/8k/lg3sbcy50673220wj1njz2z80000gn/T/ipykernel_14169/1404251248.py:12: DeprecationWarning: __array_wrap__ must accept context and return_scalar arguments (positionally) in the future. (Deprecated NumPy 2.0)\n",
            "  np.cos(x1),\n",
            "/var/folders/8k/lg3sbcy50673220wj1njz2z80000gn/T/ipykernel_14169/1404251248.py:13: DeprecationWarning: __array_wrap__ must accept context and return_scalar arguments (positionally) in the future. (Deprecated NumPy 2.0)\n",
            "  np.sin(2 * x1),\n",
            "/var/folders/8k/lg3sbcy50673220wj1njz2z80000gn/T/ipykernel_14169/1404251248.py:14: DeprecationWarning: __array_wrap__ must accept context and return_scalar arguments (positionally) in the future. (Deprecated NumPy 2.0)\n",
            "  np.cos(2 * x1),\n",
            "/var/folders/8k/lg3sbcy50673220wj1njz2z80000gn/T/ipykernel_14169/1404251248.py:15: DeprecationWarning: __array_wrap__ must accept context and return_scalar arguments (positionally) in the future. (Deprecated NumPy 2.0)\n",
            "  np.sin(y1),\n",
            "/var/folders/8k/lg3sbcy50673220wj1njz2z80000gn/T/ipykernel_14169/1404251248.py:16: DeprecationWarning: __array_wrap__ must accept context and return_scalar arguments (positionally) in the future. (Deprecated NumPy 2.0)\n",
            "  np.cos(y1),\n",
            "/var/folders/8k/lg3sbcy50673220wj1njz2z80000gn/T/ipykernel_14169/1404251248.py:17: DeprecationWarning: __array_wrap__ must accept context and return_scalar arguments (positionally) in the future. (Deprecated NumPy 2.0)\n",
            "  np.sin(2 * y1),\n",
            "/var/folders/8k/lg3sbcy50673220wj1njz2z80000gn/T/ipykernel_14169/1404251248.py:18: DeprecationWarning: __array_wrap__ must accept context and return_scalar arguments (positionally) in the future. (Deprecated NumPy 2.0)\n",
            "  np.cos(2 * y1),\n",
            "/var/folders/8k/lg3sbcy50673220wj1njz2z80000gn/T/ipykernel_14169/1404251248.py:22: DeprecationWarning: __array_wrap__ must accept context and return_scalar arguments (positionally) in the future. (Deprecated NumPy 2.0)\n",
            "  np.sin(x1) * np.cos(y1),\n",
            "/var/folders/8k/lg3sbcy50673220wj1njz2z80000gn/T/ipykernel_14169/1404251248.py:23: DeprecationWarning: __array_wrap__ must accept context and return_scalar arguments (positionally) in the future. (Deprecated NumPy 2.0)\n",
            "  np.cos(x1) * np.sin(y1),\n",
            "/var/folders/8k/lg3sbcy50673220wj1njz2z80000gn/T/ipykernel_14169/1404251248.py:24: DeprecationWarning: __array_wrap__ must accept context and return_scalar arguments (positionally) in the future. (Deprecated NumPy 2.0)\n",
            "  np.sin(x1 + y1),\n",
            "/var/folders/8k/lg3sbcy50673220wj1njz2z80000gn/T/ipykernel_14169/1404251248.py:25: DeprecationWarning: __array_wrap__ must accept context and return_scalar arguments (positionally) in the future. (Deprecated NumPy 2.0)\n",
            "  np.cos(x1 - y1),\n"
          ]
        }
      ],
      "source": [
        "\n",
        "from scipy.integrate import odeint\n",
        "informed_simulation = odeint(learned_pendulum_dynamics, test_initial_pendulum_config, t, args=(model, ))"
      ]
    },
    {
      "cell_type": "code",
      "execution_count": 89,
      "metadata": {},
      "outputs": [],
      "source": [
        "informed_simulation = informed_simulation.T\n",
        "informed_simulation[0] = loop_around_angles(informed_simulation[0])\n",
        "joints_over_time_informed = compute_joints_position(informed_simulation[0], L)"
      ]
    },
    {
      "cell_type": "code",
      "execution_count": 93,
      "metadata": {},
      "outputs": [],
      "source": [
        "animate_pendulum_versus(test_joints_over_time, joints_over_time_informed,\"our_informed_single_pendulum.mp4\", interval=0.003, fps=30)"
      ]
    },
    {
      "cell_type": "code",
      "execution_count": 91,
      "metadata": {},
      "outputs": [],
      "source": [
        "draw_state_diagrams(x_test_theta, informed_simulation[0], t_test, \"our_informed_single_simulation.png\")"
      ]
    },
    {
      "cell_type": "code",
      "execution_count": 92,
      "metadata": {},
      "outputs": [],
      "source": [
        "plot_progressive_erros(x_test_theta, informed_simulation[0], t_test, \"smoothed_noisy_errors.png\")"
      ]
    },
    {
      "cell_type": "markdown",
      "metadata": {},
      "source": [
        "### Impact of noisy data"
      ]
    },
    {
      "cell_type": "code",
      "execution_count": 94,
      "metadata": {},
      "outputs": [],
      "source": [
        "noise_magnitude = 0.001\n",
        "x_train_noise = x_train + np.random.normal(0, 1, x_train.shape) * noise_magnitude\n",
        "\n",
        "noise_magnitude = 0.001\n",
        "x_test_noise = x_test + np.random.normal(0, 1, x_test.shape) * noise_magnitude"
      ]
    },
    {
      "cell_type": "code",
      "execution_count": 95,
      "metadata": {},
      "outputs": [],
      "source": [
        "model = SindyModel(transform_fn=custom_features, alpha=1, l0_penalty=0.1)\n",
        "model.prepare_data(t, x_train_noise)\n",
        "model.fit()"
      ]
    },
    {
      "cell_type": "code",
      "execution_count": 96,
      "metadata": {},
      "outputs": [
        {
          "data": {
            "text/plain": [
              "array([[[  90.97020927,   32.05706109],\n",
              "        [ -31.15258862,  198.26331651],\n",
              "        [  39.99292622,  -21.39530603],\n",
              "        [  10.70860878,  -16.27162165],\n",
              "        [  -0.30886338,    0.        ],\n",
              "        [-132.01520386,   33.31264526],\n",
              "        [ -76.04976338,   76.85879811],\n",
              "        [ -23.19246874,    4.30342556],\n",
              "        [   9.5414803 ,    1.17373575],\n",
              "        [  27.46299437, -167.29628296],\n",
              "        [ -57.23016121,   31.79607744],\n",
              "        [   8.73870999,  -54.98165577],\n",
              "        [   1.4568133 ,   -2.63074149],\n",
              "        [  -0.30886338,    0.        ],\n",
              "        [ -10.91159862,   67.64033592],\n",
              "        [  22.1288349 ,  -27.85808593],\n",
              "        [ -10.17077049,   51.70955833],\n",
              "        [  30.7952163 , -185.95250994],\n",
              "        [  20.62444581, -134.24295161],\n",
              "        [   1.01598981,    0.        ]]])"
            ]
          },
          "execution_count": 96,
          "metadata": {},
          "output_type": "execute_result"
        }
      ],
      "source": [
        "model.coefficients().T"
      ]
    }
  ],
  "metadata": {
    "colab": {
      "provenance": []
    },
    "kernelspec": {
      "display_name": "Python 3",
      "name": "python3"
    },
    "language_info": {
      "codemirror_mode": {
        "name": "ipython",
        "version": 3
      },
      "file_extension": ".py",
      "mimetype": "text/x-python",
      "name": "python",
      "nbconvert_exporter": "python",
      "pygments_lexer": "ipython3",
      "version": "3.12.10"
    }
  },
  "nbformat": 4,
  "nbformat_minor": 0
}
